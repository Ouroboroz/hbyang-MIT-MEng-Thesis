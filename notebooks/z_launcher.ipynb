{
 "cells": [
  {
   "cell_type": "code",
   "execution_count": null,
   "id": "c05e7478-269e-433d-8875-077a1bb1d08f",
   "metadata": {},
   "outputs": [],
   "source": []
  },
  {
   "cell_type": "code",
   "execution_count": 1,
   "id": "a159fa03-17cc-46bf-8839-3e5c34991949",
   "metadata": {},
   "outputs": [],
   "source": [
    "import sys\n",
    "sys.path.append('/dccstor/hoo-misha-1/wilds/WOODS')\n",
    "#sys.path.append('/dccs|tor/hoo-misha-1/wilds/WOODS/scripts/')\n",
    "sys.path.append('/dccstor/hoo-misha-1/wilds/wilds')\n",
    "import numpy as np\n",
    "import torch\n",
    "import os\n",
    "\n",
    "from scripts.utils import *"
   ]
  },
  {
   "cell_type": "code",
   "execution_count": 2,
   "id": "1edaa2de-7824-49a9-b442-6833ba00e92e",
   "metadata": {},
   "outputs": [
    {
     "data": {
      "text/plain": [
       "'python examples/run_expt.py --root_dir data --log_dir logs/wassersteindeepCORAL --dataset iwildcam --algorithm wassersteindeepCORAL --seed 0 --lr 3e-05 --weight_decay 0 --coral_penalty_weight 100.0'"
      ]
     },
     "execution_count": 2,
     "metadata": {},
     "output_type": "execute_result"
    }
   ],
   "source": [
    "\"python examples/run_expt.py --root_dir data --log_dir logs/wassersteindeepCORAL --dataset iwildcam --algorithm wassersteindeepCORAL --seed 0 --lr 3e-05 --weight_decay 0 --coral_penalty_weight 100.0\""
   ]
  },
  {
   "cell_type": "code",
   "execution_count": 3,
   "id": "fd938949-24ed-4d4a-a0a8-dae8860b9b42",
   "metadata": {},
   "outputs": [],
   "source": [
    "# dataset = 'breeds'\n",
    "# for model in os.listdir(f'/dccstor/hoo-misha-1/wilds/wilds/pretrained/{dataset}'):\n",
    "#     if dataset == 'iwildcam':\n",
    "#         model = model[9:-4]\n",
    "#     if dataset == 'breeds':\n",
    "#         model = model[7:-4]\n",
    "#     elif dataset == 'camelyon17':\n",
    "#         model = model[11:-4]\n",
    "#     if model not in ['wassersteindeepCORAL']:\n",
    "#         continue\n",
    "#     save_path = f'/dccstor/hoo-misha-1/wilds/wilds/pretrained/iwildcam/iwildcam_{model}.pth'\n",
    "#     d = torch.load(save_path, map_location=torch.device('cpu'))\n",
    "#     alg = d['algorithm']\n",
    "#     if 'model.classifier.weight' in alg:\n",
    "#         weight = alg['model.classifier.weight']\n",
    "#         bias = alg['model.classifier.bias']\n",
    "#     elif 'classifier.weight' in alg:\n",
    "#         weight = alg['classifier.weight']\n",
    "#         bias = alg['classifier.bias']\n",
    "#     elif 'model.fc.bias' in alg:\n",
    "#         weight = alg['model.fc.weight']\n",
    "#         bias = alg['model.fc.bias']\n",
    "#     elif 'model.1.weight' in alg:\n",
    "#         weight = alg['model.1.weight']\n",
    "#         bias = alg['model.1.bias']\n",
    "#     else:\n",
    "#         raise Exception(f\"Cannot find classifier for {model}\")\n",
    "#     np.save(f'/dccstor/hoo-misha-1/wilds/WOODS/classifiers/iwildcam/iwildcam_{model}_classifier_weight.npy', weight)\n",
    "#     np.save(f'/dccstor/hoo-misha-1/wilds/WOODS/classifiers/iwildcam/iwildcam_{model}_classifier_bias.npy', bias)\n"
   ]
  },
  {
   "cell_type": "code",
   "execution_count": 4,
   "id": "ed99a40c-4ea2-4f3b-af50-fb313a8a6abd",
   "metadata": {},
   "outputs": [],
   "source": [
    "def runner_command(runner_name, dataset, model, sampler, args, wandb = False):\n",
    "    if dataset == 'camelyon17':\n",
    "        queue = 'x86_1h'\n",
    "    else:\n",
    "        # if 'iterative' in sampler:\n",
    "        #     queue = 'x86_24h'\n",
    "        if 'kmeans' in runner_name:\n",
    "            queue = 'x86_6h'\n",
    "        \n",
    "        else:\n",
    "            queue = 'x86_6h'\n",
    "    if not wandb:\n",
    "        return f'jbsub -q {queue} -cores 8 -mem 100g -proj {dataset} -name {model}_{sampler} python /dccstor/hoo-misha-1/wilds/WOODS/scripts/{runner_name}.py --no_rng --dataset {dataset} --model {model} --sampler {sampler} {args}'\n",
    "    return f'jbsub -q {queue} -cores 8 -mem 100g -proj {dataset} -name {model}_{sampler} python /dccstor/hoo-misha-1/wilds/WOODS/scripts/{runner_name}.py --no_rng --dataset {dataset} --model {model} {args} --use_wandb --reset'"
   ]
  },
  {
   "cell_type": "code",
   "execution_count": 8,
   "id": "70dd9ec8-0845-4126-84aa-8d7f18f1965e",
   "metadata": {},
   "outputs": [
    {
     "name": "stdout",
     "output_type": "stream",
     "text": [
      "/opt/share/exec/jbsub8 -q x86_6h -cores 8 -mem 100g -proj breeds -name ERM_iterative python /dccstor/hoo-misha-1/wilds/WOODS/scripts/kmeans_runner.py --no_rng --dataset breeds --model ERM --sampler iterative --weighted --density --precluster --typicality\n",
      "# bsub -q x86_6h -g /hbyang/_/breeds -J ERM_iterative -M 102400 -hl -n 8 -R \"rusage[mem=108544] span[ptile=8] affinity[core(1)]\" -oo /u/hbyang/.lsf/cccCluster/%J.stdout -eo /u/hbyang/.lsf/cccCluster/%J.stderr python /dccstor/hoo-misha-1/wilds/WOODS/scripts/kmeans_runner.py --no_rng --dataset breeds --model ERM --sampler iterative --weighted --density --precluster --typicality\n",
      "Job <2883269> is submitted to queue <x86_6h>.\n",
      "/opt/share/exec/jbsub8 -q x86_6h -cores 8 -mem 100g -proj breeds -name ERM_iterative python /dccstor/hoo-misha-1/wilds/WOODS/scripts/kmeans_runner.py --no_rng --dataset breeds --model ERM --sampler iterative --weighted --density --precluster\n",
      "# bsub -q x86_6h -g /hbyang/_/breeds -J ERM_iterative -M 102400 -hl -n 8 -R \"rusage[mem=108544] span[ptile=8] affinity[core(1)]\" -oo /u/hbyang/.lsf/cccCluster/%J.stdout -eo /u/hbyang/.lsf/cccCluster/%J.stderr python /dccstor/hoo-misha-1/wilds/WOODS/scripts/kmeans_runner.py --no_rng --dataset breeds --model ERM --sampler iterative --weighted --density --precluster\n",
      "Job <2883270> is submitted to queue <x86_6h>.\n",
      "/opt/share/exec/jbsub8 -q x86_6h -cores 8 -mem 100g -proj breeds -name ERM_iterative python /dccstor/hoo-misha-1/wilds/WOODS/scripts/kmeans_runner.py --no_rng --dataset breeds --model ERM --sampler iterative --weighted --density --typicality\n",
      "# bsub -q x86_6h -g /hbyang/_/breeds -J ERM_iterative -M 102400 -hl -n 8 -R \"rusage[mem=108544] span[ptile=8] affinity[core(1)]\" -oo /u/hbyang/.lsf/cccCluster/%J.stdout -eo /u/hbyang/.lsf/cccCluster/%J.stderr python /dccstor/hoo-misha-1/wilds/WOODS/scripts/kmeans_runner.py --no_rng --dataset breeds --model ERM --sampler iterative --weighted --density --typicality\n",
      "Job <2883271> is submitted to queue <x86_6h>.\n",
      "/opt/share/exec/jbsub8 -q x86_6h -cores 8 -mem 100g -proj breeds -name ERM_iterative python /dccstor/hoo-misha-1/wilds/WOODS/scripts/kmeans_runner.py --no_rng --dataset breeds --model ERM --sampler iterative --weighted --density\n",
      "# bsub -q x86_6h -g /hbyang/_/breeds -J ERM_iterative -M 102400 -hl -n 8 -R \"rusage[mem=108544] span[ptile=8] affinity[core(1)]\" -oo /u/hbyang/.lsf/cccCluster/%J.stdout -eo /u/hbyang/.lsf/cccCluster/%J.stderr python /dccstor/hoo-misha-1/wilds/WOODS/scripts/kmeans_runner.py --no_rng --dataset breeds --model ERM --sampler iterative --weighted --density\n",
      "Job <2883272> is submitted to queue <x86_6h>.\n",
      "/opt/share/exec/jbsub8 -q x86_6h -cores 8 -mem 100g -proj breeds -name ERM_iterative python /dccstor/hoo-misha-1/wilds/WOODS/scripts/kmeans_runner.py --no_rng --dataset breeds --model ERM --sampler iterative --weighted --precluster --typicality\n",
      "# bsub -q x86_6h -g /hbyang/_/breeds -J ERM_iterative -M 102400 -hl -n 8 -R \"rusage[mem=108544] span[ptile=8] affinity[core(1)]\" -oo /u/hbyang/.lsf/cccCluster/%J.stdout -eo /u/hbyang/.lsf/cccCluster/%J.stderr python /dccstor/hoo-misha-1/wilds/WOODS/scripts/kmeans_runner.py --no_rng --dataset breeds --model ERM --sampler iterative --weighted --precluster --typicality\n",
      "Job <2883273> is submitted to queue <x86_6h>.\n",
      "/opt/share/exec/jbsub8 -q x86_6h -cores 8 -mem 100g -proj breeds -name ERM_iterative python /dccstor/hoo-misha-1/wilds/WOODS/scripts/kmeans_runner.py --no_rng --dataset breeds --model ERM --sampler iterative --weighted --precluster\n",
      "# bsub -q x86_6h -g /hbyang/_/breeds -J ERM_iterative -M 102400 -hl -n 8 -R \"rusage[mem=108544] span[ptile=8] affinity[core(1)]\" -oo /u/hbyang/.lsf/cccCluster/%J.stdout -eo /u/hbyang/.lsf/cccCluster/%J.stderr python /dccstor/hoo-misha-1/wilds/WOODS/scripts/kmeans_runner.py --no_rng --dataset breeds --model ERM --sampler iterative --weighted --precluster\n",
      "Job <2883274> is submitted to queue <x86_6h>.\n",
      "/opt/share/exec/jbsub8 -q x86_6h -cores 8 -mem 100g -proj breeds -name ERM_iterative python /dccstor/hoo-misha-1/wilds/WOODS/scripts/kmeans_runner.py --no_rng --dataset breeds --model ERM --sampler iterative --weighted --typicality\n",
      "# bsub -q x86_6h -g /hbyang/_/breeds -J ERM_iterative -M 102400 -hl -n 8 -R \"rusage[mem=108544] span[ptile=8] affinity[core(1)]\" -oo /u/hbyang/.lsf/cccCluster/%J.stdout -eo /u/hbyang/.lsf/cccCluster/%J.stderr python /dccstor/hoo-misha-1/wilds/WOODS/scripts/kmeans_runner.py --no_rng --dataset breeds --model ERM --sampler iterative --weighted --typicality\n",
      "Job <2883275> is submitted to queue <x86_6h>.\n",
      "/opt/share/exec/jbsub8 -q x86_6h -cores 8 -mem 100g -proj breeds -name ERM_iterative python /dccstor/hoo-misha-1/wilds/WOODS/scripts/kmeans_runner.py --no_rng --dataset breeds --model ERM --sampler iterative --weighted\n",
      "# bsub -q x86_6h -g /hbyang/_/breeds -J ERM_iterative -M 102400 -hl -n 8 -R \"rusage[mem=108544] span[ptile=8] affinity[core(1)]\" -oo /u/hbyang/.lsf/cccCluster/%J.stdout -eo /u/hbyang/.lsf/cccCluster/%J.stderr python /dccstor/hoo-misha-1/wilds/WOODS/scripts/kmeans_runner.py --no_rng --dataset breeds --model ERM --sampler iterative --weighted\n",
      "Job <2883276> is submitted to queue <x86_6h>.\n",
      "/opt/share/exec/jbsub8 -q x86_6h -cores 8 -mem 100g -proj breeds -name ERM_iterative python /dccstor/hoo-misha-1/wilds/WOODS/scripts/kmeans_runner.py --no_rng --dataset breeds --model ERM --sampler iterative --density --precluster --typicality\n",
      "# bsub -q x86_6h -g /hbyang/_/breeds -J ERM_iterative -M 102400 -hl -n 8 -R \"rusage[mem=108544] span[ptile=8] affinity[core(1)]\" -oo /u/hbyang/.lsf/cccCluster/%J.stdout -eo /u/hbyang/.lsf/cccCluster/%J.stderr python /dccstor/hoo-misha-1/wilds/WOODS/scripts/kmeans_runner.py --no_rng --dataset breeds --model ERM --sampler iterative --density --precluster --typicality\n",
      "Job <2883277> is submitted to queue <x86_6h>.\n",
      "/opt/share/exec/jbsub8 -q x86_6h -cores 8 -mem 100g -proj breeds -name ERM_iterative python /dccstor/hoo-misha-1/wilds/WOODS/scripts/kmeans_runner.py --no_rng --dataset breeds --model ERM --sampler iterative --density --precluster\n",
      "# bsub -q x86_6h -g /hbyang/_/breeds -J ERM_iterative -M 102400 -hl -n 8 -R \"rusage[mem=108544] span[ptile=8] affinity[core(1)]\" -oo /u/hbyang/.lsf/cccCluster/%J.stdout -eo /u/hbyang/.lsf/cccCluster/%J.stderr python /dccstor/hoo-misha-1/wilds/WOODS/scripts/kmeans_runner.py --no_rng --dataset breeds --model ERM --sampler iterative --density --precluster\n",
      "Job <2883278> is submitted to queue <x86_6h>.\n",
      "/opt/share/exec/jbsub8 -q x86_6h -cores 8 -mem 100g -proj breeds -name ERM_iterative python /dccstor/hoo-misha-1/wilds/WOODS/scripts/kmeans_runner.py --no_rng --dataset breeds --model ERM --sampler iterative --density --typicality\n",
      "# bsub -q x86_6h -g /hbyang/_/breeds -J ERM_iterative -M 102400 -hl -n 8 -R \"rusage[mem=108544] span[ptile=8] affinity[core(1)]\" -oo /u/hbyang/.lsf/cccCluster/%J.stdout -eo /u/hbyang/.lsf/cccCluster/%J.stderr python /dccstor/hoo-misha-1/wilds/WOODS/scripts/kmeans_runner.py --no_rng --dataset breeds --model ERM --sampler iterative --density --typicality\n",
      "Job <2883279> is submitted to queue <x86_6h>.\n",
      "/opt/share/exec/jbsub8 -q x86_6h -cores 8 -mem 100g -proj breeds -name ERM_iterative python /dccstor/hoo-misha-1/wilds/WOODS/scripts/kmeans_runner.py --no_rng --dataset breeds --model ERM --sampler iterative --density\n",
      "# bsub -q x86_6h -g /hbyang/_/breeds -J ERM_iterative -M 102400 -hl -n 8 -R \"rusage[mem=108544] span[ptile=8] affinity[core(1)]\" -oo /u/hbyang/.lsf/cccCluster/%J.stdout -eo /u/hbyang/.lsf/cccCluster/%J.stderr python /dccstor/hoo-misha-1/wilds/WOODS/scripts/kmeans_runner.py --no_rng --dataset breeds --model ERM --sampler iterative --density\n",
      "Job <2883280> is submitted to queue <x86_6h>.\n",
      "/opt/share/exec/jbsub8 -q x86_6h -cores 8 -mem 100g -proj breeds -name ERM_iterative python /dccstor/hoo-misha-1/wilds/WOODS/scripts/kmeans_runner.py --no_rng --dataset breeds --model ERM --sampler iterative --precluster --typicality\n",
      "# bsub -q x86_6h -g /hbyang/_/breeds -J ERM_iterative -M 102400 -hl -n 8 -R \"rusage[mem=108544] span[ptile=8] affinity[core(1)]\" -oo /u/hbyang/.lsf/cccCluster/%J.stdout -eo /u/hbyang/.lsf/cccCluster/%J.stderr python /dccstor/hoo-misha-1/wilds/WOODS/scripts/kmeans_runner.py --no_rng --dataset breeds --model ERM --sampler iterative --precluster --typicality\n",
      "Job <2883281> is submitted to queue <x86_6h>.\n",
      "/opt/share/exec/jbsub8 -q x86_6h -cores 8 -mem 100g -proj breeds -name ERM_iterative python /dccstor/hoo-misha-1/wilds/WOODS/scripts/kmeans_runner.py --no_rng --dataset breeds --model ERM --sampler iterative --precluster\n",
      "# bsub -q x86_6h -g /hbyang/_/breeds -J ERM_iterative -M 102400 -hl -n 8 -R \"rusage[mem=108544] span[ptile=8] affinity[core(1)]\" -oo /u/hbyang/.lsf/cccCluster/%J.stdout -eo /u/hbyang/.lsf/cccCluster/%J.stderr python /dccstor/hoo-misha-1/wilds/WOODS/scripts/kmeans_runner.py --no_rng --dataset breeds --model ERM --sampler iterative --precluster\n",
      "Job <2883282> is submitted to queue <x86_6h>.\n",
      "/opt/share/exec/jbsub8 -q x86_6h -cores 8 -mem 100g -proj breeds -name ERM_iterative python /dccstor/hoo-misha-1/wilds/WOODS/scripts/kmeans_runner.py --no_rng --dataset breeds --model ERM --sampler iterative --typicality\n",
      "# bsub -q x86_6h -g /hbyang/_/breeds -J ERM_iterative -M 102400 -hl -n 8 -R \"rusage[mem=108544] span[ptile=8] affinity[core(1)]\" -oo /u/hbyang/.lsf/cccCluster/%J.stdout -eo /u/hbyang/.lsf/cccCluster/%J.stderr python /dccstor/hoo-misha-1/wilds/WOODS/scripts/kmeans_runner.py --no_rng --dataset breeds --model ERM --sampler iterative --typicality\n",
      "Job <2883283> is submitted to queue <x86_6h>.\n",
      "/opt/share/exec/jbsub8 -q x86_6h -cores 8 -mem 100g -proj breeds -name ERM_iterative python /dccstor/hoo-misha-1/wilds/WOODS/scripts/kmeans_runner.py --no_rng --dataset breeds --model ERM --sampler iterative\n",
      "# bsub -q x86_6h -g /hbyang/_/breeds -J ERM_iterative -M 102400 -hl -n 8 -R \"rusage[mem=108544] span[ptile=8] affinity[core(1)]\" -oo /u/hbyang/.lsf/cccCluster/%J.stdout -eo /u/hbyang/.lsf/cccCluster/%J.stderr python /dccstor/hoo-misha-1/wilds/WOODS/scripts/kmeans_runner.py --no_rng --dataset breeds --model ERM --sampler iterative\n",
      "Job <2883284> is submitted to queue <x86_6h>.\n"
     ]
    }
   ],
   "source": [
    "dataset = 'iwildcam'\n",
    "sampling_algorithms_dict = {'balanced':'balanced_sample_ind', 'full':'full_kmeans_sample_ind', 'class':'class_kmeans_sample_ind' , 'typiclust':'0'}\n",
    "for model in os.listdir(f'/dccstor/hoo-misha-1/wilds/wilds/pretrained/{dataset}'):\n",
    "    if dataset == 'iwildcam':\n",
    "        model = model[9:-4]\n",
    "    if dataset == 'breeds':\n",
    "        model = model[7:-4]\n",
    "    elif dataset == 'camelyon17':\n",
    "        model = model[11:-4]\n",
    "    elif dataset == 'cifar100':\n",
    "        model = model[9:-4]\n",
    "    try: \n",
    "        os.makedirs(f'/dccstor/hoo-misha-1/wilds/WOODS/results/{dataset}/{model}')\n",
    "    except:\n",
    "        pass\n",
    "    # for sampler in sampling_algorithms_dict:\n",
    "    #     os.system(runner_command(runner_name='runner', dataset=dataset, model=model, sampler = sampler, args = ' '))\n",
    "    # continue\n",
    "    for sampler in ['iterative']:\n",
    "        for weighted in ['--weighted', '']:\n",
    "            for density in ['--density', '']:\n",
    "                for precluster in ['--precluster', '']:\n",
    "                    for typicality in ['--typicality', '']:\n",
    "                        args = ' '.join([weighted, density, precluster, typicality])\n",
    "\n",
    "                        os.system(runner_command(runner_name='kmeans_runner', dataset=dataset, model=model, sampler = sampler, args = args))"
   ]
  },
  {
   "cell_type": "code",
   "execution_count": null,
   "id": "4bca2360-5c89-444c-9c36-2d101a1a2598",
   "metadata": {},
   "outputs": [],
   "source": []
  }
 ],
 "metadata": {
  "kernelspec": {
   "display_name": "Python 3 (ipykernel)",
   "language": "python",
   "name": "python3"
  },
  "language_info": {
   "codemirror_mode": {
    "name": "ipython",
    "version": 3
   },
   "file_extension": ".py",
   "mimetype": "text/x-python",
   "name": "python",
   "nbconvert_exporter": "python",
   "pygments_lexer": "ipython3",
   "version": "3.8.13"
  }
 },
 "nbformat": 4,
 "nbformat_minor": 5
}
