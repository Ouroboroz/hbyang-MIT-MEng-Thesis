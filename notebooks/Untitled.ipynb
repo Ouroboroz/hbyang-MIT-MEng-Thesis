{
 "cells": [
  {
   "cell_type": "code",
   "execution_count": 5,
   "id": "14189125-4db2-4d45-8068-5cf4575ac758",
   "metadata": {},
   "outputs": [],
   "source": [
    "import sys\n",
    "sys.path.append('/dccstor/hoo-misha-1/wilds/WOODS')\n",
    "#sys.path.append('/dccs|tor/hoo-misha-1/wilds/WOODS/scripts/')\n",
    "sys.path.append('/dccstor/hoo-misha-1/wilds/wilds')\n",
    "import numpy as np\n",
    "import torch\n",
    "import os\n",
    "\n",
    "import argparse\n",
    "\n",
    "from scripts.utils import *\n",
    "\n",
    "import torch\n",
    "import torchvision\n",
    "import numpy as np\n",
    "import matplotlib.pyplot as plt\n",
    "import torch.nn as nn\n",
    "import torch.nn.functional as F\n",
    "from torchvision.datasets import CIFAR100\n",
    "from torchvision.transforms import ToTensor\n",
    "from torchvision.utils import make_grid\n",
    "from torch.utils.data.dataloader import DataLoader\n",
    "from torch.utils.data import random_split\n",
    "%matplotlib inline"
   ]
  },
  {
   "cell_type": "code",
   "execution_count": 20,
   "id": "12329b07-f696-44ee-8932-dc4471bd9880",
   "metadata": {},
   "outputs": [],
   "source": [
    "model_base = '/dccstor/hoo-misha-1/wilds/wilds/pretrained/cifar100'\n",
    "classifier_base = '/dccstor/hoo-misha-1/wilds/WOODS/classifiers/cifar100'"
   ]
  },
  {
   "cell_type": "code",
   "execution_count": 41,
   "id": "691cc25e-94e8-4aa1-bcb3-a7675b366e9d",
   "metadata": {},
   "outputs": [],
   "source": [
    "model = 'DANN'"
   ]
  },
  {
   "cell_type": "code",
   "execution_count": 42,
   "id": "bf03e8fa-3eae-419e-b600-d3bfb676b49a",
   "metadata": {},
   "outputs": [],
   "source": [
    "model_path = model_base + f'/cifar100_{model}.pth'\n",
    "classifier_weight_path = classifier_base + f'/cifar100_{model}_classifier_weight.npy'\n",
    "classifier_bias_path = classifier_base + f'/cifar100_{model}_classifier_bias.npy'"
   ]
  },
  {
   "cell_type": "code",
   "execution_count": 43,
   "id": "49b51bec-117c-4ca1-b299-d0a2755d6c84",
   "metadata": {},
   "outputs": [],
   "source": [
    "algo_dic = torch.load(model_path, map_location='cpu')"
   ]
  },
  {
   "cell_type": "code",
   "execution_count": 44,
   "id": "69dd6958-338a-49f1-b950-9f21bf4bdb4c",
   "metadata": {},
   "outputs": [],
   "source": [
    "algo = algo_dic['algorithm']"
   ]
  },
  {
   "cell_type": "code",
   "execution_count": 45,
   "id": "a39af0a0-afe3-4f21-aa90-bdb31e785ad5",
   "metadata": {},
   "outputs": [
    {
     "data": {
      "text/plain": [
       "['model.domain_classifier.4.running_var',\n",
       " 'model.domain_classifier.4.num_batches_tracked',\n",
       " 'model.domain_classifier.6.weight',\n",
       " 'model.domain_classifier.6.bias']"
      ]
     },
     "execution_count": 45,
     "metadata": {},
     "output_type": "execute_result"
    }
   ],
   "source": [
    "list(algo.keys())[-4:]"
   ]
  },
  {
   "cell_type": "code",
   "execution_count": 46,
   "id": "07efd300-bb35-4038-b7ff-a56e7d6f2a35",
   "metadata": {},
   "outputs": [
    {
     "data": {
      "text/plain": [
       "odict_keys(['model.featurizer.conv1.weight', 'model.featurizer.bn1.weight', 'model.featurizer.bn1.bias', 'model.featurizer.bn1.running_mean', 'model.featurizer.bn1.running_var', 'model.featurizer.bn1.num_batches_tracked', 'model.featurizer.layer1.0.conv1.weight', 'model.featurizer.layer1.0.bn1.weight', 'model.featurizer.layer1.0.bn1.bias', 'model.featurizer.layer1.0.bn1.running_mean', 'model.featurizer.layer1.0.bn1.running_var', 'model.featurizer.layer1.0.bn1.num_batches_tracked', 'model.featurizer.layer1.0.conv2.weight', 'model.featurizer.layer1.0.bn2.weight', 'model.featurizer.layer1.0.bn2.bias', 'model.featurizer.layer1.0.bn2.running_mean', 'model.featurizer.layer1.0.bn2.running_var', 'model.featurizer.layer1.0.bn2.num_batches_tracked', 'model.featurizer.layer1.0.conv3.weight', 'model.featurizer.layer1.0.bn3.weight', 'model.featurizer.layer1.0.bn3.bias', 'model.featurizer.layer1.0.bn3.running_mean', 'model.featurizer.layer1.0.bn3.running_var', 'model.featurizer.layer1.0.bn3.num_batches_tracked', 'model.featurizer.layer1.0.downsample.0.weight', 'model.featurizer.layer1.0.downsample.1.weight', 'model.featurizer.layer1.0.downsample.1.bias', 'model.featurizer.layer1.0.downsample.1.running_mean', 'model.featurizer.layer1.0.downsample.1.running_var', 'model.featurizer.layer1.0.downsample.1.num_batches_tracked', 'model.featurizer.layer1.1.conv1.weight', 'model.featurizer.layer1.1.bn1.weight', 'model.featurizer.layer1.1.bn1.bias', 'model.featurizer.layer1.1.bn1.running_mean', 'model.featurizer.layer1.1.bn1.running_var', 'model.featurizer.layer1.1.bn1.num_batches_tracked', 'model.featurizer.layer1.1.conv2.weight', 'model.featurizer.layer1.1.bn2.weight', 'model.featurizer.layer1.1.bn2.bias', 'model.featurizer.layer1.1.bn2.running_mean', 'model.featurizer.layer1.1.bn2.running_var', 'model.featurizer.layer1.1.bn2.num_batches_tracked', 'model.featurizer.layer1.1.conv3.weight', 'model.featurizer.layer1.1.bn3.weight', 'model.featurizer.layer1.1.bn3.bias', 'model.featurizer.layer1.1.bn3.running_mean', 'model.featurizer.layer1.1.bn3.running_var', 'model.featurizer.layer1.1.bn3.num_batches_tracked', 'model.featurizer.layer1.2.conv1.weight', 'model.featurizer.layer1.2.bn1.weight', 'model.featurizer.layer1.2.bn1.bias', 'model.featurizer.layer1.2.bn1.running_mean', 'model.featurizer.layer1.2.bn1.running_var', 'model.featurizer.layer1.2.bn1.num_batches_tracked', 'model.featurizer.layer1.2.conv2.weight', 'model.featurizer.layer1.2.bn2.weight', 'model.featurizer.layer1.2.bn2.bias', 'model.featurizer.layer1.2.bn2.running_mean', 'model.featurizer.layer1.2.bn2.running_var', 'model.featurizer.layer1.2.bn2.num_batches_tracked', 'model.featurizer.layer1.2.conv3.weight', 'model.featurizer.layer1.2.bn3.weight', 'model.featurizer.layer1.2.bn3.bias', 'model.featurizer.layer1.2.bn3.running_mean', 'model.featurizer.layer1.2.bn3.running_var', 'model.featurizer.layer1.2.bn3.num_batches_tracked', 'model.featurizer.layer2.0.conv1.weight', 'model.featurizer.layer2.0.bn1.weight', 'model.featurizer.layer2.0.bn1.bias', 'model.featurizer.layer2.0.bn1.running_mean', 'model.featurizer.layer2.0.bn1.running_var', 'model.featurizer.layer2.0.bn1.num_batches_tracked', 'model.featurizer.layer2.0.conv2.weight', 'model.featurizer.layer2.0.bn2.weight', 'model.featurizer.layer2.0.bn2.bias', 'model.featurizer.layer2.0.bn2.running_mean', 'model.featurizer.layer2.0.bn2.running_var', 'model.featurizer.layer2.0.bn2.num_batches_tracked', 'model.featurizer.layer2.0.conv3.weight', 'model.featurizer.layer2.0.bn3.weight', 'model.featurizer.layer2.0.bn3.bias', 'model.featurizer.layer2.0.bn3.running_mean', 'model.featurizer.layer2.0.bn3.running_var', 'model.featurizer.layer2.0.bn3.num_batches_tracked', 'model.featurizer.layer2.0.downsample.0.weight', 'model.featurizer.layer2.0.downsample.1.weight', 'model.featurizer.layer2.0.downsample.1.bias', 'model.featurizer.layer2.0.downsample.1.running_mean', 'model.featurizer.layer2.0.downsample.1.running_var', 'model.featurizer.layer2.0.downsample.1.num_batches_tracked', 'model.featurizer.layer2.1.conv1.weight', 'model.featurizer.layer2.1.bn1.weight', 'model.featurizer.layer2.1.bn1.bias', 'model.featurizer.layer2.1.bn1.running_mean', 'model.featurizer.layer2.1.bn1.running_var', 'model.featurizer.layer2.1.bn1.num_batches_tracked', 'model.featurizer.layer2.1.conv2.weight', 'model.featurizer.layer2.1.bn2.weight', 'model.featurizer.layer2.1.bn2.bias', 'model.featurizer.layer2.1.bn2.running_mean', 'model.featurizer.layer2.1.bn2.running_var', 'model.featurizer.layer2.1.bn2.num_batches_tracked', 'model.featurizer.layer2.1.conv3.weight', 'model.featurizer.layer2.1.bn3.weight', 'model.featurizer.layer2.1.bn3.bias', 'model.featurizer.layer2.1.bn3.running_mean', 'model.featurizer.layer2.1.bn3.running_var', 'model.featurizer.layer2.1.bn3.num_batches_tracked', 'model.featurizer.layer2.2.conv1.weight', 'model.featurizer.layer2.2.bn1.weight', 'model.featurizer.layer2.2.bn1.bias', 'model.featurizer.layer2.2.bn1.running_mean', 'model.featurizer.layer2.2.bn1.running_var', 'model.featurizer.layer2.2.bn1.num_batches_tracked', 'model.featurizer.layer2.2.conv2.weight', 'model.featurizer.layer2.2.bn2.weight', 'model.featurizer.layer2.2.bn2.bias', 'model.featurizer.layer2.2.bn2.running_mean', 'model.featurizer.layer2.2.bn2.running_var', 'model.featurizer.layer2.2.bn2.num_batches_tracked', 'model.featurizer.layer2.2.conv3.weight', 'model.featurizer.layer2.2.bn3.weight', 'model.featurizer.layer2.2.bn3.bias', 'model.featurizer.layer2.2.bn3.running_mean', 'model.featurizer.layer2.2.bn3.running_var', 'model.featurizer.layer2.2.bn3.num_batches_tracked', 'model.featurizer.layer2.3.conv1.weight', 'model.featurizer.layer2.3.bn1.weight', 'model.featurizer.layer2.3.bn1.bias', 'model.featurizer.layer2.3.bn1.running_mean', 'model.featurizer.layer2.3.bn1.running_var', 'model.featurizer.layer2.3.bn1.num_batches_tracked', 'model.featurizer.layer2.3.conv2.weight', 'model.featurizer.layer2.3.bn2.weight', 'model.featurizer.layer2.3.bn2.bias', 'model.featurizer.layer2.3.bn2.running_mean', 'model.featurizer.layer2.3.bn2.running_var', 'model.featurizer.layer2.3.bn2.num_batches_tracked', 'model.featurizer.layer2.3.conv3.weight', 'model.featurizer.layer2.3.bn3.weight', 'model.featurizer.layer2.3.bn3.bias', 'model.featurizer.layer2.3.bn3.running_mean', 'model.featurizer.layer2.3.bn3.running_var', 'model.featurizer.layer2.3.bn3.num_batches_tracked', 'model.featurizer.layer3.0.conv1.weight', 'model.featurizer.layer3.0.bn1.weight', 'model.featurizer.layer3.0.bn1.bias', 'model.featurizer.layer3.0.bn1.running_mean', 'model.featurizer.layer3.0.bn1.running_var', 'model.featurizer.layer3.0.bn1.num_batches_tracked', 'model.featurizer.layer3.0.conv2.weight', 'model.featurizer.layer3.0.bn2.weight', 'model.featurizer.layer3.0.bn2.bias', 'model.featurizer.layer3.0.bn2.running_mean', 'model.featurizer.layer3.0.bn2.running_var', 'model.featurizer.layer3.0.bn2.num_batches_tracked', 'model.featurizer.layer3.0.conv3.weight', 'model.featurizer.layer3.0.bn3.weight', 'model.featurizer.layer3.0.bn3.bias', 'model.featurizer.layer3.0.bn3.running_mean', 'model.featurizer.layer3.0.bn3.running_var', 'model.featurizer.layer3.0.bn3.num_batches_tracked', 'model.featurizer.layer3.0.downsample.0.weight', 'model.featurizer.layer3.0.downsample.1.weight', 'model.featurizer.layer3.0.downsample.1.bias', 'model.featurizer.layer3.0.downsample.1.running_mean', 'model.featurizer.layer3.0.downsample.1.running_var', 'model.featurizer.layer3.0.downsample.1.num_batches_tracked', 'model.featurizer.layer3.1.conv1.weight', 'model.featurizer.layer3.1.bn1.weight', 'model.featurizer.layer3.1.bn1.bias', 'model.featurizer.layer3.1.bn1.running_mean', 'model.featurizer.layer3.1.bn1.running_var', 'model.featurizer.layer3.1.bn1.num_batches_tracked', 'model.featurizer.layer3.1.conv2.weight', 'model.featurizer.layer3.1.bn2.weight', 'model.featurizer.layer3.1.bn2.bias', 'model.featurizer.layer3.1.bn2.running_mean', 'model.featurizer.layer3.1.bn2.running_var', 'model.featurizer.layer3.1.bn2.num_batches_tracked', 'model.featurizer.layer3.1.conv3.weight', 'model.featurizer.layer3.1.bn3.weight', 'model.featurizer.layer3.1.bn3.bias', 'model.featurizer.layer3.1.bn3.running_mean', 'model.featurizer.layer3.1.bn3.running_var', 'model.featurizer.layer3.1.bn3.num_batches_tracked', 'model.featurizer.layer3.2.conv1.weight', 'model.featurizer.layer3.2.bn1.weight', 'model.featurizer.layer3.2.bn1.bias', 'model.featurizer.layer3.2.bn1.running_mean', 'model.featurizer.layer3.2.bn1.running_var', 'model.featurizer.layer3.2.bn1.num_batches_tracked', 'model.featurizer.layer3.2.conv2.weight', 'model.featurizer.layer3.2.bn2.weight', 'model.featurizer.layer3.2.bn2.bias', 'model.featurizer.layer3.2.bn2.running_mean', 'model.featurizer.layer3.2.bn2.running_var', 'model.featurizer.layer3.2.bn2.num_batches_tracked', 'model.featurizer.layer3.2.conv3.weight', 'model.featurizer.layer3.2.bn3.weight', 'model.featurizer.layer3.2.bn3.bias', 'model.featurizer.layer3.2.bn3.running_mean', 'model.featurizer.layer3.2.bn3.running_var', 'model.featurizer.layer3.2.bn3.num_batches_tracked', 'model.featurizer.layer3.3.conv1.weight', 'model.featurizer.layer3.3.bn1.weight', 'model.featurizer.layer3.3.bn1.bias', 'model.featurizer.layer3.3.bn1.running_mean', 'model.featurizer.layer3.3.bn1.running_var', 'model.featurizer.layer3.3.bn1.num_batches_tracked', 'model.featurizer.layer3.3.conv2.weight', 'model.featurizer.layer3.3.bn2.weight', 'model.featurizer.layer3.3.bn2.bias', 'model.featurizer.layer3.3.bn2.running_mean', 'model.featurizer.layer3.3.bn2.running_var', 'model.featurizer.layer3.3.bn2.num_batches_tracked', 'model.featurizer.layer3.3.conv3.weight', 'model.featurizer.layer3.3.bn3.weight', 'model.featurizer.layer3.3.bn3.bias', 'model.featurizer.layer3.3.bn3.running_mean', 'model.featurizer.layer3.3.bn3.running_var', 'model.featurizer.layer3.3.bn3.num_batches_tracked', 'model.featurizer.layer3.4.conv1.weight', 'model.featurizer.layer3.4.bn1.weight', 'model.featurizer.layer3.4.bn1.bias', 'model.featurizer.layer3.4.bn1.running_mean', 'model.featurizer.layer3.4.bn1.running_var', 'model.featurizer.layer3.4.bn1.num_batches_tracked', 'model.featurizer.layer3.4.conv2.weight', 'model.featurizer.layer3.4.bn2.weight', 'model.featurizer.layer3.4.bn2.bias', 'model.featurizer.layer3.4.bn2.running_mean', 'model.featurizer.layer3.4.bn2.running_var', 'model.featurizer.layer3.4.bn2.num_batches_tracked', 'model.featurizer.layer3.4.conv3.weight', 'model.featurizer.layer3.4.bn3.weight', 'model.featurizer.layer3.4.bn3.bias', 'model.featurizer.layer3.4.bn3.running_mean', 'model.featurizer.layer3.4.bn3.running_var', 'model.featurizer.layer3.4.bn3.num_batches_tracked', 'model.featurizer.layer3.5.conv1.weight', 'model.featurizer.layer3.5.bn1.weight', 'model.featurizer.layer3.5.bn1.bias', 'model.featurizer.layer3.5.bn1.running_mean', 'model.featurizer.layer3.5.bn1.running_var', 'model.featurizer.layer3.5.bn1.num_batches_tracked', 'model.featurizer.layer3.5.conv2.weight', 'model.featurizer.layer3.5.bn2.weight', 'model.featurizer.layer3.5.bn2.bias', 'model.featurizer.layer3.5.bn2.running_mean', 'model.featurizer.layer3.5.bn2.running_var', 'model.featurizer.layer3.5.bn2.num_batches_tracked', 'model.featurizer.layer3.5.conv3.weight', 'model.featurizer.layer3.5.bn3.weight', 'model.featurizer.layer3.5.bn3.bias', 'model.featurizer.layer3.5.bn3.running_mean', 'model.featurizer.layer3.5.bn3.running_var', 'model.featurizer.layer3.5.bn3.num_batches_tracked', 'model.featurizer.layer4.0.conv1.weight', 'model.featurizer.layer4.0.bn1.weight', 'model.featurizer.layer4.0.bn1.bias', 'model.featurizer.layer4.0.bn1.running_mean', 'model.featurizer.layer4.0.bn1.running_var', 'model.featurizer.layer4.0.bn1.num_batches_tracked', 'model.featurizer.layer4.0.conv2.weight', 'model.featurizer.layer4.0.bn2.weight', 'model.featurizer.layer4.0.bn2.bias', 'model.featurizer.layer4.0.bn2.running_mean', 'model.featurizer.layer4.0.bn2.running_var', 'model.featurizer.layer4.0.bn2.num_batches_tracked', 'model.featurizer.layer4.0.conv3.weight', 'model.featurizer.layer4.0.bn3.weight', 'model.featurizer.layer4.0.bn3.bias', 'model.featurizer.layer4.0.bn3.running_mean', 'model.featurizer.layer4.0.bn3.running_var', 'model.featurizer.layer4.0.bn3.num_batches_tracked', 'model.featurizer.layer4.0.downsample.0.weight', 'model.featurizer.layer4.0.downsample.1.weight', 'model.featurizer.layer4.0.downsample.1.bias', 'model.featurizer.layer4.0.downsample.1.running_mean', 'model.featurizer.layer4.0.downsample.1.running_var', 'model.featurizer.layer4.0.downsample.1.num_batches_tracked', 'model.featurizer.layer4.1.conv1.weight', 'model.featurizer.layer4.1.bn1.weight', 'model.featurizer.layer4.1.bn1.bias', 'model.featurizer.layer4.1.bn1.running_mean', 'model.featurizer.layer4.1.bn1.running_var', 'model.featurizer.layer4.1.bn1.num_batches_tracked', 'model.featurizer.layer4.1.conv2.weight', 'model.featurizer.layer4.1.bn2.weight', 'model.featurizer.layer4.1.bn2.bias', 'model.featurizer.layer4.1.bn2.running_mean', 'model.featurizer.layer4.1.bn2.running_var', 'model.featurizer.layer4.1.bn2.num_batches_tracked', 'model.featurizer.layer4.1.conv3.weight', 'model.featurizer.layer4.1.bn3.weight', 'model.featurizer.layer4.1.bn3.bias', 'model.featurizer.layer4.1.bn3.running_mean', 'model.featurizer.layer4.1.bn3.running_var', 'model.featurizer.layer4.1.bn3.num_batches_tracked', 'model.featurizer.layer4.2.conv1.weight', 'model.featurizer.layer4.2.bn1.weight', 'model.featurizer.layer4.2.bn1.bias', 'model.featurizer.layer4.2.bn1.running_mean', 'model.featurizer.layer4.2.bn1.running_var', 'model.featurizer.layer4.2.bn1.num_batches_tracked', 'model.featurizer.layer4.2.conv2.weight', 'model.featurizer.layer4.2.bn2.weight', 'model.featurizer.layer4.2.bn2.bias', 'model.featurizer.layer4.2.bn2.running_mean', 'model.featurizer.layer4.2.bn2.running_var', 'model.featurizer.layer4.2.bn2.num_batches_tracked', 'model.featurizer.layer4.2.conv3.weight', 'model.featurizer.layer4.2.bn3.weight', 'model.featurizer.layer4.2.bn3.bias', 'model.featurizer.layer4.2.bn3.running_mean', 'model.featurizer.layer4.2.bn3.running_var', 'model.featurizer.layer4.2.bn3.num_batches_tracked', 'model.classifier.weight', 'model.classifier.bias', 'model.domain_classifier.0.weight', 'model.domain_classifier.0.bias', 'model.domain_classifier.1.weight', 'model.domain_classifier.1.bias', 'model.domain_classifier.1.running_mean', 'model.domain_classifier.1.running_var', 'model.domain_classifier.1.num_batches_tracked', 'model.domain_classifier.3.weight', 'model.domain_classifier.3.bias', 'model.domain_classifier.4.weight', 'model.domain_classifier.4.bias', 'model.domain_classifier.4.running_mean', 'model.domain_classifier.4.running_var', 'model.domain_classifier.4.num_batches_tracked', 'model.domain_classifier.6.weight', 'model.domain_classifier.6.bias'])"
      ]
     },
     "execution_count": 46,
     "metadata": {},
     "output_type": "execute_result"
    }
   ],
   "source": [
    "algo.keys()"
   ]
  },
  {
   "cell_type": "code",
   "execution_count": 47,
   "id": "dd3597c1-7541-4ed7-b632-050985bcb6b7",
   "metadata": {},
   "outputs": [],
   "source": [
    "if model == 'ERM':\n",
    "    classifier_weight = algo['model.fc.weight']\n",
    "    classifier_bias = algo['model.fc.bias']\n",
    "elif model == 'deepCORAL':\n",
    "    classifier_weight = algo['classifier.weight']\n",
    "    classifier_bias = algo['classifier.bias']\n",
    "elif model == 'wassersteindeepCORAL':\n",
    "    classifier_weight = algo['classifier.weight']\n",
    "    classifier_bias = algo['classifier.bias']\n",
    "elif model == 'DANN':\n",
    "    classifier_weight = algo['model.classifier.weight']\n",
    "    classifier_bias = algo['model.classifier.bias']"
   ]
  },
  {
   "cell_type": "code",
   "execution_count": 48,
   "id": "6a038834-1fa5-4e40-a0c9-a3ad816c5b79",
   "metadata": {},
   "outputs": [],
   "source": [
    "classifier_weight = classifier_weight.numpy()\n",
    "classifier_bias = classifier_bias.numpy()"
   ]
  },
  {
   "cell_type": "code",
   "execution_count": 49,
   "id": "9cc03b2f-b4a9-4026-9e53-d69dbea0e2b3",
   "metadata": {},
   "outputs": [],
   "source": [
    "np.save(classifier_weight_path, classifier_weight)\n",
    "np.save(classifier_bias_path, classifier_bias)"
   ]
  },
  {
   "cell_type": "code",
   "execution_count": null,
   "id": "e02637a6-4d44-4e72-965e-63ff7200e2fc",
   "metadata": {},
   "outputs": [],
   "source": []
  }
 ],
 "metadata": {
  "kernelspec": {
   "display_name": "Python 3 (ipykernel)",
   "language": "python",
   "name": "python3"
  },
  "language_info": {
   "codemirror_mode": {
    "name": "ipython",
    "version": 3
   },
   "file_extension": ".py",
   "mimetype": "text/x-python",
   "name": "python",
   "nbconvert_exporter": "python",
   "pygments_lexer": "ipython3",
   "version": "3.8.13"
  }
 },
 "nbformat": 4,
 "nbformat_minor": 5
}
