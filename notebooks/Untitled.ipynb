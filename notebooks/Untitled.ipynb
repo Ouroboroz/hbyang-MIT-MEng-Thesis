{
 "cells": [
  {
   "cell_type": "code",
   "execution_count": 9,
   "id": "a159fa03-17cc-46bf-8839-3e5c34991949",
   "metadata": {},
   "outputs": [],
   "source": [
    "import sys\n",
    "sys.path.append('/dccstor/hoo-misha-1/wilds/WOODS')\n",
    "\n",
    "import numpy as np\n",
    "import torch\n",
    "import os\n",
    "\n",
    "from scripts.utils import *"
   ]
  },
  {
   "cell_type": "code",
   "execution_count": 10,
   "id": "fd938949-24ed-4d4a-a0a8-dae8860b9b42",
   "metadata": {},
   "outputs": [],
   "source": [
    "# for model in os.listdir('/dccstor/hoo-misha-1/wilds/wilds/pretrained/iwildcam'):\n",
    "#     model = model[9:-4]\n",
    "#     save_path = f'/dccstor/hoo-misha-1/wilds/wilds/pretrained/iwildcam/iwildcam_{model}.pth'\n",
    "#     d = torch.load(save_path, map_location=torch.device('cpu'))\n",
    "#     alg = d['algorithm']\n",
    "#     if 'model.classifier.weight' in alg:\n",
    "#         weight = alg['model.classifier.weight']\n",
    "#         bias = alg['model.classifier.bias']\n",
    "#     elif 'classifier.weight' in alg:\n",
    "#         weight = alg['classifier.weight']\n",
    "#         bias = alg['classifier.bias']\n",
    "#     elif 'model.fc.bias' in alg:\n",
    "#         weight = alg['model.fc.weight']\n",
    "#         bias = alg['model.fc.bias']\n",
    "#     elif 'model.1.weight' in alg:\n",
    "#         weight = alg['model.1.weight']\n",
    "#         bias = alg['model.1.bias']\n",
    "#     else:\n",
    "#         raise Exception(f\"Cannot find classifier for {model}\")\n",
    "#     np.save(f'/dccstor/hoo-misha-1/wilds/WOODS/classifiers/iwildcam/iwildcam_{model}_classifier_weight.npy', weight)\n",
    "#     np.save(f'/dccstor/hoo-misha-1/wilds/WOODS/classifiers/iwildcam/iwildcam_{model}_classifier_bias.npy', bias)\n"
   ]
  },
  {
   "cell_type": "code",
   "execution_count": 11,
   "id": "76c0b0f8-e8ec-43b9-9476-2aa4db2f3e19",
   "metadata": {},
   "outputs": [],
   "source": [
    "set_path_base(f'/dccstor/hoo-misha-1/wilds/wilds/features/iwildcam/ERM')"
   ]
  },
  {
   "cell_type": "code",
   "execution_count": 12,
   "id": "461d406c-6482-4c52-9afe-b268af515f82",
   "metadata": {},
   "outputs": [],
   "source": [
    "rng = np.random.default_rng(2022)\n",
    "random_state = 0"
   ]
  },
  {
   "cell_type": "code",
   "execution_count": 13,
   "id": "271842a9-8256-4113-8b67-627f5f90ca60",
   "metadata": {},
   "outputs": [],
   "source": [
    "set_random_state(rng, random_state)"
   ]
  },
  {
   "cell_type": "code",
   "execution_count": 14,
   "id": "54a28307-d265-4571-b988-417316579b23",
   "metadata": {},
   "outputs": [],
   "source": [
    "f,l,m = load_flm()"
   ]
  },
  {
   "cell_type": "code",
   "execution_count": 58,
   "id": "dd5e51fd-79c0-432f-8ed1-b4bb77395438",
   "metadata": {},
   "outputs": [],
   "source": [
    "f,l,m = cam_flm(1, [58])\n",
    "f,l,m = prune_flm(f,l,m, 25)"
   ]
  },
  {
   "cell_type": "code",
   "execution_count": 20,
   "id": "4a2ed50a-ada3-4022-b6de-d3de814bc737",
   "metadata": {},
   "outputs": [
    {
     "ename": "UnboundLocalError",
     "evalue": "local variable 'num_shots_classes_center_labels' referenced before assignment",
     "output_type": "error",
     "traceback": [
      "\u001b[0;31m---------------------------------------------------------------------------\u001b[0m",
      "\u001b[0;31mUnboundLocalError\u001b[0m                         Traceback (most recent call last)",
      "Input \u001b[0;32mIn [20]\u001b[0m, in \u001b[0;36m<cell line: 1>\u001b[0;34m()\u001b[0m\n\u001b[0;32m----> 1\u001b[0m \u001b[43mweighted_iterative_kmeans_sample_ind\u001b[49m\u001b[43m(\u001b[49m\u001b[43mf\u001b[49m\u001b[43m,\u001b[49m\u001b[43ml\u001b[49m\u001b[43m,\u001b[49m\u001b[38;5;241;43m5\u001b[39;49m\u001b[43m)\u001b[49m\n",
      "File \u001b[0;32m/dccstor/hoo-misha-1/wilds/WOODS/scripts/utils.py:236\u001b[0m, in \u001b[0;36mweighted_iterative_kmeans_sample_ind\u001b[0;34m(features, labels, num_shots, n)\u001b[0m\n\u001b[1;32m    233\u001b[0m kmeans \u001b[38;5;241m=\u001b[39m KMeans(n_clusters\u001b[38;5;241m=\u001b[39mnum_classes, random_state\u001b[38;5;241m=\u001b[39mrandom_state)\u001b[38;5;241m.\u001b[39mfit(num_shots_classes_centers)\n\u001b[1;32m    234\u001b[0m centers \u001b[38;5;241m=\u001b[39m copy\u001b[38;5;241m.\u001b[39mcopy(kmeans\u001b[38;5;241m.\u001b[39mcluster_centers_)\n\u001b[0;32m--> 236\u001b[0m num_shots_classes_center_labels \u001b[38;5;241m=\u001b[39m [\u001b[38;5;241m-\u001b[39m\u001b[38;5;241m1\u001b[39m]\u001b[38;5;241m*\u001b[39m\u001b[38;5;28mlen\u001b[39m(\u001b[43mnum_shots_classes_center_labels\u001b[49m)\n\u001b[1;32m    237\u001b[0m center_labels \u001b[38;5;241m=\u001b[39m [\u001b[38;5;241m-\u001b[39m\u001b[38;5;241m1\u001b[39m] \u001b[38;5;241m*\u001b[39m \u001b[38;5;28mlen\u001b[39m(centers)\n\u001b[1;32m    239\u001b[0m \u001b[38;5;28;01mfor\u001b[39;00m i \u001b[38;5;129;01min\u001b[39;00m \u001b[38;5;28mrange\u001b[39m(\u001b[38;5;28mlen\u001b[39m(features)):\n",
      "\u001b[0;31mUnboundLocalError\u001b[0m: local variable 'num_shots_classes_center_labels' referenced before assignment"
     ]
    }
   ],
   "source": [
    "weighted_iterative_kmeans_sample_ind(f,l,5)\n"
   ]
  },
  {
   "cell_type": "code",
   "execution_count": 23,
   "id": "36da1fac-21ae-4da0-88b9-546ed3dd25ee",
   "metadata": {},
   "outputs": [],
   "source": [
    "import time"
   ]
  },
  {
   "cell_type": "code",
   "execution_count": 59,
   "id": "c6ba3608-c0e1-4528-9579-1e2cad709dc6",
   "metadata": {},
   "outputs": [],
   "source": [
    "def func(features, labels, num_shots=5, n=100):\n",
    "    #start_time = time.perf_counter()\n",
    "    unique_classes = np.unique(labels)\n",
    "    num_classes = len(unique_classes)\n",
    "    #print(features.shape, n*num_classes)\n",
    "    num_shots_classes_kmeans = KMeans(n_clusters=n*num_classes, random_state=random_state).fit(features)\n",
    "    #print(f'First kmeans: {time.perf_counter() - start_time}')\n",
    "    start_time = time.perf_counter()\n",
    "    num_shots_classes_centers = num_shots_classes_kmeans.cluster_centers_\n",
    "    kmeans = KMeans(n_clusters=num_classes, random_state=random_state).fit(num_shots_classes_centers)\n",
    "    #print(f'Second kmeans: {time.perf_counter() - start_time}')\n",
    "    #start_time = time.perf_counter()\n",
    "    centers = copy.copy(kmeans.cluster_centers_)\n",
    "    #print(f'Copy kmeans centers: {time.perf_counter() - start_time}')\n",
    "    #start_time = time.perf_counter()\n",
    "    num_shots_classes_center_labels = [-1]*len(num_shots_classes_centers)\n",
    "    center_labels = [-1] * len(centers)\n",
    "    \n",
    "    for i in range(len(features)):\n",
    "        feature = features[i]\n",
    "        try:\n",
    "            ii = centers.index(feature)\n",
    "            center_labels[ii] = labels[i]\n",
    "            \n",
    "        except:\n",
    "            pass\n",
    "        \n",
    "        try:\n",
    "            ii = num_shots_classes_centers.index(feature)\n",
    "            num_shots_classes_center_labels[ii] = labels[i]\n",
    "        except:\n",
    "            pass\n",
    "    #print(f'Generate labels: {time.perf_counter() - start_time}')\n",
    "    #start_time = time.perf_counter()\n",
    "    mean_dist = {}\n",
    "    \n",
    "    def get_dist(mu_m, mu_is, mu_is_labels):\n",
    "        sum_d = 0\n",
    "        \n",
    "        mu_is_labels_counts = np.unique(mu_is_labels, return_counts=True)\n",
    "        \n",
    "        mu_is_labels_count_dict = {}\n",
    "        for label_i in range(len(mu_is_labels_counts[0])):\n",
    "            label = mu_is_labels_counts[0][label_i]\n",
    "            counts = mu_is_labels_counts[1][label_i]\n",
    "            mu_is_labels_count_dict[label] = counts\n",
    "        \n",
    "        for mu_i_i in range(len(mu_is)):\n",
    "            mu_i = mu_is[mu_i_i]\n",
    "            mu_i_label = mu_is_labels[mu_i_i]\n",
    "            \n",
    "            mu_i_label_count = mu_is_labels_count_dict[mu_i_label]\n",
    "            if 1 - mu_i_label_count / len(mu_is) < 0:\n",
    "                print(mu_i_label-count, len(mu_is))\n",
    "            sum_d += (1 - mu_i_label_count / len(mu_is)) * np.linalg.norm(mu_m - mu_i)\n",
    "        return sum_d\n",
    "\n",
    "    shots_count = 0\n",
    "    while(shots_count < num_shots*num_classes):\n",
    "        max_dist = -1\n",
    "        max_dist_i = None\n",
    "        \n",
    "        #center_labels_counts = np.unique(center_labels)\n",
    "        \n",
    "        for mu_m_i in range(len(num_shots_classes_centers)):\n",
    "            \n",
    "            mu_m = num_shots_classes_centers[mu_m_i]\n",
    "            #mu_m_label = num_shots_classes_center_labels[mu_m_i]\n",
    "\n",
    "            #mu_m_label_count_i = center_labels_counts[0].index(mu_m_label)\n",
    "            #mu_m_label_count = center_labels_counts[1][mu_m_label_count_i]\n",
    "            \n",
    "            if mu_m in centers:\n",
    "                continue\n",
    "            #mu_m_dist = mu_m_label_count / len(center_labels) * get_dist(mu_m, centers)\n",
    "            mu_m_dist = get_dist(mu_m, centers, center_labels)\n",
    "            if mu_m_dist > max_dist:\n",
    "                max_dist = mu_m_dist\n",
    "                max_dist_i = mu_m_i\n",
    "        if max_dist_i is None:\n",
    "            print(max_dist, mu_m_dist)\n",
    "        try:\n",
    "            centers = np.vstack((centers, num_shots_classes_centers[max_dist_i][np.newaxis,:]))\n",
    "        except:\n",
    "            print(num_shots_classes_centers[max_dist_i].shape, num_shots_classes_centers[max_dist_i][np.newaxis,:].shape)\n",
    "            centers = np.vstack((centers, np.squeeze(num_shots_classes_centers[max_dist_i])))\n",
    "        center_labels.append(num_shots_classes_center_labels[max_dist_i])\n",
    "        #ret_ind.append(max_dist_i)\n",
    "        shots_count += 1\n",
    "    #print(f'Get shots {time.perf_counter() - start_time}')\n",
    "    #start_time = time.perf_counter()\n",
    "    ret_ind = []  \n",
    "    for center_index in range(centers.shape[0]):\n",
    "        center = centers[center_index]\n",
    "        min_dist = 9999\n",
    "        min_i = None\n",
    "        for feature_index in range(features.shape[0]):\n",
    "            feature = features[feature_index]\n",
    "            dist = np.linalg.norm(feature-center)\n",
    "            if dist < min_dist:\n",
    "                min_dist = dist\n",
    "                min_i = feature_index\n",
    "        ret_ind.append(min_i)\n",
    "    #print(f'Finish {time.perf_counter() - start_time}')\n",
    "    return np.array(ret_ind)"
   ]
  },
  {
   "cell_type": "code",
   "execution_count": 61,
   "id": "d0fd1842-fa77-47e2-99a5-82dd7124d4eb",
   "metadata": {},
   "outputs": [
    {
     "data": {
      "text/plain": [
       "array([103, 442, 273, 443,  51, 103, 480, 472, 341,  43, 202, 408, 386,\n",
       "       379,  45, 382, 141, 179, 477,  23, 207,  13, 346, 419, 512, 184,\n",
       "       258,  68, 152, 487, 154, 416, 288, 397,   7, 236,  80,  25, 394,\n",
       "       423,  31, 117, 426, 395, 454, 174, 320, 264])"
      ]
     },
     "execution_count": 61,
     "metadata": {},
     "output_type": "execute_result"
    }
   ],
   "source": [
    "func(f,l,13)"
   ]
  },
  {
   "cell_type": "code",
   "execution_count": 62,
   "id": "4ef64ca9-1ed8-4b8f-bc2c-7ce3682d5c9b",
   "metadata": {},
   "outputs": [
    {
     "data": {
      "text/plain": [
       "(515, 2048)"
      ]
     },
     "execution_count": 62,
     "metadata": {},
     "output_type": "execute_result"
    }
   ],
   "source": [
    "f.shape"
   ]
  },
  {
   "cell_type": "code",
   "execution_count": 63,
   "id": "b1b1011e-f8e1-4fad-b1a8-ddc508268d6a",
   "metadata": {},
   "outputs": [
    {
     "data": {
      "text/plain": [
       "3"
      ]
     },
     "execution_count": 63,
     "metadata": {},
     "output_type": "execute_result"
    }
   ],
   "source": [
    "len(np.unique(l))"
   ]
  },
  {
   "cell_type": "code",
   "execution_count": null,
   "id": "70dd9ec8-0845-4126-84aa-8d7f18f1965e",
   "metadata": {},
   "outputs": [],
   "source": []
  }
 ],
 "metadata": {
  "kernelspec": {
   "display_name": "Python 3 (ipykernel)",
   "language": "python",
   "name": "python3"
  },
  "language_info": {
   "codemirror_mode": {
    "name": "ipython",
    "version": 3
   },
   "file_extension": ".py",
   "mimetype": "text/x-python",
   "name": "python",
   "nbconvert_exporter": "python",
   "pygments_lexer": "ipython3",
   "version": "3.8.13"
  }
 },
 "nbformat": 4,
 "nbformat_minor": 5
}
