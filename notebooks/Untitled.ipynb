{
 "cells": [
  {
   "cell_type": "code",
   "execution_count": 2,
   "id": "a159fa03-17cc-46bf-8839-3e5c34991949",
   "metadata": {},
   "outputs": [],
   "source": [
    "import numpy as np\n",
    "import torch\n",
    "import os"
   ]
  },
  {
   "cell_type": "code",
   "execution_count": 5,
   "id": "fd938949-24ed-4d4a-a0a8-dae8860b9b42",
   "metadata": {},
   "outputs": [],
   "source": [
    "for model in os.listdir('/dccstor/hoo-misha-1/wilds/wilds/pretrained/camelyon17'):\n",
    "    model = model[11:-4]\n",
    "    save_path = f'/dccstor/hoo-misha-1/wilds/wilds/pretrained/camelyon17/camelyon17_{model}.pth'\n",
    "    d = torch.load(save_path, map_location=torch.device('cpu'))\n",
    "    alg = d['algorithm']\n",
    "    if 'model.classifier.weight' in alg:\n",
    "        weight = alg['model.classifier.weight']\n",
    "        bias = alg['model.classifier.bias']\n",
    "    else:\n",
    "        weight = alg['classifier.weight']\n",
    "        bias = alg['classifier.bias']\n",
    "    np.save(f'/dccstor/hoo-misha-1/wilds/WOODS/camelyon17_{model}_classifier_weight.npy', weight)\n",
    "    np.save(f'/dccstor/hoo-misha-1/wilds/WOODS/camelyon17_{model}_classifier_bias.npy', bias)\n"
   ]
  },
  {
   "cell_type": "code",
   "execution_count": null,
   "id": "11226355-d161-4b3a-8f8b-2d4a8a230b0b",
   "metadata": {},
   "outputs": [],
   "source": []
  }
 ],
 "metadata": {
  "kernelspec": {
   "display_name": "Python 3 (ipykernel)",
   "language": "python",
   "name": "python3"
  },
  "language_info": {
   "codemirror_mode": {
    "name": "ipython",
    "version": 3
   },
   "file_extension": ".py",
   "mimetype": "text/x-python",
   "name": "python",
   "nbconvert_exporter": "python",
   "pygments_lexer": "ipython3",
   "version": "3.8.13"
  }
 },
 "nbformat": 4,
 "nbformat_minor": 5
}
