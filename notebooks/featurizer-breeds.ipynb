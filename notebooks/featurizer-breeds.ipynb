{
 "cells": [
  {
   "cell_type": "code",
   "execution_count": 1,
   "id": "e1f8e3b6-c555-48b9-96c3-75b77ca1a691",
   "metadata": {},
   "outputs": [],
   "source": [
    "import sys\n",
    "sys.path.append('/dccstor/hoo-misha-1/wilds/wilds/examples')\n",
    "sys.path.append('/dccstor/hoo-misha-1/wilds/WOODS')\n",
    "sys.path.append('/dccstor/hoo-misha-1/wilds/wilds')\n",
    "\n",
    "import os\n",
    "\n",
    "import numpy as np\n",
    "import torch\n",
    "import torch.optim as optim\n",
    "import torch.nn as nn\n",
    "\n",
    "from transformers import DistilBertModel, DistilBertTokenizerFast\n",
    "from models.bert.distilbert import DistilBertClassifier, DistilBertFeaturizer\n",
    "from configs.datasets import dataset_defaults\n",
    "\n",
    "import wilds\n",
    "from wilds.common.data_loaders import get_train_loader, get_eval_loader\n",
    "from wilds.common.grouper import CombinatorialGrouper\n",
    "from wilds.datasets.unlabeled.wilds_unlabeled_dataset import WILDSPseudolabeledSubset\n",
    "\n",
    "from utils import set_seed, Logger, BatchLogger, log_config, ParseKwargs, load, initialize_wandb, log_group_data, parse_bool, get_model_prefix, move_to\n",
    "from train import train, evaluate, infer_predictions,run_epoch\n",
    "from algorithms.initializer import initialize_algorithm, infer_d_out\n",
    "from transforms import initialize_transform\n",
    "\n",
    "from models.initializer import initialize_model\n",
    "from configs.utils import populate_defaults\n",
    "import configs.supported as supported\n",
    "\n",
    "import torch.multiprocessing\n",
    "\n",
    "import torchvision.transforms as transforms\n",
    "\n",
    "from examples.transforms import initialize_bert_transform\n",
    "\n",
    "from tqdm import tqdm\n",
    "import argparse\n",
    "import copy\n",
    "import re\n",
    "import psutil\n",
    "from collections import defaultdict"
   ]
  },
  {
   "cell_type": "markdown",
   "id": "a8253858-80a5-429d-97c2-a82ddb3dfc93",
   "metadata": {},
   "source": [
    "# Initialize Wilds Config"
   ]
  },
  {
   "cell_type": "code",
   "execution_count": 2,
   "id": "cb4d13b4-e08c-444e-8e57-687ee303c9f8",
   "metadata": {},
   "outputs": [
    {
     "data": {
      "text/plain": [
       "_StoreAction(option_strings=['--breeds'], dest='breeds', nargs='?', const=True, default=False, type=<function parse_bool at 0x1543cf47e9d0>, choices=None, help=None, metavar=None)"
      ]
     },
     "execution_count": 2,
     "metadata": {},
     "output_type": "execute_result"
    }
   ],
   "source": [
    "''' Arg defaults are filled in according to examples/configs/ '''\n",
    "parser = argparse.ArgumentParser()\n",
    "\n",
    "# Required arguments\n",
    "parser.add_argument('-d', '--dataset', choices=wilds.supported_datasets, required=True)\n",
    "parser.add_argument('--algorithm', required=True, choices=supported.algorithms)\n",
    "parser.add_argument('--root_dir', required=True,\n",
    "                    help='The directory where [dataset]/data can be found (or should be downloaded to, if it does not exist).')\n",
    "\n",
    "# Dataset\n",
    "parser.add_argument('--split_scheme', help='Identifies how the train/val/test split is constructed. Choices are dataset-specific.')\n",
    "parser.add_argument('--dataset_kwargs', nargs='*', action=ParseKwargs, default={},\n",
    "                    help='keyword arguments for dataset initialization passed as key1=value1 key2=value2')\n",
    "parser.add_argument('--download', default=False, type=parse_bool, const=True, nargs='?',\n",
    "                    help='If true, tries to download the dataset if it does not exist in root_dir.')\n",
    "parser.add_argument('--frac', type=float, default=1.0,\n",
    "                    help='Convenience parameter that scales all dataset splits down to the specified fraction, for development purposes. Note that this also scales the test set down, so the reported numbers are not comparable with the full test set.')\n",
    "parser.add_argument('--version', default=None, type=str, help='WILDS labeled dataset version number.')\n",
    "\n",
    "# Unlabeled Dataset\n",
    "parser.add_argument('--unlabeled_split', default=None, type=str, choices=wilds.unlabeled_splits,  help='Unlabeled split to use. Some datasets only have some splits available.')\n",
    "parser.add_argument('--unlabeled_version', default=None, type=str, help='WILDS unlabeled dataset version number.')\n",
    "parser.add_argument('--use_unlabeled_y', default=False, type=parse_bool, const=True, nargs='?', \n",
    "                    help='If true, unlabeled loaders will also the true labels for the unlabeled data. This is only available for some datasets. Used for \"fully-labeled ERM experiments\" in the paper. Correct functionality relies on CrossEntropyLoss using ignore_index=-100.')\n",
    "\n",
    "# Loaders\n",
    "parser.add_argument('--loader_kwargs', nargs='*', action=ParseKwargs, default={})\n",
    "parser.add_argument('--unlabeled_loader_kwargs', nargs='*', action=ParseKwargs, default={})\n",
    "parser.add_argument('--train_loader', choices=['standard', 'group'])\n",
    "parser.add_argument('--uniform_over_groups', type=parse_bool, const=True, nargs='?', help='If true, sample examples such that batches are uniform over groups.')\n",
    "parser.add_argument('--distinct_groups', type=parse_bool, const=True, nargs='?', help='If true, enforce groups sampled per batch are distinct.')\n",
    "parser.add_argument('--n_groups_per_batch', type=int)\n",
    "parser.add_argument('--unlabeled_n_groups_per_batch', type=int)\n",
    "parser.add_argument('--batch_size', type=int)\n",
    "parser.add_argument('--unlabeled_batch_size', type=int)\n",
    "parser.add_argument('--eval_loader', choices=['standard'], default='standard')\n",
    "parser.add_argument('--gradient_accumulation_steps', type=int, default=1, help='Number of batches to process before stepping optimizer and schedulers. If > 1, we simulate having a larger effective batch size (though batchnorm behaves differently).')\n",
    "\n",
    "# Model\n",
    "parser.add_argument('--model', choices=supported.models)\n",
    "parser.add_argument('--model_kwargs', nargs='*', action=ParseKwargs, default={},\n",
    "                    help='keyword arguments for model initialization passed as key1=value1 key2=value2')\n",
    "parser.add_argument('--noisystudent_add_dropout', type=parse_bool, const=True, nargs='?', help='If true, adds a dropout layer to the student model of NoisyStudent.')\n",
    "parser.add_argument('--noisystudent_dropout_rate', type=float)\n",
    "parser.add_argument('--pretrained_model_path', default=None, type=str, help='Specify a path to pretrained model weights')\n",
    "parser.add_argument('--load_featurizer_only', default=False, type=parse_bool, const=True, nargs='?', help='If true, only loads the featurizer weights and not the classifier weights.')\n",
    "\n",
    "# NoisyStudent-specific loading\n",
    "parser.add_argument('--teacher_model_path', type=str, help='Path to NoisyStudent teacher model weights. If this is defined, pseudolabels will first be computed for unlabeled data before anything else runs.')\n",
    "\n",
    "# Transforms\n",
    "parser.add_argument('--transform', choices=supported.transforms)\n",
    "parser.add_argument('--additional_train_transform', choices=supported.additional_transforms, help='Optional data augmentations to layer on top of the default transforms.')\n",
    "parser.add_argument('--target_resolution', nargs='+', type=int, help='The input resolution that images will be resized to before being passed into the model. For example, use --target_resolution 224 224 for a standard ResNet.')\n",
    "parser.add_argument('--resize_scale', type=float)\n",
    "parser.add_argument('--max_token_length', type=int)\n",
    "parser.add_argument('--randaugment_n', type=int, help='Number of RandAugment transformations to apply.')\n",
    "\n",
    "# Objective\n",
    "parser.add_argument('--loss_function', choices=supported.losses)\n",
    "parser.add_argument('--loss_kwargs', nargs='*', action=ParseKwargs, default={},\n",
    "                    help='keyword arguments for loss initialization passed as key1=value1 key2=value2')\n",
    "\n",
    "# Algorithm\n",
    "parser.add_argument('--groupby_fields', nargs='+')\n",
    "parser.add_argument('--group_dro_step_size', type=float)\n",
    "parser.add_argument('--coral_penalty_weight', type=float)\n",
    "parser.add_argument('--wasserstein_blur', type=float, default=0.0001)\n",
    "parser.add_argument('--dann_penalty_weight', type=float)\n",
    "parser.add_argument('--dann_classifier_lr', type=float)\n",
    "parser.add_argument('--dann_featurizer_lr', type=float)\n",
    "parser.add_argument('--dann_discriminator_lr', type=float)\n",
    "parser.add_argument('--afn_penalty_weight', type=float)\n",
    "parser.add_argument('--safn_delta_r', type=float)\n",
    "parser.add_argument('--hafn_r', type=float)\n",
    "parser.add_argument('--use_hafn', default=False, type=parse_bool, const=True, nargs='?')\n",
    "parser.add_argument('--irm_lambda', type=float)\n",
    "parser.add_argument('--irm_penalty_anneal_iters', type=int)\n",
    "parser.add_argument('--self_training_lambda', type=float)\n",
    "parser.add_argument('--self_training_threshold', type=float)\n",
    "parser.add_argument('--pseudolabel_T2', type=float, help='Percentage of total iterations at which to end linear scheduling and hold lambda at the max value')\n",
    "parser.add_argument('--soft_pseudolabels', default=False, type=parse_bool, const=True, nargs='?')\n",
    "parser.add_argument('--algo_log_metric')\n",
    "parser.add_argument('--process_pseudolabels_function', choices=supported.process_pseudolabels_functions)\n",
    "\n",
    "# Model selection\n",
    "parser.add_argument('--val_metric')\n",
    "parser.add_argument('--val_metric_decreasing', type=parse_bool, const=True, nargs='?')\n",
    "\n",
    "# Optimization\n",
    "parser.add_argument('--n_epochs', type=int)\n",
    "parser.add_argument('--optimizer', choices=supported.optimizers)\n",
    "parser.add_argument('--lr', type=float)\n",
    "parser.add_argument('--weight_decay', type=float)\n",
    "parser.add_argument('--max_grad_norm', type=float)\n",
    "parser.add_argument('--optimizer_kwargs', nargs='*', action=ParseKwargs, default={},\n",
    "                    help='keyword arguments for optimizer initialization passed as key1=value1 key2=value2')\n",
    "\n",
    "# Scheduler\n",
    "parser.add_argument('--scheduler', choices=supported.schedulers)\n",
    "parser.add_argument('--scheduler_kwargs', nargs='*', action=ParseKwargs, default={},\n",
    "                    help='keyword arguments for scheduler initialization passed as key1=value1 key2=value2')\n",
    "parser.add_argument('--scheduler_metric_split', choices=['train', 'val'], default='val')\n",
    "parser.add_argument('--scheduler_metric_name')\n",
    "\n",
    "# Evaluation\n",
    "parser.add_argument('--process_outputs_function', choices = supported.process_outputs_functions)\n",
    "parser.add_argument('--evaluate_all_splits', type=parse_bool, const=True, nargs='?', default=True)\n",
    "parser.add_argument('--eval_splits', nargs='+', default=[])\n",
    "parser.add_argument('--eval_only', type=parse_bool, const=True, nargs='?', default=False)\n",
    "parser.add_argument('--eval_epoch', default=None, type=int, help='If eval_only is set, then eval_epoch allows you to specify evaluating at a particular epoch. By default, it evaluates the best epoch by validation performance.')\n",
    "\n",
    "# Misc\n",
    "parser.add_argument('--device', type=int, nargs='+', default=[0])\n",
    "parser.add_argument('--seed', type=int, default=0)\n",
    "parser.add_argument('--log_dir', default='./logs')\n",
    "parser.add_argument('--log_every', default=50, type=int)\n",
    "parser.add_argument('--save_step', type=int)\n",
    "parser.add_argument('--save_best', type=parse_bool, const=True, nargs='?', default=True)\n",
    "parser.add_argument('--save_last', type=parse_bool, const=True, nargs='?', default=True)\n",
    "parser.add_argument('--save_pred', type=parse_bool, const=True, nargs='?', default=True)\n",
    "parser.add_argument('--no_group_logging', type=parse_bool, const=True, nargs='?')\n",
    "parser.add_argument('--progress_bar', type=parse_bool, const=True, nargs='?', default=False)\n",
    "parser.add_argument('--resume', type=parse_bool, const=True, nargs='?', default=False, help='Whether to resume from the most recent saved model in the current log_dir.')\n",
    "\n",
    "# Weights & Biases\n",
    "parser.add_argument('--use_wandb', type=parse_bool, const=True, nargs='?', default=False)\n",
    "parser.add_argument('--wandb_api_key_path', type=str,\n",
    "                    help=\"Path to Weights & Biases API Key. If use_wandb is set to True and this argument is not specified, user will be prompted to authenticate.\")\n",
    "parser.add_argument('--wandb_kwargs', nargs='*', action=ParseKwargs, default={},\n",
    "                    help='keyword arguments for wandb.init() passed as key1=value1 key2=value2')\n",
    "\n",
    "# BREEDS\n",
    "parser.add_argument('--breeds', type=parse_bool, const=True, nargs='?', default=False) "
   ]
  },
  {
   "cell_type": "code",
   "execution_count": 3,
   "id": "0f31678d-ebef-491d-adb0-4583f6712ac4",
   "metadata": {},
   "outputs": [],
   "source": [
    "def update_config(parser, dataset, algorithm, model_path):\n",
    "    global config\n",
    "    print(f'|   Updating config to use algorithm {algorithm} and pretrained model path {model_path}')\n",
    "    config = parser.parse_args((f'--dataset {dataset} '\n",
    "                            f'--algorithm {algorithm} ' \n",
    "                            '--root_dir /dccstor/hoo-misha-1/wilds/wilds/data '\n",
    "                            f'--pretrained_model_path {model_path} '\n",
    "                            f'--wasserstein_blur 0.0001 '\n",
    "                            #'--eval_only '\n",
    "                            #'--model_kwargs ignore_mismatched_sizes=True ' \n",
    "                            '--evaluate_all_splits False '\n",
    "                            #'--use_wandb '\n",
    "                            ).split())\n",
    "    config = populate_defaults(config)"
   ]
  },
  {
   "cell_type": "code",
   "execution_count": 4,
   "id": "4d22d06d-a0c1-438d-a2a7-91400c7c5add",
   "metadata": {},
   "outputs": [
    {
     "name": "stdout",
     "output_type": "stream",
     "text": [
      "|   Updating config to use algorithm DANN and pretrained model path /dccstor/hoo-misha-1/wilds/wilds/pretrained/breeds/breeds_DANN.pth\n"
     ]
    }
   ],
   "source": [
    "update_config(parser, 'iwildcam', 'DANN', '/dccstor/hoo-misha-1/wilds/wilds/pretrained/breeds/breeds_DANN.pth')"
   ]
  },
  {
   "cell_type": "code",
   "execution_count": 5,
   "id": "818c055b-15a9-438a-a6c0-149067da42b9",
   "metadata": {},
   "outputs": [],
   "source": [
    "    \n",
    "if torch.cuda.is_available():\n",
    "    device_count = torch.cuda.device_count()\n",
    "    if len(config.device) > device_count:\n",
    "        raise ValueError(f\"Specified {len(config.device)} devices, but only {device_count} devices found.\")\n",
    "\n",
    "    config.use_data_parallel = len(config.device) > 1\n",
    "    device_str = \",\".join(map(str, config.device))\n",
    "    os.environ[\"CUDA_VISIBLE_DEVICES\"] = device_str\n",
    "    config.device = torch.device(\"cuda\")\n",
    "else:\n",
    "    config.use_data_parallel = False\n",
    "    config.device =torch.device(\"cpu\")\n",
    "\n",
    "# Initialize logs\n",
    "if os.path.exists(config.log_dir) and config.resume:\n",
    "    resume=True\n",
    "    mode='a'\n",
    "elif os.path.exists(config.log_dir) and config.eval_only:\n",
    "    resume=False\n",
    "    mode='a'\n",
    "else:\n",
    "    resume=False\n",
    "    mode='w'\n",
    "\n",
    "if not os.path.exists(config.log_dir):\n",
    "    os.makedirs(config.log_dir)\n",
    "logger = Logger(os.path.join(config.log_dir, 'log.txt'), mode)\n"
   ]
  },
  {
   "cell_type": "code",
   "execution_count": 6,
   "id": "b63fc6ac-d899-4b7e-85cc-67d01b7b525a",
   "metadata": {},
   "outputs": [],
   "source": [
    "# Data\n",
    "full_dataset = wilds.get_dataset(\n",
    "    dataset=config.dataset,\n",
    "    version=config.version,\n",
    "    root_dir=config.root_dir,\n",
    "    download=config.download,\n",
    "    split_scheme=config.split_scheme,\n",
    "    **config.dataset_kwargs)\n",
    "\n",
    "# Transforms & data augmentations for labeled dataset\n",
    "# To modify data augmentation, modify the following code block.\n",
    "# If you want to use transforms that modify both `x` and `y`,\n",
    "# set `do_transform_y` to True when initializing the `WILDSSubset` below.\n",
    "train_transform = initialize_transform(\n",
    "    transform_name=config.transform,\n",
    "    config=config,\n",
    "    dataset=full_dataset,\n",
    "    additional_transform_name=config.additional_train_transform,\n",
    "    is_training=True)\n",
    "eval_transform = initialize_transform(\n",
    "    transform_name=config.transform,\n",
    "    config=config,\n",
    "    dataset=full_dataset,\n",
    "    is_training=False)\n",
    "\n",
    "# Configure unlabeled datasets\n",
    "unlabeled_dataset = None\n",
    "if config.unlabeled_split is not None:\n",
    "    split = config.unlabeled_split\n",
    "    full_unlabeled_dataset = wilds.get_dataset(\n",
    "        dataset=config.dataset,\n",
    "        version=config.unlabeled_version,\n",
    "        root_dir=config.root_dir,\n",
    "        download=config.download,\n",
    "        unlabeled=True,\n",
    "        **config.dataset_kwargs\n",
    "    )\n",
    "    train_grouper = CombinatorialGrouper(\n",
    "        dataset=[full_dataset, full_unlabeled_dataset],\n",
    "        groupby_fields=config.groupby_fields\n",
    "    )\n",
    "\n",
    "    # Transforms & data augmentations for unlabeled dataset\n",
    "    if config.algorithm == \"FixMatch\":\n",
    "        # For FixMatch, we need our loader to return batches in the form ((x_weak, x_strong), m)\n",
    "        # We do this by initializing a special transform function\n",
    "        unlabeled_train_transform = initialize_transform(\n",
    "            config.transform, config, full_dataset, is_training=True, additional_transform_name=\"fixmatch\"\n",
    "        )\n",
    "    else:\n",
    "        # Otherwise, use the same data augmentations as the labeled data.\n",
    "        unlabeled_train_transform = train_transform\n",
    "\n",
    "    if config.algorithm == \"NoisyStudent\":\n",
    "        # For Noisy Student, we need to first generate pseudolabels using the teacher\n",
    "        # and then prep the unlabeled dataset to return these pseudolabels in __getitem__\n",
    "        print(\"Inferring teacher pseudolabels for Noisy Student\")\n",
    "        assert config.teacher_model_path is not None\n",
    "        if not config.teacher_model_path.endswith(\".pth\"):\n",
    "            # Use the best model\n",
    "            config.teacher_model_path = os.path.join(\n",
    "                config.teacher_model_path,  f\"{config.dataset}_seed:{config.seed}_epoch:best_model.pth\"\n",
    "            )\n",
    "\n",
    "        d_out = infer_d_out(full_dataset, config)\n",
    "        teacher_model = initialize_model(config, d_out).to(config.device)\n",
    "        load(teacher_model, config.teacher_model_path, device=config.device)\n",
    "        # Infer teacher outputs on weakly augmented unlabeled examples in sequential order\n",
    "        weak_transform = initialize_transform(\n",
    "            transform_name=config.transform,\n",
    "            config=config,\n",
    "            dataset=full_dataset,\n",
    "            is_training=True,\n",
    "            additional_transform_name=\"weak\"\n",
    "        )\n",
    "        unlabeled_split_dataset = full_unlabeled_dataset.get_subset(split, transform=weak_transform, frac=config.frac)\n",
    "        sequential_loader = get_eval_loader(\n",
    "            loader=config.eval_loader,\n",
    "            dataset=unlabeled_split_dataset,\n",
    "            grouper=train_grouper,\n",
    "            batch_size=config.unlabeled_batch_size,\n",
    "            **config.unlabeled_loader_kwargs\n",
    "        )\n",
    "        teacher_outputs = infer_predictions(teacher_model, sequential_loader, config)\n",
    "        teacher_outputs = move_to(teacher_outputs, torch.device(\"cpu\"))\n",
    "        unlabeled_split_dataset = WILDSPseudolabeledSubset(\n",
    "            reference_subset=unlabeled_split_dataset,\n",
    "            pseudolabels=teacher_outputs,\n",
    "            transform=unlabeled_train_transform,\n",
    "            collate=full_dataset.collate,\n",
    "        )\n",
    "        teacher_model = teacher_model.to(torch.device(\"cpu\"))\n",
    "        del teacher_model\n",
    "    else:\n",
    "        unlabeled_split_dataset = full_unlabeled_dataset.get_subset(\n",
    "            split, \n",
    "            transform=unlabeled_train_transform, \n",
    "            frac=config.frac, \n",
    "            load_y=config.use_unlabeled_y\n",
    "        )\n",
    "\n",
    "    unlabeled_dataset = {\n",
    "        'split': split,\n",
    "        'name': full_unlabeled_dataset.split_names[split],\n",
    "        'dataset': unlabeled_split_dataset\n",
    "    }\n",
    "    unlabeled_dataset['loader'] = get_train_loader(\n",
    "        loader=config.train_loader,\n",
    "        dataset=unlabeled_dataset['dataset'],\n",
    "        batch_size=config.unlabeled_batch_size,\n",
    "        uniform_over_groups=config.uniform_over_groups,\n",
    "        grouper=train_grouper,\n",
    "        distinct_groups=config.distinct_groups,\n",
    "        n_groups_per_batch=config.unlabeled_n_groups_per_batch,\n",
    "        **config.unlabeled_loader_kwargs\n",
    "    )\n",
    "else:\n",
    "    train_grouper = CombinatorialGrouper(\n",
    "        dataset=full_dataset,\n",
    "        groupby_fields=config.groupby_fields\n",
    "    )\n",
    "\n",
    "# Configure labeled torch datasets (WILDS dataset splits)\n",
    "wilds_datasets = defaultdict(dict)\n",
    "for split in full_dataset.split_dict.keys():\n",
    "    if split=='train':\n",
    "        transform = train_transform\n",
    "        verbose = True\n",
    "    elif split == 'val':\n",
    "        transform = eval_transform\n",
    "        verbose = True\n",
    "    else:\n",
    "        transform = eval_transform\n",
    "        verbose = False\n",
    "    # Get subset\n",
    "    wilds_datasets[split]['dataset'] = full_dataset.get_subset(\n",
    "        split,\n",
    "        frac=config.frac,\n",
    "        transform=transform)\n",
    "\n",
    "    if split == 'train':\n",
    "        wilds_datasets[split]['loader'] = get_train_loader(\n",
    "            loader=config.train_loader,\n",
    "            dataset=wilds_datasets[split]['dataset'],\n",
    "            batch_size=config.batch_size,\n",
    "            uniform_over_groups=config.uniform_over_groups,\n",
    "            grouper=train_grouper,\n",
    "            distinct_groups=config.distinct_groups,\n",
    "            n_groups_per_batch=config.n_groups_per_batch,\n",
    "            **config.loader_kwargs)\n",
    "    else:\n",
    "        wilds_datasets[split]['loader'] = get_eval_loader(\n",
    "            loader=config.eval_loader,\n",
    "            dataset=wilds_datasets[split]['dataset'],\n",
    "            grouper=train_grouper,\n",
    "            batch_size=config.batch_size,\n",
    "            **config.loader_kwargs)\n",
    "\n",
    "    # Set fields\n",
    "    wilds_datasets[split]['split'] = split\n",
    "    wilds_datasets[split]['name'] = full_dataset.split_names[split]\n",
    "    wilds_datasets[split]['verbose'] = verbose\n",
    "\n",
    "    # Loggers\n",
    "    wilds_datasets[split]['eval_logger'] = BatchLogger(\n",
    "        os.path.join(config.log_dir, f'{split}_eval.csv'), mode=mode, use_wandb=config.use_wandb\n",
    "    )\n",
    "    wilds_datasets[split]['algo_logger'] = BatchLogger(\n",
    "        os.path.join(config.log_dir, f'{split}_algo.csv'), mode=mode, use_wandb=config.use_wandb\n",
    "    )\n"
   ]
  },
  {
   "cell_type": "code",
   "execution_count": 7,
   "id": "db2cd6eb-be18-41e8-9684-26e2998e59e0",
   "metadata": {},
   "outputs": [],
   "source": [
    "wilds_datasets['train']['dataset']._n_classes = 13"
   ]
  },
  {
   "cell_type": "code",
   "execution_count": 8,
   "id": "e8110d58-5d80-4a00-859c-72b7bb405915",
   "metadata": {},
   "outputs": [
    {
     "name": "stdout",
     "output_type": "stream",
     "text": [
      "Initialized model with pretrained weights from /dccstor/hoo-misha-1/wilds/wilds/pretrained/breeds/breeds_DANN.pth previously trained for 11 epochs with previous val metric 0.9428203962574587 \n"
     ]
    }
   ],
   "source": [
    "# Initialize algorithm & load pretrained weights if provided\n",
    "algorithm = initialize_algorithm(\n",
    "    config=config,\n",
    "    datasets=wilds_datasets,\n",
    "    train_grouper=train_grouper,\n",
    "    unlabeled_dataset=unlabeled_dataset,\n",
    ")"
   ]
  },
  {
   "cell_type": "code",
   "execution_count": 9,
   "id": "d565749b-d69c-4e2b-b99a-7643b73472fc",
   "metadata": {},
   "outputs": [],
   "source": [
    "from robustness.tools.breeds_helpers import make_entity13\n",
    "from robustness.tools.breeds_helpers import ClassHierarchy\n",
    "#from robustness import datasets\n",
    "from scripts import datasets"
   ]
  },
  {
   "cell_type": "markdown",
   "id": "da9da52c-80d6-4fb9-bb01-73c9e698f3cf",
   "metadata": {},
   "source": [
    "# Initialize BREEDS"
   ]
  },
  {
   "cell_type": "code",
   "execution_count": 10,
   "id": "2967eca8-d2d2-4f3c-acef-febe69da5584",
   "metadata": {},
   "outputs": [],
   "source": [
    "data_dir = '/dccstor/leonidka1/data/imagenet/ILSVRC/Data/CLS-LOC/'\n",
    "info_dir = '/dccstor/hoo-misha-1/wilds/BREEDS-Benchmarks/imagenet_class_hierarchy/modified'\n",
    "num_workers = 8\n",
    "batch_size = 16\n",
    "\n",
    "hier = ClassHierarchy(info_dir)"
   ]
  },
  {
   "cell_type": "code",
   "execution_count": 11,
   "id": "f54bb691-cbc3-479e-b248-aa65c63e206c",
   "metadata": {},
   "outputs": [],
   "source": [
    "ret = make_entity13(info_dir, split=\"rand\")\n",
    "superclasses, subclass_split, label_map = ret"
   ]
  },
  {
   "cell_type": "code",
   "execution_count": 12,
   "id": "1eb2ee8f-dbdf-4c76-b9fc-48abf9c9ba88",
   "metadata": {},
   "outputs": [],
   "source": [
    "train_subclasses, test_subclasses = subclass_split\n",
    "train_subclasses = np.array(train_subclasses)\n",
    "test_subclasses = np.array(test_subclasses)"
   ]
  },
  {
   "cell_type": "code",
   "execution_count": 13,
   "id": "0cdbae5b-1933-43a1-81eb-9898ed6a168c",
   "metadata": {},
   "outputs": [
    {
     "data": {
      "text/plain": [
       "array([[869, 399, 578, 735, 652, 610, 501, 445, 655, 842],\n",
       "       [ 87,  92,  91, 137,  14, 145, 129, 135,  85,  21],\n",
       "       [ 45,  42,  51,  47,  52,  63,  55,  35,  58,  33],\n",
       "       [119,  72, 300,  75,  73, 317, 302, 120, 309, 313],\n",
       "       [284, 350, 292, 344, 174, 149, 375, 258, 283, 170],\n",
       "       [443, 552, 824, 728, 433, 514, 679, 518, 570, 638],\n",
       "       [484, 814, 554, 914, 404, 510, 628, 871, 812, 403],\n",
       "       [890, 681, 430, 590, 872, 745, 422, 664, 522, 416],\n",
       "       [894, 861, 553, 669, 564, 431, 493, 559, 556, 789],\n",
       "       [881, 695, 626, 822, 704, 499, 845, 398, 778, 512],\n",
       "       [483, 442, 562, 727, 920, 460, 500, 663, 743, 900],\n",
       "       [803, 867, 751, 791, 880, 670, 705, 654, 609, 757],\n",
       "       [937, 987, 950, 943, 940, 942, 941, 938, 945, 952]])"
      ]
     },
     "execution_count": 13,
     "metadata": {},
     "output_type": "execute_result"
    }
   ],
   "source": [
    "train_subclasses"
   ]
  },
  {
   "cell_type": "code",
   "execution_count": 14,
   "id": "1c3a98e9-809c-49d8-b2f7-a3e87e609b96",
   "metadata": {},
   "outputs": [
    {
     "data": {
      "text/plain": [
       "130"
      ]
     },
     "execution_count": 14,
     "metadata": {},
     "output_type": "execute_result"
    }
   ],
   "source": [
    "len(np.unique(train_subclasses))"
   ]
  },
  {
   "cell_type": "code",
   "execution_count": 15,
   "id": "f6bb724a-a0bc-4f33-8ceb-ace12141ebca",
   "metadata": {},
   "outputs": [],
   "source": [
    "train_subdomains_subclasses = {}\n",
    "test_subdomains_subclasses = {}\n",
    "for i in range(train_subclasses.shape[1]):\n",
    "    for subclass in train_subclasses[:,i]:\n",
    "        train_subdomains_subclasses[subclass] = torch.tensor([i,i]).to('cpu')\n",
    "    \n",
    "for i in range(test_subclasses.shape[1]):\n",
    "    for subclass in test_subclasses[:,i]:\n",
    "        test_subdomains_subclasses[subclass] = torch.tensor([i,i]).to('cpu')"
   ]
  },
  {
   "cell_type": "code",
   "execution_count": 16,
   "id": "c65e2ac5-c66a-47e4-9683-98e9240da48b",
   "metadata": {},
   "outputs": [
    {
     "name": "stdout",
     "output_type": "stream",
     "text": [
      "==> Preparing dataset custom_imagenet..\n"
     ]
    }
   ],
   "source": [
    "dataset_source = datasets.WILDSCustomImageNet(data_dir, train_subclasses, train_subdomains_subclasses)\n",
    "loaders_source = dataset_source.make_loaders(num_workers, batch_size)\n",
    "train_loader_source, val_loader_source = loaders_source"
   ]
  },
  {
   "cell_type": "code",
   "execution_count": 17,
   "id": "39ea27d0-3a31-4906-b136-fbf2a2b1b1a0",
   "metadata": {},
   "outputs": [
    {
     "name": "stdout",
     "output_type": "stream",
     "text": [
      "==> Preparing dataset custom_imagenet..\n"
     ]
    }
   ],
   "source": [
    "dataset_target = datasets.WILDSCustomImageNet(data_dir, test_subclasses, test_subdomains_subclasses)\n",
    "loaders_target = dataset_target.make_loaders(num_workers, batch_size)\n",
    "train_loader_target, val_loader_target = loaders_target"
   ]
  },
  {
   "cell_type": "code",
   "execution_count": 18,
   "id": "fdd676c7-3d46-4c38-b9d0-d9442eca222d",
   "metadata": {},
   "outputs": [],
   "source": [
    "def prune_model():\n",
    "    global config, wilds_datasets, train_grouper, unlabeled_dataset\n",
    "    print(f'|   Pruning {config.model}')\n",
    "    print(\"|   |   \", end = '')\n",
    "    # Initialize algorithm & load pretrained weights if provided\n",
    "    algorithm = initialize_algorithm(\n",
    "        config=config,\n",
    "        datasets=wilds_datasets,\n",
    "        train_grouper=train_grouper,\n",
    "    )\n",
    "    if 'resnet' in config.model:\n",
    "        algorithm.model = next(algorithm.model.children())\n",
    "        for param in algorithm.model.parameters():\n",
    "            param.requires_grad = False\n",
    "        return algorithm.model\n",
    "    elif 'densenet' in config.model:\n",
    "        algorithm.model.classifier = nn.Identity(1024)\n",
    "        for param in algorithm.model.parameters():\n",
    "            param.requires_grad = False\n",
    "        return algorithm.model\n",
    "    raise Exception('New model, no pruning done')"
   ]
  },
  {
   "cell_type": "markdown",
   "id": "0c574cc5-eafc-4373-839d-fd19084abd70",
   "metadata": {},
   "source": [
    "# Replace WILDS dataset with BREEDS dataset"
   ]
  },
  {
   "cell_type": "code",
   "execution_count": 19,
   "id": "0c533883-1128-49d5-a4d1-497882ccd5e1",
   "metadata": {},
   "outputs": [],
   "source": [
    "#model = prune_model()"
   ]
  },
  {
   "cell_type": "code",
   "execution_count": 20,
   "id": "e68eda3d-f8ae-4dc7-a3b6-c833c3feb184",
   "metadata": {},
   "outputs": [
    {
     "name": "stdout",
     "output_type": "stream",
     "text": [
      "Initialized model with pretrained weights from /dccstor/hoo-misha-1/wilds/wilds/pretrained/breeds/breeds_DANN.pth previously trained for 11 epochs with previous val metric 0.9428203962574587 \n"
     ]
    }
   ],
   "source": [
    "algorithm = initialize_algorithm(\n",
    "        config=config,\n",
    "        datasets=wilds_datasets,\n",
    "        train_grouper=train_grouper,\n",
    "    )"
   ]
  },
  {
   "cell_type": "code",
   "execution_count": 21,
   "id": "5a53153f-9ff3-4271-8254-5a88ad7d8295",
   "metadata": {},
   "outputs": [],
   "source": [
    "model = algorithm.model"
   ]
  },
  {
   "cell_type": "code",
   "execution_count": 22,
   "id": "6ae5d75c-88e6-4cd6-a343-a3407dee5b10",
   "metadata": {},
   "outputs": [],
   "source": [
    "#Deep CORAL\n",
    "if config.algorithm == 'deepCORAL':\n",
    "    model = next(model.children())\n",
    "elif config.algorithm == 'wassersteindeepCORAL':\n",
    "    model = next(model.children())\n",
    "# ERM\n",
    "elif config.algorithm == 'ERM':\n",
    "    model.fc = nn.Identity(2048)\n",
    "# DANN\n",
    "elif config.algorithm == 'DANN':\n",
    "    model.classifier = nn.Identity(2048)\n",
    "\n"
   ]
  },
  {
   "cell_type": "code",
   "execution_count": 23,
   "id": "0f29ed41-27fd-43ce-a5aa-67af43950dee",
   "metadata": {},
   "outputs": [],
   "source": [
    "features = np.array([None] * len(train_loader_target))\n",
    "y = np.array([None] * len(train_loader_target))\n",
    "metadata = np.array([None] * len(train_loader_target))"
   ]
  },
  {
   "cell_type": "code",
   "execution_count": 24,
   "id": "aeece0b7-3993-41fb-bd6e-618eef60cb55",
   "metadata": {},
   "outputs": [
    {
     "name": "stderr",
     "output_type": "stream",
     "text": [
      "100%|███████████████████████████████████████████████████████████████████████████████████████████████████████████████████████████████████████████████████████████████████████████████████████████████████████████████████| 10475/10475 [07:31<00:00, 23.20it/s]\n"
     ]
    }
   ],
   "source": [
    "count = 0\n",
    "for X_batch, y_batch , metadata_batch in tqdm(train_loader_target):\n",
    "    #print(psutil.virtual_memory()[2])\n",
    "    # if count % 100 == 0:\n",
    "        # info = nvidia_smi.nvmlDeviceGetMemoryInfo(handle)\n",
    "        # print(\"Device {}: {}, Memory : ({:.2f}% free): {}(total), {} (free), {} (used)\".format(0, nvidia_smi.nvmlDeviceGetName(handle), 100*info.free/info.total, info.total, info.free, info.used))\n",
    "        # print('CPU util', psutil.cpu_percent(4))\n",
    "    try:\n",
    "        features_batch = model(X_batch.to(config.device))\n",
    "        if config.algorithm == 'DANN':\n",
    "            features_batch = model(X_batch.to(config.device))[0]\n",
    "        #print(features_batch.shape)\n",
    "        if type(features_batch) is tuple:\n",
    "            #print('is tup')\n",
    "            features_batch = features_batch[0].detach().cpu().numpy()\n",
    "        else:\n",
    "            features_batch = features_batch.detach().cpu().numpy()\n",
    "        y_batch = y_batch.detach().cpu().numpy()\n",
    "        metadata_batch = metadata_batch.detach().cpu().numpy()\n",
    "        #print('h')\n",
    "        # if features is None:\n",
    "        #     features = features_batch\n",
    "        # else:\n",
    "        #     features = np.vstack((features, features_batch))\n",
    "        features[count] = features_batch\n",
    "        #print(features_batch.device)\n",
    "        # if y is None:\n",
    "        #     y = y_batch\n",
    "        # else:\n",
    "        #     y = np.concatenate((y, y_batch))\n",
    "        y[count] = y_batch\n",
    "        metadata[count] = metadata_batch\n",
    "        \n",
    "        # if metadata is None:\n",
    "        #     metadata = metadata_batch\n",
    "        # else:\n",
    "        #     metadata = np.vstack((metadata,metadata_batch))\n",
    "        count += 1\n",
    "    except Exception as e:\n",
    "        print(e)"
   ]
  },
  {
   "cell_type": "code",
   "execution_count": 25,
   "id": "36461fe5-bc49-4d40-bd3e-fc0860611308",
   "metadata": {},
   "outputs": [],
   "source": [
    "config.dataset = 'breeds'\n",
    "split = 'test'"
   ]
  },
  {
   "cell_type": "code",
   "execution_count": 26,
   "id": "fb3143d9-306e-4318-9f81-3177edbef930",
   "metadata": {},
   "outputs": [
    {
     "name": "stdout",
     "output_type": "stream",
     "text": [
      "|   |   Features has shape (167592, 2048) and labels has shape (167592,)\n",
      "|   |   |   Features saved to /dccstor/hoo-misha-1/wilds/wilds/features/breeds/DANN/resnet50_test_features.npy\n",
      "|   |   |   Labels saved to /dccstor/hoo-misha-1/wilds/wilds/features/breeds/DANN/resnet50_test_labels.npy\n",
      "|   |   |    Metadata saved to /dccstor/hoo-misha-1/wilds/wilds/features/breeds/DANN/resnet50_test_metadata.npy\n"
     ]
    }
   ],
   "source": [
    "features = np.vstack(features)\n",
    "y = np.concatenate(y)\n",
    "metadata = np.vstack(metadata)\n",
    "print(f'|   |   Features has shape {features.shape} and labels has shape {y.shape}')\n",
    "save_path_base = f'/dccstor/hoo-misha-1/wilds/wilds/features/{config.dataset}/{config.algorithm}'\n",
    "if not os.path.exists(save_path_base):\n",
    "    os.makedirs(save_path_base)\n",
    "features_save_path = f'{save_path_base}/{config.model}_{split}_features.npy'\n",
    "labels_save_path = f'{save_path_base}/{config.model}_{split}_labels.npy'\n",
    "metadata_save_path = f'{save_path_base}/{config.model}_{split}_metadata.npy'\n",
    "np.save(features_save_path, features)\n",
    "np.save(labels_save_path, y)\n",
    "np.save(metadata_save_path, metadata)\n",
    "print(f'|   |   |   Features saved to {features_save_path}')\n",
    "print(f'|   |   |   Labels saved to {labels_save_path}')\n",
    "print(f'|   |   |    Metadata saved to {metadata_save_path}')"
   ]
  },
  {
   "cell_type": "code",
   "execution_count": null,
   "id": "22b09be0-92f0-494e-9084-6ec817f5da4b",
   "metadata": {},
   "outputs": [],
   "source": []
  },
  {
   "cell_type": "code",
   "execution_count": null,
   "id": "dbcb4386-9c8f-4cdf-b75f-28e00a6cda0d",
   "metadata": {},
   "outputs": [],
   "source": []
  },
  {
   "cell_type": "code",
   "execution_count": null,
   "id": "52ec9f4e-3137-4292-a770-4411cc749a09",
   "metadata": {},
   "outputs": [],
   "source": []
  }
 ],
 "metadata": {
  "kernelspec": {
   "display_name": "Python 3 (ipykernel)",
   "language": "python",
   "name": "python3"
  },
  "language_info": {
   "codemirror_mode": {
    "name": "ipython",
    "version": 3
   },
   "file_extension": ".py",
   "mimetype": "text/x-python",
   "name": "python",
   "nbconvert_exporter": "python",
   "pygments_lexer": "ipython3",
   "version": "3.8.13"
  }
 },
 "nbformat": 4,
 "nbformat_minor": 5
}
