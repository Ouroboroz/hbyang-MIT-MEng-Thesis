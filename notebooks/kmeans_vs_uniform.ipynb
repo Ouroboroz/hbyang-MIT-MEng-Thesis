{
 "cells": [
  {
   "cell_type": "code",
   "execution_count": 51,
   "id": "e5b0d069-8059-4437-ac6d-8bd8e9e63da3",
   "metadata": {},
   "outputs": [],
   "source": [
    "import sys\n",
    "sys.path.append('/dccstor/hoo-misha-1/wilds/wilds/examples')\n",
    "import os\n",
    "\n",
    "import numpy as np\n",
    "\n",
    "from ipywidgets import interact, interactive, fixed, interact_manual\n",
    "import matplotlib.pyplot as plt\n",
    "\n",
    "import pickle"
   ]
  },
  {
   "cell_type": "code",
   "execution_count": 52,
   "id": "3e2a5b30-29c5-4ad1-bc6f-1f511b667b68",
   "metadata": {},
   "outputs": [],
   "source": [
    "plt.rcParams['figure.dpi'] = 300\n",
    "plt.rcParams['savefig.dpi'] = 300"
   ]
  },
  {
   "cell_type": "code",
   "execution_count": 53,
   "id": "ca3c749e-38eb-4340-beba-14ebd62197a6",
   "metadata": {},
   "outputs": [],
   "source": [
    "def load_flm():\n",
    "    test_features = np.load(f'{path_base}/resnet50_test_features.npy')\n",
    "    test_labels = np.load(f'{path_base}/resnet50_test_labels.npy')\n",
    "    test_metadata = np.load(f'{path_base}/resnet50_test_metadata.npy')\n",
    "    return test_features, test_labels, test_metadata"
   ]
  },
  {
   "cell_type": "code",
   "execution_count": 54,
   "id": "8a523a61-95c2-4602-8f90-8da9164935a3",
   "metadata": {},
   "outputs": [],
   "source": [
    "def get_cam_ind(metadata, num_cams=1, cam_id = None):\n",
    "    unique_counts = np.unique(metadata[:,0],return_counts=True)\n",
    "    if cam_id is None:\n",
    "        top_id = unique_counts[0][np.argpartition(unique_counts[1], -num_cams)[-num_cams:]]\n",
    "    else:\n",
    "        top_id = cam_id\n",
    "    print(f'Selecting cameras with ids {top_id}')\n",
    "    ind = np.zeros(metadata.shape[0]) == 1\n",
    "    for c_id in top_id:\n",
    "        ind = np.logical_or(ind,metadata[:,0] == c_id)\n",
    "    return ind"
   ]
  },
  {
   "cell_type": "code",
   "execution_count": 55,
   "id": "55c223fe-ca89-4e0a-8e3a-99ce4666a176",
   "metadata": {},
   "outputs": [],
   "source": [
    "def cam_flm(num_cams=1, cam_id = None):\n",
    "    features, labels, metadata = load_flm()\n",
    "    cam_ind = get_cam_ind(metadata, num_cams, cam_id)\n",
    "    return features[cam_ind], labels[cam_ind], metadata[cam_ind]"
   ]
  },
  {
   "cell_type": "code",
   "execution_count": 56,
   "id": "123bdea2-fba2-476f-8604-22cea3d1ce9a",
   "metadata": {},
   "outputs": [],
   "source": [
    "def get_dict_path(root_path):\n",
    "    cam_dict_path = f'{root_path}_cam_dict.pkl'\n",
    "    orig_dict_path = f'{root_path}_orig_dict.pkl'\n",
    "    \n",
    "    with open(cam_dict_path,'rb') as file:\n",
    "        cam_dict = pickle.load(file)\n",
    "\n",
    "    with open(orig_dict_path,'rb') as file:\n",
    "        orig_dict = pickle.load(file)\n",
    "    \n",
    "    return cam_dict, orig_dict"
   ]
  },
  {
   "cell_type": "markdown",
   "id": "91610e2a-fa9b-4184-bd9d-492604a7204e",
   "metadata": {},
   "source": [
    "## Uniform Sampling\n"
   ]
  },
  {
   "cell_type": "code",
   "execution_count": 79,
   "id": "c158f092-a34c-4cae-af1e-5b783b7c4962",
   "metadata": {},
   "outputs": [],
   "source": [
    "cam_dict, orig_dict = get_dict_path('/dccstor/hoo-misha-1/wilds/wilds/results/iwildcam/PseudoLabel')\n",
    "ba_cam_dict, ba_orig_dict = get_dict_path('/dccstor/hoo-misha-1/wilds/wilds/ba')"
   ]
  },
  {
   "cell_type": "code",
   "execution_count": 80,
   "id": "98db404f-49ca-4ba1-9b12-2afceb289797",
   "metadata": {},
   "outputs": [],
   "source": [
    "path_base = '/dccstor/hoo-misha-1/wilds/wilds/features/iwildcam/ERM'\n",
    "cam_ids = list(cam_dict.keys())"
   ]
  },
  {
   "cell_type": "code",
   "execution_count": 81,
   "id": "1a2d4db8-aef1-401d-aef4-ab4974a17c54",
   "metadata": {},
   "outputs": [
    {
     "data": {
      "application/vnd.jupyter.widget-view+json": {
       "model_id": "f69ce46a8263411ea4616f35040c9737",
       "version_major": 2,
       "version_minor": 0
      },
      "text/plain": [
       "interactive(children=(IntSlider(value=10, description='cam_ind', max=21), Output()), _dom_classes=('widget-int…"
      ]
     },
     "metadata": {},
     "output_type": "display_data"
    }
   ],
   "source": [
    "good_inds = []\n",
    "for i in range(len(cam_ids)):\n",
    "    predictions = cam_dict[cam_ids[i]]\n",
    "    if predictions[-1] > 0:\n",
    "        good_inds.append(i)\n",
    "def print_green(text, green=True, end='\\n'):\n",
    "    print(f'\\x1b[{32 if green else 31}m{text}\\x1b[0m', end=end)\n",
    "def plot(cam_ind):\n",
    "    cam_ind = good_inds[cam_ind]\n",
    "    print(f'Selecting camera with id {cam_ids[cam_ind]}')\n",
    "    predictions = cam_dict[cam_ids[cam_ind]]\n",
    "    print(f'Original {orig_dict[cam_ids[cam_ind]]}')\n",
    "    print(f'Max {max(predictions)}')\n",
    "    metadata = np.load(f'{path_base}/resnet50_test_metadata.npy')\n",
    "    unique_counts = np.unique(metadata[:,0],return_counts=True)\n",
    "    ind = np.where(unique_counts[0] == cam_ids[cam_ind])\n",
    "    print(f'With {unique_counts[1][ind]} data points pre-pruning')\n",
    "    predictions = np.hstack((orig_dict[cam_ids[cam_ind]] , predictions))\n",
    "    plt.title('Accuracy vs Shots')\n",
    "    plt.ylabel(\"Accuracy\")\n",
    "    plt.xlabel(\"Number of Shots\")\n",
    "    plt.plot(range(0,len(predictions)), predictions, label='Balanced')\n",
    "    plt.legend()\n",
    "interact(plot, cam_ind=(0,len(good_inds)-1));"
   ]
  },
  {
   "cell_type": "code",
   "execution_count": 60,
   "id": "7d62fc89-5ac5-41c0-8c3f-f298a92866c2",
   "metadata": {},
   "outputs": [
    {
     "data": {
      "application/vnd.jupyter.widget-view+json": {
       "model_id": "6b1b2f42f81747008fac6e17e25d49d0",
       "version_major": 2,
       "version_minor": 0
      },
      "text/plain": [
       "interactive(children=(IntSlider(value=10, description='cam_ind', max=21), Output()), _dom_classes=('widget-int…"
      ]
     },
     "metadata": {},
     "output_type": "display_data"
    }
   ],
   "source": [
    "good_inds = []\n",
    "for i in range(len(cam_ids)):\n",
    "    predictions = ba_cam_dict[cam_ids[i]]\n",
    "    if predictions[-1] > 0:\n",
    "        good_inds.append(i)\n",
    "def print_green(text, green=True, end='\\n'):\n",
    "    print(f'\\x1b[{32 if green else 31}m{text}\\x1b[0m', end=end)\n",
    "def plot(cam_ind):\n",
    "    cam_ind = good_inds[cam_ind]\n",
    "    print(f'Selecting camera with id {cam_ids[cam_ind]}')\n",
    "    predictions = ba_cam_dict[cam_ids[cam_ind]]\n",
    "    print(f'Original {ba_orig_dict[cam_ids[cam_ind]]}')\n",
    "    print(f'Max {max(predictions)}')\n",
    "    metadata = np.load(f'{path_base}/resnet50_test_metadata.npy')\n",
    "    unique_counts = np.unique(metadata[:,0],return_counts=True)\n",
    "    ind = np.where(unique_counts[0] == cam_ids[cam_ind])\n",
    "    print(f'With {unique_counts[1][ind]} data points pre-pruning')\n",
    "    predictions = np.hstack((ba_orig_dict[cam_ids[cam_ind]] , predictions))\n",
    "    plt.title('Balanced Accuracy vs Shots')\n",
    "    plt.xlabel(\"Balanced Accuracy\")\n",
    "    plt.ylabel(\"Number of Shots\")\n",
    "    plt.plot(range(0,len(predictions)), predictions, label='Balanced')\n",
    "    plt.legend()\n",
    "interact(plot, cam_ind=(0,len(good_inds)-1));"
   ]
  },
  {
   "cell_type": "markdown",
   "id": "a72e22fd-dab4-47f8-accb-b6fc46e6e9a7",
   "metadata": {},
   "source": [
    "## KMeans vs Uniform"
   ]
  },
  {
   "cell_type": "code",
   "execution_count": 61,
   "id": "02a54a70-1801-4132-a0c9-db597ba1af4a",
   "metadata": {},
   "outputs": [],
   "source": [
    "cam_dict, orig_dict = get_dict_path('/dccstor/hoo-misha-1/wilds/wilds/results/iwildcam/PseudoLabel')\n",
    "kmeans_cam_dict, kmeans_orig_dict = get_dict_path('/dccstor/hoo-misha-1/wilds/WOODS/notebooks/data/kmeans_closest_batch_classes')"
   ]
  },
  {
   "cell_type": "code",
   "execution_count": 62,
   "id": "4932c021-95c6-4906-8331-1a61762aeff1",
   "metadata": {},
   "outputs": [],
   "source": [
    "path_base = '/dccstor/hoo-misha-1/wilds/wilds/features/iwildcam/PseudoLabel'\n",
    "cam_ids = list(cam_dict.keys() & kmeans_cam_dict.keys())"
   ]
  },
  {
   "cell_type": "code",
   "execution_count": 63,
   "id": "6582154e-cc77-49bb-a663-dce1f9593334",
   "metadata": {},
   "outputs": [
    {
     "data": {
      "application/vnd.jupyter.widget-view+json": {
       "model_id": "1813b47456174b06af2bc4efb4dcd220",
       "version_major": 2,
       "version_minor": 0
      },
      "text/plain": [
       "interactive(children=(IntSlider(value=10, description='cam_ind', max=21), Output()), _dom_classes=('widget-int…"
      ]
     },
     "metadata": {},
     "output_type": "display_data"
    }
   ],
   "source": [
    "good_inds = []\n",
    "for i in range(len(cam_ids)):\n",
    "    predictions = cam_dict[cam_ids[i]]\n",
    "    if predictions[-1] > 0:\n",
    "        good_inds.append(i)\n",
    "def print_green(text, green=True, end='\\n'):\n",
    "    print(f'\\x1b[{32 if green else 31}m{text}\\x1b[0m', end=end)\n",
    "def plot(cam_ind):\n",
    "    cam_ind = good_inds[cam_ind]\n",
    "    print(f'Selecting camera with id {cam_ids[cam_ind]}')\n",
    "    predictions = cam_dict[cam_ids[cam_ind]]\n",
    "    kmeans_predictions = kmeans_cam_dict[cam_ids[cam_ind]]\n",
    "    print(f'Original {orig_dict[cam_ids[cam_ind]]} KMeans Original {kmeans_orig_dict[cam_ids[cam_ind]]}')\n",
    "    print(f'Max {max(predictions)} KMeans Max {max(kmeans_predictions)}')\n",
    "    metadata = np.load(f'{path_base}/resnet50_test_metadata.npy')\n",
    "    unique_counts = np.unique(metadata[:,0],return_counts=True)\n",
    "    ind = np.where(unique_counts[0] == cam_ids[cam_ind])\n",
    "    print(f'With {unique_counts[1][ind]} data points pre-pruning')\n",
    "    predictions = np.hstack((orig_dict[cam_ids[cam_ind]] , predictions))\n",
    "    kmeans_predictions = np.hstack((kmeans_orig_dict[cam_ids[cam_ind]], kmeans_predictions))\n",
    "    plt.plot(range(0,len(predictions)), predictions, label='Uniform')\n",
    "    plt.plot(range(0,len(kmeans_predictions)), kmeans_predictions, label='Kmeans')\n",
    "    plt.legend()\n",
    "    f,l,m = cam_flm(cam_id=[cam_ids[cam_ind]])\n",
    "    label_unique_counts = np.unique(l, return_counts=True)\n",
    "    print(f'Total of {sum(label_unique_counts[1] > 25)} classes over cutoff')\n",
    "    print('[',end='')\n",
    "    for y,c in zip(label_unique_counts[0], label_unique_counts[1]):\n",
    "        print_green(f'{y}:{c}:{c/sum(label_unique_counts[1]):.2f}, ', c > 25, end='')\n",
    "    print(']')\n",
    "interact(plot, cam_ind=(0,len(good_inds)-1));"
   ]
  },
  {
   "cell_type": "markdown",
   "id": "05bb1ab8-20a1-4593-acd8-d0e824aeef22",
   "metadata": {},
   "source": [
    "## Balanced Accuracy"
   ]
  },
  {
   "cell_type": "code",
   "execution_count": 64,
   "id": "ffd50e3b-e4b0-4bad-9d48-45c6b4e3356d",
   "metadata": {},
   "outputs": [],
   "source": [
    "ba_cam_dict, ba_orig_dict = get_dict_path('/dccstor/hoo-misha-1/wilds/wilds/ba')\n",
    "#ba_kmeans_cam_dict, ba_kmeans_orig_dict = get_dict_path('/dccstor/hoo-misha-1/wilds/WOODS/notebooks/data/ba_kmeans_closest_classes')\n",
    "ba_kmeans_cam_dict, ba_kmeans_orig_dict = get_dict_path('/dccstor/hoo-misha-1/wilds/WOODS/notebooks/data/ba_full_kmeans_closest_batch_classes')"
   ]
  },
  {
   "cell_type": "code",
   "execution_count": 65,
   "id": "7c46fc52-25bc-49c1-8db8-9c222a185ff8",
   "metadata": {},
   "outputs": [
    {
     "data": {
      "application/vnd.jupyter.widget-view+json": {
       "model_id": "c4355c784b344dedb6cd34cca30d692b",
       "version_major": 2,
       "version_minor": 0
      },
      "text/plain": [
       "interactive(children=(IntSlider(value=10, description='cam_ind', max=21), Output()), _dom_classes=('widget-int…"
      ]
     },
     "metadata": {},
     "output_type": "display_data"
    }
   ],
   "source": [
    "good_inds = []\n",
    "for i in range(len(cam_ids)):\n",
    "    predictions = ba_kmeans_cam_dict[cam_ids[i]]\n",
    "    if predictions[-1] > 0:\n",
    "        good_inds.append(i)\n",
    "\n",
    "def plot(cam_ind):\n",
    "    cam_ind = good_inds[cam_ind]\n",
    "    print(f'Selecting camera with id {cam_ids[cam_ind]}')\n",
    "    predictions = ba_cam_dict[cam_ids[cam_ind]]\n",
    "    kmeans_predictions = ba_kmeans_cam_dict[cam_ids[cam_ind]]\n",
    "    print(f'Original {ba_orig_dict[cam_ids[cam_ind]]} KMeans Original {ba_kmeans_orig_dict[cam_ids[cam_ind]]}')\n",
    "    print(f'Max {max(predictions)} KMeans Max {max(kmeans_predictions)}')\n",
    "    metadata = np.load(f'{path_base}/resnet50_test_metadata.npy')\n",
    "    unique_counts = np.unique(metadata[:,0],return_counts=True)\n",
    "    ind = np.where(unique_counts[0] == cam_ids[cam_ind])\n",
    "    print(f'With {unique_counts[1][ind]} data points pre-pruning')\n",
    "    predictions = np.hstack((ba_orig_dict[cam_ids[cam_ind]] , predictions))\n",
    "    kmeans_predictions = np.hstack((ba_kmeans_orig_dict[cam_ids[cam_ind]], kmeans_predictions))\n",
    "    plt.plot(range(0,len(predictions)), predictions, label='Uniform')\n",
    "    plt.plot(range(0,len(kmeans_predictions)), kmeans_predictions, label='Kmeans')\n",
    "    plt.legend()\n",
    "    f,l,m = cam_flm(cam_id=[cam_ids[cam_ind]])\n",
    "    label_unique_counts = np.unique(l, return_counts=True)\n",
    "    print(f'Total of {sum(label_unique_counts[1] > 25)} classes over cutoff')\n",
    "    print('[',end='')\n",
    "    for y,c in zip(label_unique_counts[0], label_unique_counts[1]):\n",
    "        print_green(f'{y}:{c}:{c/sum(label_unique_counts[1]):.2f}, ', c > 25, end='')\n",
    "    print(']')\n",
    "interact(plot, cam_ind=(0,len(good_inds)-1));"
   ]
  },
  {
   "cell_type": "markdown",
   "id": "7326649f-5cac-412e-98db-73fbcc60f906",
   "metadata": {},
   "source": [
    "## Iterative Kmeans Sampling"
   ]
  },
  {
   "cell_type": "code",
   "execution_count": 66,
   "id": "bca1452d-7448-4a69-8d1e-6fbf80408226",
   "metadata": {},
   "outputs": [],
   "source": [
    "argmax_cam_dict, argmax_orig_dict = get_dict_path('/dccstor/hoo-misha-1/wilds/WOODS/notebooks/kmeans_argmax_n_classes')\n",
    "ba_argmax_cam_dict, ba_argmax_orig_dict = get_dict_path('/dccstor/hoo-misha-1/wilds/WOODS/notebooks/ba_kmeans_argmax_n_classes')"
   ]
  },
  {
   "cell_type": "code",
   "execution_count": 67,
   "id": "c1429d2e-8365-450c-98c6-e5a50e937484",
   "metadata": {},
   "outputs": [
    {
     "data": {
      "application/vnd.jupyter.widget-view+json": {
       "model_id": "9c7d81392ae94e079c0dd3e9f8249096",
       "version_major": 2,
       "version_minor": 0
      },
      "text/plain": [
       "interactive(children=(IntSlider(value=5, description='cam_ind', max=10), Output()), _dom_classes=('widget-inte…"
      ]
     },
     "metadata": {},
     "output_type": "display_data"
    }
   ],
   "source": [
    "good_inds = []\n",
    "for i in range(len(cam_ids)):\n",
    "    if len(argmax_cam_dict[cam_ids[i]]) == 0:\n",
    "        continue\n",
    "    predictions = argmax_cam_dict[cam_ids[i]]\n",
    "    if predictions[-1] > 0:\n",
    "        good_inds.append(i)\n",
    "\n",
    "def print_green(text, green=True, end='\\n'):\n",
    "    print(f'\\x1b[{32 if green else 31}m{text}\\x1b[0m', end=end)\n",
    "def plot(cam_ind):\n",
    "    cam_ind = good_inds[cam_ind]\n",
    "    print(f'Selecting camera with id {cam_ids[cam_ind]}')\n",
    "    predictions = argmax_cam_dict[cam_ids[cam_ind]]\n",
    "    print(f'Original {argmax_orig_dict[cam_ids[cam_ind]]}')\n",
    "    print(f'Max {max(predictions)}')\n",
    "    metadata = np.load(f'{path_base}/resnet50_test_metadata.npy')\n",
    "    unique_counts = np.unique(metadata[:,0],return_counts=True)\n",
    "    ind = np.where(unique_counts[0] == cam_ids[cam_ind])\n",
    "    print(f'With {unique_counts[1][ind]} data points pre-pruning')\n",
    "    predictions = np.hstack((argmax_orig_dict[cam_ids[cam_ind]] , predictions))\n",
    "    plt.plot(range(0,len(predictions)), predictions, label='Iterative')\n",
    "    plt.legend()\n",
    "interact(plot, cam_ind=(0,len(good_inds)-1));"
   ]
  },
  {
   "cell_type": "code",
   "execution_count": 68,
   "id": "dbeec553-621d-4807-9a41-107570541142",
   "metadata": {},
   "outputs": [
    {
     "data": {
      "application/vnd.jupyter.widget-view+json": {
       "model_id": "3d36273b9f1b44c4bcfa6f124b86c866",
       "version_major": 2,
       "version_minor": 0
      },
      "text/plain": [
       "interactive(children=(IntSlider(value=5, description='cam_ind', max=10), Output()), _dom_classes=('widget-inte…"
      ]
     },
     "metadata": {},
     "output_type": "display_data"
    }
   ],
   "source": [
    "good_inds = []\n",
    "for i in range(len(cam_ids)):\n",
    "    if len(ba_argmax_cam_dict[cam_ids[i]]) == 0:\n",
    "        continue\n",
    "    predictions = ba_argmax_cam_dict[cam_ids[i]]\n",
    "    if predictions[-1] > 0:\n",
    "        good_inds.append(i)\n",
    "\n",
    "def print_green(text, green=True, end='\\n'):\n",
    "    print(f'\\x1b[{32 if green else 31}m{text}\\x1b[0m', end=end)\n",
    "def plot(cam_ind):\n",
    "    cam_ind = good_inds[cam_ind]\n",
    "    print(f'Selecting camera with id {cam_ids[cam_ind]}')\n",
    "    predictions = ba_argmax_cam_dict[cam_ids[cam_ind]]\n",
    "    print(f'Original {ba_orig_dict[cam_ids[cam_ind]]}')\n",
    "    print(f'Max {max(predictions)}')\n",
    "    metadata = np.load(f'{path_base}/resnet50_test_metadata.npy')\n",
    "    unique_counts = np.unique(metadata[:,0],return_counts=True)\n",
    "    ind = np.where(unique_counts[0] == cam_ids[cam_ind])\n",
    "    print(f'With {unique_counts[1][ind]} data points pre-pruning')\n",
    "    predictions = np.hstack((ba_orig_dict[cam_ids[cam_ind]] , predictions))\n",
    "    # predictions = np.hstack((ba_argmax_orig_dict[cam_ids[cam_ind]] , predictions))\n",
    "    plt.plot(range(0,len(predictions)), predictions, label='Uniform')\n",
    "    plt.legend()\n",
    "interact(plot, cam_ind=(0,len(good_inds)-1));"
   ]
  },
  {
   "cell_type": "markdown",
   "id": "9782a899-ed2f-46e3-9569-46ff65da15f4",
   "metadata": {},
   "source": [
    "## Overall Comparison"
   ]
  },
  {
   "cell_type": "code",
   "execution_count": 69,
   "id": "2275a057-1acb-4f0c-90a2-3bc9f0f40f03",
   "metadata": {},
   "outputs": [],
   "source": [
    "cam_ids = list(cam_dict.keys() & kmeans_cam_dict.keys() & argmax_cam_dict.keys())"
   ]
  },
  {
   "cell_type": "code",
   "execution_count": 70,
   "id": "bd1d803b-c13d-4338-a1b6-6b56d923873d",
   "metadata": {},
   "outputs": [
    {
     "data": {
      "application/vnd.jupyter.widget-view+json": {
       "model_id": "fce132d47af2488d95cf32284a06fca3",
       "version_major": 2,
       "version_minor": 0
      },
      "text/plain": [
       "interactive(children=(IntSlider(value=5, description='cam_ind', max=10), Output()), _dom_classes=('widget-inte…"
      ]
     },
     "metadata": {},
     "output_type": "display_data"
    }
   ],
   "source": [
    "good_inds = []\n",
    "for i in range(len(cam_ids)):\n",
    "    predictions = argmax_cam_dict[cam_ids[i]]\n",
    "    if len(predictions) == 0:\n",
    "        continue\n",
    "    if predictions[-1] > 0:\n",
    "        good_inds.append(i)\n",
    "def print_green(text, green=True, end='\\n'):\n",
    "    print(f'\\x1b[{32 if green else 31}m{text}\\x1b[0m', end=end)\n",
    "\n",
    "def plot(cam_ind):\n",
    "    cam_ind = good_inds[cam_ind]\n",
    "    print(f'Selecting camera with id {cam_ids[cam_ind]}')\n",
    "    predictions = cam_dict[cam_ids[cam_ind]]\n",
    "    kmeans_predictions = kmeans_cam_dict[cam_ids[cam_ind]]\n",
    "    argmax_predictions = argmax_cam_dict[cam_ids[cam_ind]]\n",
    "    print(f'Original {orig_dict[cam_ids[cam_ind]]} KMeans Original {kmeans_orig_dict[cam_ids[cam_ind]]} Iterative Original {argmax_orig_dict[cam_ids[cam_ind]]}')\n",
    "    print(f'Max {max(predictions)} KMeans Max {max(kmeans_predictions)} Iterative Max {max(argmax_predictions)}')\n",
    "    metadata = np.load(f'{path_base}/resnet50_test_metadata.npy')\n",
    "    unique_counts = np.unique(metadata[:,0],return_counts=True)\n",
    "    ind = np.where(unique_counts[0] == cam_ids[cam_ind])\n",
    "    print(f'With {unique_counts[1][ind]} data points pre-pruning')\n",
    "    predictions = np.hstack((orig_dict[cam_ids[cam_ind]] , predictions))\n",
    "    kmeans_predictions = np.hstack((kmeans_orig_dict[cam_ids[cam_ind]], kmeans_predictions))\n",
    "    argmax_predictions = np.hstack((argmax_orig_dict[cam_ids[cam_ind]], argmax_predictions))\n",
    "    plt.title('Accuracy vs Shots')\n",
    "    plt.ylabel(\"Accuracy\")\n",
    "    plt.xlabel(\"Number of Shots\")\n",
    "    plt.plot(range(0,len(predictions)), predictions, label='Balanced')\n",
    "    plt.plot(range(0,len(kmeans_predictions)), kmeans_predictions, label='Kmeans')\n",
    "    plt.plot(range(0,len(argmax_predictions)), argmax_predictions, label='Iterative')\n",
    "    plt.legend()\n",
    "    plt.savefig(f'images/accuracy_{cam_ids[cam_ind]}.png')\n",
    "    f,l,m = cam_flm(cam_id=[cam_ids[cam_ind]])\n",
    "    label_unique_counts = np.unique(l, return_counts=True)\n",
    "    print(f'Total of {sum(label_unique_counts[1] > 25)} classes over cutoff')\n",
    "    print('[',end='')\n",
    "    for y,c in zip(label_unique_counts[0], label_unique_counts[1]):\n",
    "        print_green(f'{y}:{c}:{c/sum(label_unique_counts[1]):.2f}, ', c > 25, end='')\n",
    "    print(']')\n",
    "interact(plot, cam_ind=(0,len(good_inds)-1));"
   ]
  },
  {
   "cell_type": "code",
   "execution_count": 72,
   "id": "59c246d2-a0e8-43df-91c8-7284a21d9f43",
   "metadata": {},
   "outputs": [
    {
     "data": {
      "application/vnd.jupyter.widget-view+json": {
       "model_id": "44e085e67cee4f5f9824c2e931fc6333",
       "version_major": 2,
       "version_minor": 0
      },
      "text/plain": [
       "interactive(children=(IntSlider(value=5, description='cam_ind', max=10), Output()), _dom_classes=('widget-inte…"
      ]
     },
     "metadata": {},
     "output_type": "display_data"
    }
   ],
   "source": [
    "good_inds = []\n",
    "for i in range(len(cam_ids)):\n",
    "    predictions = ba_argmax_cam_dict[cam_ids[i]]\n",
    "    if len(predictions) == 0:\n",
    "        continue\n",
    "    if predictions[-1] > 0:\n",
    "        good_inds.append(i)\n",
    "def print_green(text, green=True, end='\\n'):\n",
    "    print(f'\\x1b[{32 if green else 31}m{text}\\x1b[0m', end=end)\n",
    "\n",
    "def plot(cam_ind):\n",
    "    cam_ind = good_inds[cam_ind]\n",
    "    print(f'Selecting camera with id {cam_ids[cam_ind]}')\n",
    "    predictions = ba_cam_dict[cam_ids[cam_ind]]\n",
    "    kmeans_predictions = ba_kmeans_cam_dict[cam_ids[cam_ind]]\n",
    "    argmax_predictions = ba_argmax_cam_dict[cam_ids[cam_ind]]\n",
    "    print(f'Original {ba_orig_dict[cam_ids[cam_ind]]}')\n",
    "    print(f'Max {max(predictions)} KMeans Max {max(kmeans_predictions)} Iterative Max {max(argmax_predictions)}')\n",
    "    metadata = np.load(f'{path_base}/resnet50_test_metadata.npy')\n",
    "    unique_counts = np.unique(metadata[:,0],return_counts=True)\n",
    "    ind = np.where(unique_counts[0] == cam_ids[cam_ind])\n",
    "    print(f'With {unique_counts[1][ind]} data points pre-pruning')\n",
    "    predictions = np.hstack((ba_orig_dict[cam_ids[cam_ind]] , predictions))\n",
    "    kmeans_predictions = np.hstack((ba_orig_dict[cam_ids[cam_ind]], kmeans_predictions))\n",
    "    argmax_predictions = np.hstack((ba_orig_dict[cam_ids[cam_ind]], argmax_predictions))\n",
    "    plt.title('Balanced Accuracy vs Shots')\n",
    "    plt.ylabel(\"Balanced Accuracy\")\n",
    "    plt.xlabel(\"Number of Shots\")\n",
    "    plt.plot(range(0,len(predictions)), predictions, label='Balanced')\n",
    "    plt.plot(range(0,len(kmeans_predictions)), kmeans_predictions, label='Kmeans')\n",
    "    plt.plot(range(0,len(argmax_predictions)), argmax_predictions, label='Iterative')\n",
    "    plt.legend()\n",
    "    plt.savefig(f'images/balanced_accuracy_{cam_ids[cam_ind]}.png')\n",
    "    f,l,m = cam_flm(cam_id=[cam_ids[cam_ind]])\n",
    "    label_unique_counts = np.unique(l, return_counts=True)\n",
    "    print(f'Total of {sum(label_unique_counts[1] > 25)} classes over cutoff')\n",
    "    print('[',end='')\n",
    "    for y,c in zip(label_unique_counts[0], label_unique_counts[1]):\n",
    "        print_green(f'{y}:{c}:{c/sum(label_unique_counts[1]):.2f}, ', c > 25, end='')\n",
    "    print(']')\n",
    "interact(plot, cam_ind=(0,len(good_inds)-1));"
   ]
  },
  {
   "cell_type": "markdown",
   "id": "a3a40985-4e9d-42b2-ad1d-5cf364e3dbab",
   "metadata": {},
   "source": [
    "## Comparing Different Models"
   ]
  },
  {
   "cell_type": "code",
   "execution_count": 81,
   "id": "9f618a21-042e-456d-b699-ef8a50630ac7",
   "metadata": {},
   "outputs": [],
   "source": [
    "models = ['ERM', 'PseudoLabel', 'deepCORAL', 'DANN']"
   ]
  },
  {
   "cell_type": "code",
   "execution_count": 82,
   "id": "2a0522c5-cd77-4ebe-b6f7-26f3f0324034",
   "metadata": {},
   "outputs": [
    {
     "data": {
      "application/vnd.jupyter.widget-view+json": {
       "model_id": "d494f6d526454b2a8aa0219857d26e8d",
       "version_major": 2,
       "version_minor": 0
      },
      "text/plain": [
       "interactive(children=(IntSlider(value=5, description='cam_ind', max=11), Output()), _dom_classes=('widget-inte…"
      ]
     },
     "metadata": {},
     "output_type": "display_data"
    }
   ],
   "source": [
    "model_dicts = {}\n",
    "ba_model_dicts = {}\n",
    "for model in models:\n",
    "    cam_dict, orig_dict = get_dict_path(f'/dccstor/hoo-misha-1/wilds/WOODS/results/{model}')\n",
    "    ba_cam_dict, ba_orig_dict = get_dict_path(f'/dccstor/hoo-misha-1/wilds/WOODS/results/{model}_ba')\n",
    "    model_dicts[model] = (cam_dict, orig_dict)\n",
    "    ba_model_dicts[model] = (ba_cam_dict, ba_orig_dict)\n",
    "\n",
    "\n",
    "good_inds = []\n",
    "for i in range(len(cam_ids)):\n",
    "    predictions = model_dicts['ERM'][0][cam_ids[i]]\n",
    "    if len(predictions) == 0:\n",
    "        continue\n",
    "    if predictions[-1] > 0:\n",
    "        good_inds.append(i)    \n",
    "    \n",
    "def plot_4(cam_ind):\n",
    "    cam_ind = good_inds[cam_ind]\n",
    "    for model in model_dicts:\n",
    "        cam_dict, orig_dict = model_dicts[model]\n",
    "        ba_cam_dict, ba_orig_dict = ba_model_dicts[model]\n",
    "        predictions = cam_dict[cam_ids[cam_ind]]\n",
    "        ba_predictions = ba_cam_dict[cam_ids[cam_ind]]\n",
    "        #print(f'Original {orig_dict[cam_ids[cam_ind]]} Balanced Original {ba_orig_dict[cam_ids[cam_ind]]}')\n",
    "        #print(f'Max {max(predictions)} Balanced Max {max(ba_predictions)}')\n",
    "        metadata = np.load(f'{path_base}/resnet50_test_metadata.npy')\n",
    "        unique_counts = np.unique(metadata[:,0],return_counts=True)\n",
    "        ind = np.where(unique_counts[0] == cam_ids[cam_ind])\n",
    "        #print(f'With {unique_counts[1][ind]} data points pre-pruning')\n",
    "        predictions = np.hstack((orig_dict[cam_ids[cam_ind]] , predictions))\n",
    "        ba_predictions = np.hstack((0, ba_predictions))\n",
    "        plt.subplot(2,1,1)\n",
    "        plt.title('Original')\n",
    "        plt.plot(range(0,len(predictions)), predictions, label=model)\n",
    "        plt.legend()\n",
    "        plt.subplot(2,1,2)\n",
    "        plt.title('Balanced')\n",
    "        plt.plot(range(0,len(ba_predictions)), ba_predictions, label=model)\n",
    "        plt.legend()\n",
    "interact(plot_4, cam_ind=(0,len(good_inds)));"
   ]
  },
  {
   "cell_type": "code",
   "execution_count": null,
   "id": "57295147-d0d4-4164-bb41-438b7b85e91e",
   "metadata": {},
   "outputs": [],
   "source": []
  }
 ],
 "metadata": {
  "kernelspec": {
   "display_name": "Python 3 (ipykernel)",
   "language": "python",
   "name": "python3"
  },
  "language_info": {
   "codemirror_mode": {
    "name": "ipython",
    "version": 3
   },
   "file_extension": ".py",
   "mimetype": "text/x-python",
   "name": "python",
   "nbconvert_exporter": "python",
   "pygments_lexer": "ipython3",
   "version": "3.8.13"
  }
 },
 "nbformat": 4,
 "nbformat_minor": 5
}
