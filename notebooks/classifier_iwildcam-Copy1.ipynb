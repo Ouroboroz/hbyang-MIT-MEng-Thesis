{
 "cells": [
  {
   "cell_type": "code",
   "execution_count": 1,
   "id": "b5c2c8bd-e564-4281-b583-c6549147d042",
   "metadata": {},
   "outputs": [],
   "source": [
    "import os\n",
    "import numpy as np\n",
    "from sklearn.neural_network import MLPClassifier\n",
    "from sklearn.linear_model import LogisticRegression\n",
    "from sklearn.metrics import balanced_accuracy_score"
   ]
  },
  {
   "cell_type": "code",
   "execution_count": 2,
   "id": "efdc2147-2862-4ed0-ac8d-5518f68ae394",
   "metadata": {},
   "outputs": [],
   "source": [
    "rng = np.random.default_rng(2022)"
   ]
  },
  {
   "cell_type": "code",
   "execution_count": 3,
   "id": "e0be6a7d-19da-4200-8878-92468a6fdd9f",
   "metadata": {},
   "outputs": [
    {
     "name": "stdout",
     "output_type": "stream",
     "text": [
      "deepCORAL\n",
      "ERM\n",
      "groupDRO\n",
      "IRM\n"
     ]
    }
   ],
   "source": [
    "os.system('ls /dccstor/hoo-misha-1/wilds/wilds/features/camelyon17/')\n",
    "model = 'IRM'"
   ]
  },
  {
   "cell_type": "code",
   "execution_count": 4,
   "id": "e40ed020-6114-4f12-a294-007f12477bec",
   "metadata": {},
   "outputs": [
    {
     "name": "stdout",
     "output_type": "stream",
     "text": [
      "densenet121_id_val_features.npy\n",
      "densenet121_id_val_labels.npy\n",
      "densenet121_id_val_metadata.npy\n",
      "densenet121_test_features.npy\n",
      "densenet121_test_labels.npy\n",
      "densenet121_test_metadata.npy\n"
     ]
    },
    {
     "data": {
      "text/plain": [
       "0"
      ]
     },
     "execution_count": 4,
     "metadata": {},
     "output_type": "execute_result"
    }
   ],
   "source": [
    "path_base = f'/dccstor/hoo-misha-1/wilds/wilds/features/camelyon17/{model}'\n",
    "os.system('ls /dccstor/hoo-misha-1/wilds/wilds/features/camelyon17/ERM')"
   ]
  },
  {
   "cell_type": "code",
   "execution_count": 5,
   "id": "fa524084-821a-41a5-9d81-c1e237e4ed09",
   "metadata": {},
   "outputs": [],
   "source": [
    "def load_flm():\n",
    "    test_features = np.load(f'{path_base}/densenet121_test_features.npy')\n",
    "    test_labels = np.load(f'{path_base}/densenet121_test_labels.npy')\n",
    "    test_metadata = np.load(f'{path_base}/densenet121_test_metadata.npy')\n",
    "    return test_features, test_labels, test_metadata"
   ]
  },
  {
   "cell_type": "code",
   "execution_count": 6,
   "id": "841da4c0-abd1-437a-8a57-0d9613fe7df8",
   "metadata": {},
   "outputs": [],
   "source": [
    "def prune_cam_id(cutoff=50):\n",
    "    metadata = np.load(f'{path_base}/densenet121_test_metadata.npy')\n",
    "    unique_counts = np.unique(metadata[:,0],return_counts=True)\n",
    "    return unique_counts[0][unique_counts[1] > cutoff]"
   ]
  },
  {
   "cell_type": "code",
   "execution_count": 7,
   "id": "0767a2a9-a753-4548-9c3a-b0d0cf766d63",
   "metadata": {},
   "outputs": [],
   "source": [
    "def get_cam_ind(metadata, num_cams=1, cam_id = None):\n",
    "    unique_counts = np.unique(metadata[:,0],return_counts=True)\n",
    "    if cam_id is None:\n",
    "        top_id = unique_counts[0][np.argpartition(unique_counts[1], -num_cams)[-num_cams:]]\n",
    "    else:\n",
    "        top_id = cam_id\n",
    "    print(f'Selecting cameras with ids {top_id}')\n",
    "    ind = np.zeros(metadata.shape[0]) == 1\n",
    "    for c_id in top_id:\n",
    "        ind = np.logical_or(ind,metadata[:,0] == c_id)\n",
    "    return ind"
   ]
  },
  {
   "cell_type": "code",
   "execution_count": 8,
   "id": "d2471854-55a3-4e65-ac93-daaa4a0220ea",
   "metadata": {},
   "outputs": [],
   "source": [
    "def cam_flm(num_cams=1, cam_id = None):\n",
    "    features, labels, metadata = load_flm()\n",
    "    cam_ind = get_cam_ind(metadata, num_cams, cam_id)\n",
    "    return features[cam_ind], labels[cam_ind], metadata[cam_ind]"
   ]
  },
  {
   "cell_type": "code",
   "execution_count": 9,
   "id": "daa3c85d-958a-4228-b298-71bf19ad1dda",
   "metadata": {},
   "outputs": [],
   "source": [
    "def prune_flm(features, labels, metadata, cutoff=25):\n",
    "    return features, labels, metadata\n",
    "    unique_counts = np.unique(labels,return_counts=True)\n",
    "    print(f'|   | Total number of classes {len(unique_counts[0])}')\n",
    "    prune_classes = unique_counts[0][unique_counts[1] < cutoff]\n",
    "    prune_ind = []\n",
    "    for clss in prune_classes:\n",
    "        prune_ind.append((labels == clss).nonzero()[0])\n",
    "    print(f'|   |   | Pruning {len(prune_classes)} classes with {len(np.concatenate(prune_ind))} data points')\n",
    "    if len(prune_ind) == 0:\n",
    "        return features, labels, metadata\n",
    "    prune_ind = np.concatenate(prune_ind)\n",
    "    pruned_ind = np.ones(labels.shape[0]) == 1\n",
    "    pruned_ind[prune_ind] = False\n",
    "    return features[pruned_ind], labels[pruned_ind], metadata[pruned_ind]"
   ]
  },
  {
   "cell_type": "code",
   "execution_count": 10,
   "id": "15171f91-37ff-4e5d-84cf-6276a96532c4",
   "metadata": {},
   "outputs": [],
   "source": [
    "def balanced_sample_ind(labels, batch = 5):\n",
    "    unique_classes = np.unique(labels)\n",
    "    #print(unique_classes)\n",
    "    ret_ind = None\n",
    "    for clss in unique_classes:\n",
    "        class_ind = np.where(labels == clss)[0]\n",
    "        #print(clss, class_ind)\n",
    "        rand_ind = rng.choice(class_ind,batch)\n",
    "        if ret_ind is None:\n",
    "            ret_ind = rand_ind\n",
    "        else:\n",
    "            ret_ind = np.concatenate((ret_ind, rand_ind))\n",
    "    return ret_ind"
   ]
  },
  {
   "cell_type": "code",
   "execution_count": 11,
   "id": "61c42404-6220-4820-9f3d-5fe0dac58112",
   "metadata": {},
   "outputs": [],
   "source": [
    "def get_prediction_accuracy(num_cams=1, largest=True, cam_id = None, cutoff = 25, batch = 5):\n",
    "    f,l,m = cam_flm(num_cams, cam_id)\n",
    "    f,l,m = prune_flm(f,l,m, cutoff)\n",
    "    sampled_ind = balanced_sample_ind(l,batch)\n",
    "    nonsampled_ind = np.ones(l.shape[0]) == 1\n",
    "    nonsampled_ind[sampled_ind] = False\n",
    "    try:\n",
    "        clf = LogisticRegression(random_state=0,max_iter=2000).fit(f[sampled_ind], l[sampled_ind])\n",
    "        predictions = clf.predict(f[nonsampled_ind])\n",
    "    except:\n",
    "        return -1\n",
    "    \n",
    "    return np.sum(predictions == l[nonsampled_ind])/len(predictions)"
   ]
  },
  {
   "cell_type": "code",
   "execution_count": 12,
   "id": "e46f32c8-de70-49c7-9d63-335384116cdd",
   "metadata": {},
   "outputs": [],
   "source": [
    "def get_balanced_accuracy(num_cams=1, largest=True, cam_id = None, cutoff = 25, batch = 5):\n",
    "    f,l,m = cam_flm(num_cams, cam_id)\n",
    "    f,l,m = prune_flm(f,l,m, cutoff)\n",
    "    sampled_ind = balanced_sample_ind(l,batch)\n",
    "    nonsampled_ind = np.ones(l.shape[0]) == 1\n",
    "    nonsampled_ind[sampled_ind] = False\n",
    "    try:\n",
    "        clf = LogisticRegression(random_state=0,max_iter=2000).fit(f[sampled_ind], l[sampled_ind])\n",
    "        predictions = clf.predict(f[nonsampled_ind])\n",
    "    except Exception as e:\n",
    "        #print(e)\n",
    "        return -1\n",
    "    \n",
    "    return balanced_accuracy_score(l[nonsampled_ind], predictions)#, f1_score(l[nonsampled_ind], predictions,average='macro')"
   ]
  },
  {
   "cell_type": "code",
   "execution_count": 13,
   "id": "1303aee7-c040-45d4-9dfb-38a44b649e84",
   "metadata": {},
   "outputs": [],
   "source": [
    "def get_original_accuracy(num_cams=1, largest=True, cam_id = None, cutoff = 25):\n",
    "    f,l,m = cam_flm(num_cams, cam_id)\n",
    "    f,l,m = prune_flm(f,l,m, cutoff)\n",
    "    weight = np.load(f'/dccstor/hoo-misha-1/wilds/WOODS/camelyon17_{model}_classifier_weight.npy')\n",
    "    print(f.shape,weight.shape)\n",
    "    bias = np.load(f'/dccstor/hoo-misha-1/wilds/WOODS/camelyon17_{model}_classifier_bias.npy')\n",
    "    pred_logits = f @ weight.T + bias\n",
    "    pred = np.argmax(pred_logits,axis=1)\n",
    "    return np.sum(pred == l)/len(pred)"
   ]
  },
  {
   "cell_type": "code",
   "execution_count": 37,
   "id": "8cdaa660-99f5-4193-9b27-8587c374a3f9",
   "metadata": {},
   "outputs": [],
   "source": [
    "def get_balanced_original_accuracy(num_cams=1, largest=True, cam_id = None, cutoff = 25):\n",
    "    f,l,m = cam_flm(num_cams, cam_id)\n",
    "    f,l,m = prune_flm(f,l,m, cutoff)\n",
    "    weight = np.load('/dccstor/hoo-misha-1/wilds/WOODS/camelyon17_ERM_classifier_weight.npy')\n",
    "    bias = np.load('/dccstor/hoo-misha-1/wilds/WOODS/camelyon17_ERM_classifier_bias.npy')\n",
    "    pred_logits = f @ weight.T + bias\n",
    "    pred = np.argmax(pred_logits,axis=1)\n",
    "    return balanced_accuracy_score(l, pred)"
   ]
  },
  {
   "cell_type": "code",
   "execution_count": 41,
   "id": "77c62cb1-5507-4c27-a62f-9eaab373079e",
   "metadata": {
    "scrolled": true,
    "tags": []
   },
   "outputs": [
    {
     "name": "stdout",
     "output_type": "stream",
     "text": [
      "Total 1 to check\n",
      "| Cam ID 2\n",
      "Selecting cameras with ids [2]\n",
      "(85054, 1024) (2, 1024)\n",
      "Selecting cameras with ids [2]\n",
      "|   | 0.5867448914807064\n",
      "Selecting cameras with ids [2]\n",
      "|   | 1\n",
      "Selecting cameras with ids [2]\n",
      "Selecting cameras with ids [2]\n",
      "Selecting cameras with ids [2]\n",
      "Selecting cameras with ids [2]\n",
      "Selecting cameras with ids [2]\n",
      "Selecting cameras with ids [2]\n",
      "|   | 0.5371297994763494\n",
      "|   | 2\n",
      "Selecting cameras with ids [2]\n",
      "Selecting cameras with ids [2]\n",
      "Selecting cameras with ids [2]\n",
      "Selecting cameras with ids [2]\n",
      "Selecting cameras with ids [2]\n",
      "Selecting cameras with ids [2]\n",
      "|   | 0.5092226768888262\n",
      "|   | 3\n",
      "Selecting cameras with ids [2]\n",
      "Selecting cameras with ids [2]\n",
      "Selecting cameras with ids [2]\n",
      "Selecting cameras with ids [2]\n",
      "Selecting cameras with ids [2]\n",
      "Selecting cameras with ids [2]\n",
      "|   | 0.4663389931486446\n",
      "|   | 4\n",
      "Selecting cameras with ids [2]\n",
      "Selecting cameras with ids [2]\n",
      "Selecting cameras with ids [2]\n",
      "Selecting cameras with ids [2]\n",
      "Selecting cameras with ids [2]\n",
      "Selecting cameras with ids [2]\n",
      "|   | 0.5284127432074378\n",
      "|   | 5\n",
      "Selecting cameras with ids [2]\n",
      "Selecting cameras with ids [2]\n",
      "Selecting cameras with ids [2]\n",
      "Selecting cameras with ids [2]\n",
      "Selecting cameras with ids [2]\n",
      "Selecting cameras with ids [2]\n",
      "|   | 0.4377302729567439\n",
      "|   | 6\n",
      "Selecting cameras with ids [2]\n",
      "Selecting cameras with ids [2]\n",
      "Selecting cameras with ids [2]\n",
      "Selecting cameras with ids [2]\n",
      "Selecting cameras with ids [2]\n",
      "Selecting cameras with ids [2]\n",
      "|   | 0.5338373861373721\n",
      "|   | 7\n",
      "Selecting cameras with ids [2]\n",
      "Selecting cameras with ids [2]\n",
      "Selecting cameras with ids [2]\n",
      "Selecting cameras with ids [2]\n",
      "Selecting cameras with ids [2]\n",
      "Selecting cameras with ids [2]\n",
      "|   | 0.5125072511484251\n",
      "|   | 8\n",
      "Selecting cameras with ids [2]\n",
      "Selecting cameras with ids [2]\n",
      "Selecting cameras with ids [2]\n",
      "Selecting cameras with ids [2]\n",
      "Selecting cameras with ids [2]\n",
      "Selecting cameras with ids [2]\n",
      "|   | 0.5514831538184156\n",
      "|   | 9\n",
      "Selecting cameras with ids [2]\n",
      "Selecting cameras with ids [2]\n",
      "Selecting cameras with ids [2]\n",
      "Selecting cameras with ids [2]\n",
      "Selecting cameras with ids [2]\n",
      "Selecting cameras with ids [2]\n",
      "|   | 0.5368083972218304\n",
      "|   | 10\n",
      "Selecting cameras with ids [2]\n",
      "Selecting cameras with ids [2]\n",
      "Selecting cameras with ids [2]\n",
      "Selecting cameras with ids [2]\n",
      "Selecting cameras with ids [2]\n",
      "Selecting cameras with ids [2]\n",
      "|   | 0.5382978223037487\n",
      "|   | 11\n",
      "Selecting cameras with ids [2]\n",
      "Selecting cameras with ids [2]\n",
      "Selecting cameras with ids [2]\n",
      "Selecting cameras with ids [2]\n",
      "Selecting cameras with ids [2]\n",
      "Selecting cameras with ids [2]\n",
      "|   | 0.5408847184986595\n",
      "|   | 12\n",
      "Selecting cameras with ids [2]\n",
      "Selecting cameras with ids [2]\n",
      "Selecting cameras with ids [2]\n",
      "Selecting cameras with ids [2]\n",
      "Selecting cameras with ids [2]\n",
      "Selecting cameras with ids [2]\n",
      "|   | 0.5832706206983052\n",
      "|   | 13\n",
      "Selecting cameras with ids [2]\n",
      "Selecting cameras with ids [2]\n",
      "Selecting cameras with ids [2]\n",
      "Selecting cameras with ids [2]\n",
      "Selecting cameras with ids [2]\n",
      "Selecting cameras with ids [2]\n",
      "|   | 0.49216875970086077\n",
      "|   | 14\n",
      "Selecting cameras with ids [2]\n",
      "Selecting cameras with ids [2]\n",
      "Selecting cameras with ids [2]\n",
      "Selecting cameras with ids [2]\n",
      "Selecting cameras with ids [2]\n",
      "Selecting cameras with ids [2]\n",
      "|   | 0.5562728313186899\n",
      "|   | 15\n",
      "Selecting cameras with ids [2]\n",
      "Selecting cameras with ids [2]\n",
      "Selecting cameras with ids [2]\n",
      "Selecting cameras with ids [2]\n",
      "Selecting cameras with ids [2]\n",
      "Selecting cameras with ids [2]\n",
      "|   | 0.6005165953310443\n",
      "|   | 16\n",
      "Selecting cameras with ids [2]\n",
      "Selecting cameras with ids [2]\n",
      "Selecting cameras with ids [2]\n",
      "Selecting cameras with ids [2]\n",
      "Selecting cameras with ids [2]\n",
      "Selecting cameras with ids [2]\n",
      "|   | 0.4802102441089318\n",
      "|   | 17\n",
      "Selecting cameras with ids [2]\n",
      "Selecting cameras with ids [2]\n",
      "Selecting cameras with ids [2]\n",
      "Selecting cameras with ids [2]\n",
      "Selecting cameras with ids [2]\n",
      "Selecting cameras with ids [2]\n",
      "|   | 0.5183669629838672\n",
      "|   | 18\n",
      "Selecting cameras with ids [2]\n",
      "Selecting cameras with ids [2]\n",
      "Selecting cameras with ids [2]\n",
      "Selecting cameras with ids [2]\n",
      "Selecting cameras with ids [2]\n",
      "Selecting cameras with ids [2]\n",
      "|   | 0.5513851653261841\n",
      "|   | 19\n",
      "Selecting cameras with ids [2]\n",
      "Selecting cameras with ids [2]\n",
      "Selecting cameras with ids [2]\n",
      "Selecting cameras with ids [2]\n",
      "Selecting cameras with ids [2]\n",
      "Selecting cameras with ids [2]\n",
      "|   | 0.49474389727670376\n",
      "|   | 20\n",
      "Selecting cameras with ids [2]\n",
      "Selecting cameras with ids [2]\n",
      "Selecting cameras with ids [2]\n",
      "Selecting cameras with ids [2]\n",
      "Selecting cameras with ids [2]\n",
      "Selecting cameras with ids [2]\n",
      "|   | 0.45686154618001656\n",
      "|   | 21\n",
      "Selecting cameras with ids [2]\n",
      "Selecting cameras with ids [2]\n",
      "Selecting cameras with ids [2]\n",
      "Selecting cameras with ids [2]\n",
      "Selecting cameras with ids [2]\n",
      "Selecting cameras with ids [2]\n",
      "|   | 0.5690505307056739\n",
      "|   | 22\n",
      "Selecting cameras with ids [2]\n",
      "Selecting cameras with ids [2]\n",
      "Selecting cameras with ids [2]\n",
      "Selecting cameras with ids [2]\n",
      "Selecting cameras with ids [2]\n",
      "Selecting cameras with ids [2]\n",
      "|   | 0.4807589796654281\n",
      "|   | 23\n",
      "Selecting cameras with ids [2]\n",
      "Selecting cameras with ids [2]\n",
      "Selecting cameras with ids [2]\n",
      "Selecting cameras with ids [2]\n",
      "Selecting cameras with ids [2]\n",
      "Selecting cameras with ids [2]\n",
      "|   | 0.5413511437216812\n",
      "|   | 24\n",
      "Selecting cameras with ids [2]\n",
      "Selecting cameras with ids [2]\n",
      "Selecting cameras with ids [2]\n",
      "Selecting cameras with ids [2]\n",
      "Selecting cameras with ids [2]\n",
      "Selecting cameras with ids [2]\n",
      "|   | 0.4226635623912327\n"
     ]
    }
   ],
   "source": [
    "# cam_ids = prune_cam_id()\n",
    "# print(f'Total {len(cam_ids)} to check')\n",
    "# cam_dict = {}\n",
    "# orig_dict = {}\n",
    "# cutoff = 5000\n",
    "# for cam_id in cam_ids:\n",
    "#     print(f'| Cam ID {cam_id}')\n",
    "#     cam_dict[cam_id] = []\n",
    "#     orig_dict[cam_id] = get_original_accuracy(cam_id=[cam_id], cutoff=cutoff)\n",
    "#     print(f'|   | {orig_dict[cam_id]}')\n",
    "#     for batch in range(1,cutoff,100):\n",
    "#         print(f'|   | {batch}')\n",
    "#         prediction_acc = 0\n",
    "#         for i in range(3):\n",
    "#             prediction_acc += get_prediction_accuracy(cam_id = [cam_id], cutoff=cutoff, batch=batch)\n",
    "#         prediction_acc /= 3\n",
    "#         print(f'|   | {prediction_acc}')\n",
    "#         cam_dict[cam_id].append(prediction_acc)\n",
    "\n",
    "cam_ids = prune_cam_id()\n",
    "print(f'Total {len(cam_ids)} to check')\n",
    "cam_dict = {}\n",
    "ba_cam_dict = {}\n",
    "orig_dict = {}\n",
    "ba_orig_dict = {}\n",
    "cutoff = 25\n",
    "for cam_id in cam_ids:\n",
    "    print(f'| Cam ID {cam_id}')\n",
    "    cam_dict[cam_id] = []\n",
    "    ba_cam_dict[cam_id] = []\n",
    "    orig_dict[cam_id] = get_original_accuracy(cam_id=[cam_id], cutoff=cutoff)\n",
    "    ba_orig_dict[cam_id] = get_balanced_original_accuracy(cam_id=[cam_id], cutoff=cutoff)\n",
    "    print(f'|   | {orig_dict[cam_id]}')\n",
    "    f,l,m = cam_flm(1, [cam_id])\n",
    "    f,l,m = prune_flm(f,l,m, cutoff)\n",
    "    # sampled_ind_full = kmeans_closest_classes_sample_ind(f,l,batch=cutoff)\n",
    "    unique_classes = np.unique(l)\n",
    "    num_classes = len(unique_classes)\n",
    "    for batch in range(1,cutoff):\n",
    "        print(f'|   | {batch}')\n",
    "        ba_prediction_acc = 0\n",
    "        prediction_acc = 0\n",
    "        for i in range(3):\n",
    "            prediction_acc += get_prediction_accuracy(cam_id = [cam_id], cutoff=cutoff)#, batch=batch)\n",
    "            ba_prediction_acc += get_balanced_accuracy(cam_id = [cam_id], cutoff=cutoff)\n",
    "        prediction_acc /= 3\n",
    "        ba_prediction_acc /= 3\n",
    "        print(f'|   | {prediction_acc}')\n",
    "        cam_dict[cam_id].append(prediction_acc)\n",
    "        ba_cam_dict[cam_id].append(ba_prediction_acc)"
   ]
  },
  {
   "cell_type": "code",
   "execution_count": null,
   "id": "7b39c1f5-f250-4d68-8b28-b23b258d9b3a",
   "metadata": {},
   "outputs": [],
   "source": [
    "import pickle\n",
    "\n",
    "def get_dict(model):\n",
    "    root_path = '/dccstor/hoo-misha-1/wilds/WOODS/notebooks/data/camelyon17'\n",
    "    base_path = f'{root_path}_{model}'\n",
    "    \n",
    "    with open(f'{base_path}_cam_dict.pkl','rb') as file:\n",
    "        cam_dict = pickle.load(file)\n",
    "\n",
    "    with open(f'{base_path}_orig_dict.pkl','rb') as file:\n",
    "        orig_dict = pickle.load(file)\n",
    "    \n",
    "    return cam_dict, orig_dict"
   ]
  },
  {
   "cell_type": "code",
   "execution_count": 43,
   "id": "734dbc18-42dd-4b7a-a0b6-d51babc21a5a",
   "metadata": {},
   "outputs": [],
   "source": [
    "cam_dict, orig_dict = get_dict('ERM')"
   ]
  },
  {
   "cell_type": "code",
   "execution_count": 44,
   "id": "5eb72f18-34e4-40aa-9df4-c011023c35e0",
   "metadata": {},
   "outputs": [],
   "source": [
    "cam_ids = prune_cam_id()"
   ]
  },
  {
   "cell_type": "code",
   "execution_count": 45,
   "id": "e3631bf3-2704-43b5-86be-71e16a64685e",
   "metadata": {},
   "outputs": [
    {
     "data": {
      "application/vnd.jupyter.widget-view+json": {
       "model_id": "b047b3d9218f4f1f8b4d86296dc15785",
       "version_major": 2,
       "version_minor": 0
      },
      "text/plain": [
       "interactive(children=(IntSlider(value=0, description='cam_ind', max=0), Output()), _dom_classes=('widget-inter…"
      ]
     },
     "metadata": {},
     "output_type": "display_data"
    }
   ],
   "source": [
    "from ipywidgets import interact, interactive, fixed, interact_manual\n",
    "import matplotlib.pyplot as plt\n",
    "\n",
    "def plot(cam_ind):\n",
    "    predictions = cam_dict[cam_ids[cam_ind]]\n",
    "    print(f'Original {orig_dict[cam_ids[cam_ind]]}')\n",
    "    print(f'Max {max(predictions)}')\n",
    "    metadata = np.load(f'{path_base}/densenet121_test_metadata.npy')\n",
    "    unique_counts = np.unique(metadata[:,0],return_counts=True)\n",
    "    ind = np.where(unique_counts[0] == cam_ids[cam_ind])\n",
    "    print(f'With {unique_counts[1][ind]} data points pre-pruning')\n",
    "    predictions = np.hstack((orig_dict[cam_ids[cam_ind]] , predictions))\n",
    "    plt.plot(range(0,len(predictions)), predictions)\n",
    "    \n",
    "interact(plot, cam_ind=(0,len(cam_ids)-1));"
   ]
  },
  {
   "cell_type": "code",
   "execution_count": 18,
   "id": "61583041-060c-4d37-bba7-a9f3e26bcd0b",
   "metadata": {},
   "outputs": [
    {
     "data": {
      "application/vnd.jupyter.widget-view+json": {
       "model_id": "d269c5640e3049e8a08c4a078fe82aae",
       "version_major": 2,
       "version_minor": 0
      },
      "text/plain": [
       "interactive(children=(IntSlider(value=0, description='cam_ind', max=1), Output()), _dom_classes=('widget-inter…"
      ]
     },
     "metadata": {},
     "output_type": "display_data"
    }
   ],
   "source": [
    "from ipywidgets import interact, interactive, fixed, interact_manual\n",
    "import matplotlib.pyplot as plt\n",
    "\n",
    "good_inds = []\n",
    "for i in range(len(cam_ids)):\n",
    "    predictions = cam_dict[cam_ids[i]]\n",
    "    if predictions[-1] > 0:\n",
    "        good_inds.append(i)\n",
    "        \n",
    "def plot_2(cam_ind):\n",
    "    cam_ind = good_inds[cam_ind]\n",
    "    print(f'Camera id {cam_ids[cam_ind]}')\n",
    "    predictions = cam_dict[cam_ids[cam_ind]]\n",
    "    print(f'Original {orig_dict[cam_ids[cam_ind]]}')\n",
    "    print(f'Max {max(predictions)}')\n",
    "    metadata = np.load(f'{path_base}/densenet121_test_metadata.npy')\n",
    "    unique_counts = np.unique(metadata[:,0],return_counts=True)\n",
    "    ind = np.where(unique_counts[0] == cam_ids[cam_ind])\n",
    "    print(f'With {unique_counts[1][ind]} data points pre-pruning')\n",
    "    predictions = np.hstack((orig_dict[cam_ids[cam_ind]] , predictions))\n",
    "    plt.plot(range(0,len(predictions)), predictions)\n",
    "\n",
    "\n",
    "interact(plot_2, cam_ind=(0,len(good_inds)));"
   ]
  },
  {
   "cell_type": "code",
   "execution_count": 19,
   "id": "a60dc5b6-3ef8-42e3-996a-b1696cd70054",
   "metadata": {},
   "outputs": [
    {
     "data": {
      "application/vnd.jupyter.widget-view+json": {
       "model_id": "cfbbfb03e27447069b4848e1b2050c6c",
       "version_major": 2,
       "version_minor": 0
      },
      "text/plain": [
       "interactive(children=(IntSlider(value=0, description='cam_ind', max=0), IntSlider(value=25, description='cutof…"
      ]
     },
     "metadata": {},
     "output_type": "display_data"
    }
   ],
   "source": [
    "def print_green(text, green=True, end='\\n'):\n",
    "    print(f'\\x1b[{32 if green else 31}m{text}\\x1b[0m', end=end)\n",
    "def show_dist(cam_ind, cutoff=25):\n",
    "    f,l,m = cam_flm(cam_id=[cam_ids[cam_ind]])\n",
    "    unique_counts = np.unique(l, return_counts=True)\n",
    "    print(f'Total of {sum(unique_counts[1] > cutoff)} classes over cutoff')\n",
    "    print('[',end='')\n",
    "    for y,c in zip(unique_counts[0], unique_counts[1]):\n",
    "        print_green(f'{y}:{c}:{c/sum(unique_counts[1]):.2f}, ', c > cutoff, end='')\n",
    "    print(']')\n",
    "\n",
    "interact(show_dist, cam_ind=(0,len(cam_ids)-1), cutoff=(10,500));"
   ]
  },
  {
   "cell_type": "code",
   "execution_count": 20,
   "id": "aea3aaeb-ecd6-43d4-a009-4ffc54608ab3",
   "metadata": {},
   "outputs": [
    {
     "data": {
      "application/vnd.jupyter.widget-view+json": {
       "model_id": "677e106da2f84b168132a10416e6cbe1",
       "version_major": 2,
       "version_minor": 0
      },
      "text/plain": [
       "interactive(children=(IntSlider(value=2, description='model_ind', max=5), IntSlider(value=0, description='cam_…"
      ]
     },
     "metadata": {},
     "output_type": "display_data"
    }
   ],
   "source": [
    "root_path = '/dccstor/hoo-misha-1/wilds/wilds/features/iwildcam'\n",
    "models = list(os.listdir(root_path))\n",
    "\n",
    "def plot_3(model_ind, cam_ind):\n",
    "    global cam_dict, orig_dict\n",
    "    model = models[model_ind]\n",
    "    print(f'Using {model}')\n",
    "    cam_dict, orig_dict = get_dict(model)\n",
    "    plot_2(cam_ind)\n",
    "\n",
    "interact(plot_3, model_ind=(0,len(models)-1), cam_ind=(0,len(good_inds)-1));\n",
    "\n"
   ]
  },
  {
   "cell_type": "code",
   "execution_count": 21,
   "id": "0acccb69-655a-4eff-8a22-c3ff8d759ff4",
   "metadata": {},
   "outputs": [],
   "source": [
    "import pickle\n",
    "\n",
    "with open('camelyon17_ERM_cam_dict.pkl','wb') as file:\n",
    "    pickle.dump(cam_dict, file)\n",
    "    \n",
    "with open('camelyon17_ERM_orig_dict.pkl','wb') as file:\n",
    "    pickle.dump(orig_dict, file)\n",
    "    \n",
    "with open('ba_camelyon17_ERM_cam_dict.pkl','wb') as file:\n",
    "    pickle.dump(ba_cam_dict, file)\n",
    "    \n",
    "with open('ba_camelyon17_ERM_orig_dict.pkl','wb') as file:\n",
    "    pickle.dump(ba_orig_dict, file)"
   ]
  },
  {
   "cell_type": "code",
   "execution_count": null,
   "id": "f366d97a-7daa-4098-a16f-bf19ab4b48b1",
   "metadata": {},
   "outputs": [],
   "source": []
  }
 ],
 "metadata": {
  "kernelspec": {
   "display_name": "Python 3 (ipykernel)",
   "language": "python",
   "name": "python3"
  },
  "language_info": {
   "codemirror_mode": {
    "name": "ipython",
    "version": 3
   },
   "file_extension": ".py",
   "mimetype": "text/x-python",
   "name": "python",
   "nbconvert_exporter": "python",
   "pygments_lexer": "ipython3",
   "version": "3.8.13"
  }
 },
 "nbformat": 4,
 "nbformat_minor": 5
}
