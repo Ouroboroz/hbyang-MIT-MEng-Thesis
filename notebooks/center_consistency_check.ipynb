{
 "cells": [
  {
   "cell_type": "code",
   "execution_count": 1,
   "id": "914a76dd-bc8a-405c-96df-5be76bca2b37",
   "metadata": {},
   "outputs": [],
   "source": [
    "import sys\n",
    "sys.path.append('/dccstor/hoo-misha-1/wilds/WOODS')\n",
    "#sys.path.append('/dccs|tor/hoo-misha-1/wilds/WOODS/scripts/')\n",
    "sys.path.append('/dccstor/hoo-misha-1/wilds/wilds')\n",
    "import numpy as np\n",
    "import torch\n",
    "import os\n",
    "\n",
    "import argparse\n",
    "\n",
    "from scripts.utils import *"
   ]
  },
  {
   "cell_type": "code",
   "execution_count": 20,
   "id": "1df8ea7a-4557-4f13-b409-d59c9efb1390",
   "metadata": {},
   "outputs": [
    {
     "data": {
      "text/plain": [
       "_StoreAction(option_strings=['--results'], dest='results', nargs=None, const=None, default='/dccstor/hoo-misha-1/wilds/WOODS/results', type=<class 'str'>, choices=None, help='Optional path to store accuracy results', metavar=None)"
      ]
     },
     "execution_count": 20,
     "metadata": {},
     "output_type": "execute_result"
    }
   ],
   "source": [
    "parser = argparse.ArgumentParser()\n",
    "parser.add_argument('--dataset', type=str, default='breeds', help='Dataset name')\n",
    "parser.add_argument('--model', type=str, default=\"deepCORAL\", help=\"Model name to featurize dataset, not all models for a dataset, Default: ERM\")\n",
    "parser.add_argument('--model_name', type=str, help=\"Model name to featurize dataset\")\n",
    "parser.add_argument('--no_rng', action='store_true', help='Toggles fixed RNG generator for consistency, Default: False') \n",
    "parser.add_argument('--cutoff', type=int, default=25, help='Cutoff for number of shots to test, Default: 25')\n",
    "sampling_algorithms_dict = {'iterative':'iterative_kmeans_sample_ind', 'weighted':'weighted_iterative_kmeans_sample_ind', 'dense':'dense'}\n",
    "parser.add_argument('--sampler', type=str, choices=sampling_algorithms_dict.keys(), default='iterative', help='Sampling algorithms to select training data, Default: balanced')\n",
    "parser.add_argument('--precluster', type=bool, default = False)\n",
    "parser.add_argument('--typicality', type=bool, default = False)\n",
    "parser.add_argument('--reset', type=bool, default = False)\n",
    "\n",
    "parser.add_argument('--features', type=str, help='Optional path to featurize data of the dataset/model specified')\n",
    "parser.add_argument('--classifier', type=str, help='Optional path to the original classifier of the dataset/model specified')\n",
    "parser.add_argument('--results', type=str, default='/dccstor/hoo-misha-1/wilds/WOODS/results', help='Optional path to store accuracy results')"
   ]
  },
  {
   "cell_type": "code",
   "execution_count": 21,
   "id": "8be0dd6b-06d5-49f6-a92d-420a946d7b03",
   "metadata": {},
   "outputs": [],
   "source": [
    "config = parser.parse_args('--no_rng'.split())"
   ]
  },
  {
   "cell_type": "code",
   "execution_count": 22,
   "id": "85042f7b-bcb4-4704-ac47-b772fe9756ca",
   "metadata": {},
   "outputs": [],
   "source": [
    "if config.model_name is None:\n",
    "    if config.dataset == 'iwildcam':\n",
    "        config.model_name = 'resnet50'\n",
    "    elif config.dataset == 'camelyon17':\n",
    "        config.model_name = 'densenet121'\n",
    "    elif config.dataset == 'breeds':\n",
    "        config.model_name = 'resnet50'\n",
    "\n",
    "set_model_name(config.model_name)\n",
    "\n",
    "if config.features is None:\n",
    "    config.features = f'/dccstor/hoo-misha-1/wilds/wilds/features/{config.dataset}/{config.model}'\n",
    "\n",
    "set_path_base(config.features)\n",
    "\n",
    "if config.classifier is None:\n",
    "    config.classifier = f'/dccstor/hoo-misha-1/wilds/WOODS/classifiers/{config.dataset}/{config.dataset}_{config.model}_classifier'\n",
    "\n",
    "if config.no_rng:\n",
    "    rng = np.random.default_rng(2022)\n",
    "    random_state = 0\n",
    "else:\n",
    "    rng = np.random.default_rng()\n",
    "    random_state = None\n",
    "set_random_state(rng, random_state)\n",
    "\n",
    "set_original_classifier(config.classifier)\n",
    "\n",
    "set_config(config)"
   ]
  },
  {
   "cell_type": "code",
   "execution_count": 23,
   "id": "a1cf1f8a-f141-4151-b1d3-6de11b9e1b06",
   "metadata": {},
   "outputs": [],
   "source": [
    "f,l,m = cam_flm(1, [0])"
   ]
  },
  {
   "cell_type": "code",
   "execution_count": 24,
   "id": "25d39c39-d614-4f67-befb-6c4fa2e6e721",
   "metadata": {},
   "outputs": [],
   "source": [
    "unique_classes = np.unique(l)\n",
    "num_classes = len(unique_classes)"
   ]
  },
  {
   "cell_type": "code",
   "execution_count": 25,
   "id": "8d0c9cc8-6e44-41ab-9660-f91e1141a34c",
   "metadata": {},
   "outputs": [],
   "source": [
    "feature_centers, centers = iterative_kmeans_sample_ind_helper(f,num_classes,num_shots=25)"
   ]
  },
  {
   "cell_type": "code",
   "execution_count": 26,
   "id": "ab621802-f441-4876-96d2-51274c64e416",
   "metadata": {},
   "outputs": [],
   "source": [
    "feature_centers_1, centers_1 = iterative_kmeans_sample_ind_helper(f,num_classes,num_shots=25)"
   ]
  },
  {
   "cell_type": "code",
   "execution_count": 27,
   "id": "8332fba0-648c-4c0b-bda2-f1682d5aec43",
   "metadata": {},
   "outputs": [
    {
     "data": {
      "text/plain": [
       "False"
      ]
     },
     "execution_count": 27,
     "metadata": {},
     "output_type": "execute_result"
    }
   ],
   "source": [
    "(centers == centers_1).all()"
   ]
  },
  {
   "cell_type": "code",
   "execution_count": 28,
   "id": "910a65ab-0f06-4ea2-a992-9968939e4be2",
   "metadata": {},
   "outputs": [],
   "source": [
    "x = np.random.random((100,2048))"
   ]
  },
  {
   "cell_type": "code",
   "execution_count": 29,
   "id": "e1a60ddb-b103-4c11-9fd1-11d232e7cd5e",
   "metadata": {},
   "outputs": [],
   "source": [
    "kmeans = get_kmeans(x,25)\n",
    "kmeans_1 = get_kmeans(x,25)"
   ]
  },
  {
   "cell_type": "code",
   "execution_count": 30,
   "id": "3415b7e5-7ef5-4b33-8a6b-e5d39a0e91c7",
   "metadata": {},
   "outputs": [],
   "source": [
    "centers = kmeans.cluster_centers_\n",
    "centers_1 = kmeans_1.cluster_centers_"
   ]
  },
  {
   "cell_type": "code",
   "execution_count": 31,
   "id": "110ad7c5-de0d-4042-b3a2-d2e10246e070",
   "metadata": {},
   "outputs": [
    {
     "data": {
      "text/plain": [
       "True"
      ]
     },
     "execution_count": 31,
     "metadata": {},
     "output_type": "execute_result"
    }
   ],
   "source": [
    "(centers == centers).all()"
   ]
  },
  {
   "cell_type": "code",
   "execution_count": 32,
   "id": "ca526a6e-b06e-4bfd-aeac-3b8179352573",
   "metadata": {},
   "outputs": [
    {
     "data": {
      "text/plain": [
       "True"
      ]
     },
     "execution_count": 32,
     "metadata": {},
     "output_type": "execute_result"
    }
   ],
   "source": [
    "(centers_1 == centers_1).all()"
   ]
  },
  {
   "cell_type": "code",
   "execution_count": 33,
   "id": "fb77ff55-9f3f-4645-a9a6-27de39809cac",
   "metadata": {},
   "outputs": [
    {
     "data": {
      "text/plain": [
       "True"
      ]
     },
     "execution_count": 33,
     "metadata": {},
     "output_type": "execute_result"
    }
   ],
   "source": [
    "(centers == centers_1).all()"
   ]
  },
  {
   "cell_type": "code",
   "execution_count": 48,
   "id": "d7d66b54-a264-4a46-90b2-501694db67ad",
   "metadata": {},
   "outputs": [
    {
     "name": "stdout",
     "output_type": "stream",
     "text": [
      "[14953, 3792, 48, 3125, 7299, 16191, 7916, 5028, 11745, 1522, 1995, 6492, 2745, 6841, 15386, 6531, 6328, 12017, 6060, 330, 16343, 5122, 8040, 5136, 9881, 7417, 5137, 7801, 9843, 15223, 2127, 13981, 171, 10015, 4457, 8043, 4730, 2905, 1354, 16366, 7296, 7155, 7315, 16344, 10375, 6335, 5357, 8796, 8520, 14185, 2701, 8916, 8722, 3457, 6632, 2717, 784, 13991, 523, 4193, 13171, 9345, 1631, 12372, 9116, 12312, 9344, 3438, 5504, 805, 13864, 5356, 1058, 7334, 1502, 13534, 11887, 15311]\n"
     ]
    }
   ],
   "source": [
    "sampled_ind_1 = iterative_kmeans_sample_ind(f, l, num_shots=5, n=100)"
   ]
  },
  {
   "cell_type": "code",
   "execution_count": 49,
   "id": "e9ec159e-bffd-4b8e-b4b3-132b3bb86a4c",
   "metadata": {},
   "outputs": [
    {
     "data": {
      "text/plain": [
       "array([14953,  3792,    48,  3125,  7299, 16191,  7916,  5028, 11745,\n",
       "        1522,  1995,  6492,  2745,  6841, 15386,  6531,  6328, 12017,\n",
       "        6060,   330, 16343,  5122,  8040,  5136,  9881,  7417,  5137,\n",
       "        7801,  9843, 15223,  2127, 13981,   171, 10015,  4457,  8043,\n",
       "        4730,  2905,  1354, 16366,  7296,  7155,  7315, 16344, 10375,\n",
       "        6335,  5357,  8796,  8520, 14185,  2701,  8916,  8722,  3457,\n",
       "        6632,  2717,   784, 13991,   523,  4193, 13171,  9345,  1631,\n",
       "       12372,  9116, 12312,  9344,  3438,  5504,   805, 13864,  5356,\n",
       "        1058,  7334,  1502, 13534, 11887, 15311])"
      ]
     },
     "execution_count": 49,
     "metadata": {},
     "output_type": "execute_result"
    }
   ],
   "source": [
    "sampled_ind_1"
   ]
  },
  {
   "cell_type": "code",
   "execution_count": 35,
   "id": "b331d89a-c0ad-43bf-b3f9-35e9734e1242",
   "metadata": {},
   "outputs": [],
   "source": [
    "feature_centers, centers = iterative_kmeans_sample_ind_helper(f,num_classes,num_shots=25)\n",
    "mask = np.ones((feature_centers.shape[0],1))\n",
    "feature_mask = np.zeros((1,f.shape[0]))\n",
    "\n",
    "centers_features_pairwise_dist = e_dist(centers, f)\n",
    "sampled_ind = np.argmin(centers_features_pairwise_dist,1)\n",
    "feature_mask[0,sampled_ind] = np.inf\n",
    "\n",
    "if config.sampler in ['weighted', 'dense']:\n",
    "    center_labels = list(l[sampled_ind])\n",
    "    center_label_uniques, center_label_counts = np.unique(center_labels, return_counts = True)\n",
    "    center_label_count_dict = dict(zip(center_label_uniques, center_label_counts))\n",
    "else:\n",
    "    center_labels = None\n",
    "    center_label_count_dict = None\n",
    "\n",
    "if config.sampler == 'dense':\n",
    "    feature_center_density = e_dist(feature_centers, feature_centers)\n",
    "    gaussian = scipy.stats.norm(0, 1)\n",
    "    feature_center_density = gaussian.pdf(feature_center_density)\n",
    "    feature_center_density = np.sum(feature_center_density, 1, keepdims=True)\n",
    "else:\n",
    "    feature_center_density = None"
   ]
  },
  {
   "cell_type": "code",
   "execution_count": 43,
   "id": "85d3bff1-3ca4-493f-bea5-81adde3ac6e5",
   "metadata": {},
   "outputs": [
    {
     "ename": "ValueError",
     "evalue": "matmul: Input operand 1 has a mismatch in its core dimension 0, with gufunc signature (n?,k),(k,m?)->(n?,m?) (size 1 is different from 2048)",
     "output_type": "error",
     "traceback": [
      "\u001b[0;31m---------------------------------------------------------------------------\u001b[0m",
      "\u001b[0;31mValueError\u001b[0m                                Traceback (most recent call last)",
      "Input \u001b[0;32mIn [43]\u001b[0m, in \u001b[0;36m<cell line: 1>\u001b[0;34m()\u001b[0m\n\u001b[1;32m      1\u001b[0m \u001b[38;5;28;01mfor\u001b[39;00m i \u001b[38;5;129;01min\u001b[39;00m \u001b[38;5;28mrange\u001b[39m(num_classes):\n\u001b[0;32m----> 2\u001b[0m             centers, mask \u001b[38;5;241m=\u001b[39m \u001b[43mprogressive_iterative_kmeans_sample_ind\u001b[49m\u001b[43m(\u001b[49m\u001b[43mfeature_centers\u001b[49m\u001b[43m,\u001b[49m\u001b[43m \u001b[49m\u001b[43mcenters\u001b[49m\u001b[43m,\u001b[49m\u001b[43m \u001b[49m\u001b[43mmask\u001b[49m\u001b[43m,\u001b[49m\u001b[43m \u001b[49m\u001b[43mconfig\u001b[49m\u001b[38;5;241;43m.\u001b[39;49m\u001b[43msampler\u001b[49m\u001b[43m,\u001b[49m\u001b[43m \u001b[49m\u001b[43mcenter_labels\u001b[49m\u001b[43m \u001b[49m\u001b[38;5;241;43m=\u001b[39;49m\u001b[43m \u001b[49m\u001b[43mcenter_labels\u001b[49m\u001b[43m,\u001b[49m\u001b[43m \u001b[49m\u001b[43mcenter_label_count_dict\u001b[49m\u001b[43m \u001b[49m\u001b[38;5;241;43m=\u001b[39;49m\u001b[43m \u001b[49m\u001b[43mcenter_label_count_dict\u001b[49m\u001b[43m,\u001b[49m\u001b[43m \u001b[49m\u001b[43mfeature_center_density\u001b[49m\u001b[43m \u001b[49m\u001b[38;5;241;43m=\u001b[39;49m\u001b[43m \u001b[49m\u001b[43mfeature_center_density\u001b[49m\u001b[43m)\u001b[49m\n\u001b[1;32m      3\u001b[0m             newest_center \u001b[38;5;241m=\u001b[39m centers[[\u001b[38;5;241m-\u001b[39m\u001b[38;5;241m1\u001b[39m]]\n\u001b[1;32m      5\u001b[0m             newest_center_features_pairwise_dist \u001b[38;5;241m=\u001b[39m e_dist(newest_center, f) \u001b[38;5;241m+\u001b[39m feature_mask\n",
      "File \u001b[0;32m/dccstor/hoo-misha-1/wilds/WOODS/scripts/utils.py:227\u001b[0m, in \u001b[0;36mprogressive_iterative_kmeans_sample_ind\u001b[0;34m(config, feature_centers, centers, mask, center_labels, center_label_count_dict, feature_center_density)\u001b[0m\n\u001b[1;32m    226\u001b[0m \u001b[38;5;28;01mdef\u001b[39;00m \u001b[38;5;21mprogressive_iterative_kmeans_sample_ind\u001b[39m(config, feature_centers, centers, mask, center_labels \u001b[38;5;241m=\u001b[39m \u001b[38;5;28;01mNone\u001b[39;00m, center_label_count_dict \u001b[38;5;241m=\u001b[39m \u001b[38;5;28;01mNone\u001b[39;00m, feature_center_density \u001b[38;5;241m=\u001b[39m \u001b[38;5;28;01mNone\u001b[39;00m):\n\u001b[0;32m--> 227\u001b[0m     pairwise_distances \u001b[38;5;241m=\u001b[39m \u001b[43me_dist\u001b[49m\u001b[43m(\u001b[49m\u001b[43mfeature_centers\u001b[49m\u001b[43m,\u001b[49m\u001b[43m \u001b[49m\u001b[43mcenters\u001b[49m\u001b[43m)\u001b[49m\n\u001b[1;32m    228\u001b[0m     pairwise_distances \u001b[38;5;241m=\u001b[39m config\u001b[38;5;241m.\u001b[39mphi_func(pairwise_distances)\n\u001b[1;32m    229\u001b[0m     \u001b[38;5;28;01mif\u001b[39;00m config\u001b[38;5;241m.\u001b[39mweighted:\n",
      "File \u001b[0;32m/dccstor/hoo-misha-1/wilds/WOODS/scripts/utils.py:98\u001b[0m, in \u001b[0;36me_dist\u001b[0;34m(A, B, cosine, eps)\u001b[0m\n\u001b[1;32m     96\u001b[0m A_n \u001b[38;5;241m=\u001b[39m (A\u001b[38;5;241m*\u001b[39m\u001b[38;5;241m*\u001b[39m\u001b[38;5;241m2\u001b[39m)\u001b[38;5;241m.\u001b[39msum(axis\u001b[38;5;241m=\u001b[39m\u001b[38;5;241m1\u001b[39m)\u001b[38;5;241m.\u001b[39mreshape(\u001b[38;5;241m-\u001b[39m\u001b[38;5;241m1\u001b[39m,\u001b[38;5;241m1\u001b[39m)\n\u001b[1;32m     97\u001b[0m B_n \u001b[38;5;241m=\u001b[39m (B\u001b[38;5;241m*\u001b[39m\u001b[38;5;241m*\u001b[39m\u001b[38;5;241m2\u001b[39m)\u001b[38;5;241m.\u001b[39msum(axis\u001b[38;5;241m=\u001b[39m\u001b[38;5;241m1\u001b[39m)\u001b[38;5;241m.\u001b[39mreshape(\u001b[38;5;241m1\u001b[39m,\u001b[38;5;241m-\u001b[39m\u001b[38;5;241m1\u001b[39m)\n\u001b[0;32m---> 98\u001b[0m inner \u001b[38;5;241m=\u001b[39m \u001b[43mA\u001b[49m\u001b[43m \u001b[49m\u001b[38;5;241;43m@\u001b[39;49m\u001b[43m \u001b[49m\u001b[43mB\u001b[49m\u001b[38;5;241;43m.\u001b[39;49m\u001b[43mT\u001b[49m\n\u001b[1;32m     99\u001b[0m \u001b[38;5;28;01mif\u001b[39;00m cosine:\n\u001b[1;32m    100\u001b[0m     \u001b[38;5;28;01mreturn\u001b[39;00m \u001b[38;5;241m1\u001b[39m \u001b[38;5;241m-\u001b[39m inner\u001b[38;5;241m/\u001b[39m(np\u001b[38;5;241m.\u001b[39msqrt(A_n\u001b[38;5;241m*\u001b[39mB_n) \u001b[38;5;241m+\u001b[39m eps)\n",
      "\u001b[0;31mValueError\u001b[0m: matmul: Input operand 1 has a mismatch in its core dimension 0, with gufunc signature (n?,k),(k,m?)->(n?,m?) (size 1 is different from 2048)"
     ]
    }
   ],
   "source": [
    "for i in range(num_classes):\n",
    "            centers, mask = progressive_iterative_kmeans_sample_ind(feature_centers, centers, mask, config.sampler, center_labels = center_labels, center_label_count_dict = center_label_count_dict, feature_center_density = feature_center_density)\n",
    "            newest_center = centers[[-1]]\n",
    "\n",
    "            newest_center_features_pairwise_dist = e_dist(newest_center, f) + feature_mask\n",
    "            newest_ind = np.argmin(newest_center_features_pairwise_dist)\n",
    "\n",
    "            feature_mask[0,newest_ind] = np.inf\n",
    "            sampled_ind = np.append(sampled_ind,newest_ind)\n",
    "\n",
    "            new_center_label = l[newest_ind]\n",
    "            if center_labels is not None:\n",
    "                center_labels.append(new_center_label)\n",
    "                if new_center_label in center_label_count_dict:\n",
    "                    center_label_count_dict[new_center_label] += 1\n",
    "                else:\n",
    "                    center_label_count_dict[new_center_label] = 1"
   ]
  },
  {
   "cell_type": "code",
   "execution_count": 57,
   "id": "4d9f81d5-6acb-47cc-9bb7-b64695025d89",
   "metadata": {},
   "outputs": [
    {
     "data": {
      "text/plain": [
       "array([14953,  3792,    48,  3125,  7299, 16191,  7916,  5028, 11745,\n",
       "        1522,  1995,  6492,  2745,  6841, 15386,  6531,  6328, 12017,\n",
       "        6060,   330, 16343,  5122,  8040,  5136,  9881,  7417])"
      ]
     },
     "execution_count": 57,
     "metadata": {},
     "output_type": "execute_result"
    }
   ],
   "source": [
    "sampled_ind_1"
   ]
  },
  {
   "cell_type": "code",
   "execution_count": 67,
   "id": "db71f2c6-f2eb-48ce-8438-b5708ae62bb8",
   "metadata": {},
   "outputs": [
    {
     "data": {
      "text/plain": [
       "{1522, 1995, 2745, 3125, 5028, 6531, 6841, 7299, 7916, 11745, 14953, 15386}"
      ]
     },
     "execution_count": 67,
     "metadata": {},
     "output_type": "execute_result"
    }
   ],
   "source": [
    "set(sampled_ind_1) & set(sampled_ind)"
   ]
  },
  {
   "cell_type": "code",
   "execution_count": null,
   "id": "88b06ee1-ce65-4155-818c-c87083e19001",
   "metadata": {},
   "outputs": [],
   "source": []
  }
 ],
 "metadata": {
  "kernelspec": {
   "display_name": "Python 3 (ipykernel)",
   "language": "python",
   "name": "python3"
  },
  "language_info": {
   "codemirror_mode": {
    "name": "ipython",
    "version": 3
   },
   "file_extension": ".py",
   "mimetype": "text/x-python",
   "name": "python",
   "nbconvert_exporter": "python",
   "pygments_lexer": "ipython3",
   "version": "3.8.13"
  }
 },
 "nbformat": 4,
 "nbformat_minor": 5
}
