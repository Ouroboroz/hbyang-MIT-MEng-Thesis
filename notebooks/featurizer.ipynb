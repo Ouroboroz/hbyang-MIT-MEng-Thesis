{
 "cells": [
  {
   "cell_type": "code",
   "execution_count": 1,
   "id": "e1f8e3b6-c555-48b9-96c3-75b77ca1a691",
   "metadata": {},
   "outputs": [],
   "source": [
    "import sys\n",
    "sys.path.append('/dccstor/hoo-misha-1/wilds/wilds/examples')\n",
    "import os\n",
    "\n",
    "import numpy as np\n",
    "import torch\n",
    "import torch.optim as optim\n",
    "import torch.nn as nn\n",
    "\n",
    "from transformers import DistilBertModel, DistilBertTokenizerFast\n",
    "from models.bert.distilbert import DistilBertClassifier, DistilBertFeaturizer\n",
    "from configs.datasets import dataset_defaults\n",
    "\n",
    "import wilds\n",
    "from wilds.common.data_loaders import get_train_loader, get_eval_loader\n",
    "from wilds.common.grouper import CombinatorialGrouper\n",
    "from wilds.datasets.unlabeled.wilds_unlabeled_dataset import WILDSPseudolabeledSubset\n",
    "\n",
    "from utils import set_seed, Logger, BatchLogger, log_config, ParseKwargs, load, initialize_wandb, log_group_data, parse_bool, get_model_prefix, move_to\n",
    "from train import train, evaluate, infer_predictions,run_epoch\n",
    "from algorithms.initializer import initialize_algorithm, infer_d_out\n",
    "from transforms import initialize_transform\n",
    "\n",
    "from models.initializer import initialize_model\n",
    "from configs.utils import populate_defaults\n",
    "import configs.supported as supported\n",
    "\n",
    "import torch.multiprocessing\n",
    "\n",
    "import torchvision.transforms as transforms\n",
    "\n",
    "from examples.transforms import initialize_bert_transform\n",
    "\n",
    "from tqdm import tqdm\n",
    "import argparse\n",
    "import copy\n",
    "import re\n",
    "import psutil\n",
    "from collections import defaultdict"
   ]
  },
  {
   "cell_type": "code",
   "execution_count": 2,
   "id": "cb4d13b4-e08c-444e-8e57-687ee303c9f8",
   "metadata": {},
   "outputs": [
    {
     "data": {
      "text/plain": [
       "ParseKwargs(option_strings=['--wandb_kwargs'], dest='wandb_kwargs', nargs='*', const=None, default={}, type=None, choices=None, help='keyword arguments for wandb.init() passed as key1=value1 key2=value2', metavar=None)"
      ]
     },
     "execution_count": 2,
     "metadata": {},
     "output_type": "execute_result"
    }
   ],
   "source": [
    "''' Arg defaults are filled in according to examples/configs/ '''\n",
    "parser = argparse.ArgumentParser()\n",
    "\n",
    "# Required arguments\n",
    "parser.add_argument('-d', '--dataset', choices=wilds.supported_datasets, required=True)\n",
    "parser.add_argument('--algorithm', required=True, choices=supported.algorithms)\n",
    "parser.add_argument('--root_dir', required=True,\n",
    "                    help='The directory where [dataset]/data can be found (or should be downloaded to, if it does not exist).')\n",
    "\n",
    "# Dataset\n",
    "parser.add_argument('--split_scheme', help='Identifies how the train/val/test split is constructed. Choices are dataset-specific.')\n",
    "parser.add_argument('--dataset_kwargs', nargs='*', action=ParseKwargs, default={},\n",
    "                    help='keyword arguments for dataset initialization passed as key1=value1 key2=value2')\n",
    "parser.add_argument('--download', default=False, type=parse_bool, const=True, nargs='?',\n",
    "                    help='If true, tries to download the dataset if it does not exist in root_dir.')\n",
    "parser.add_argument('--frac', type=float, default=1.0,\n",
    "                    help='Convenience parameter that scales all dataset splits down to the specified fraction, for development purposes. Note that this also scales the test set down, so the reported numbers are not comparable with the full test set.')\n",
    "parser.add_argument('--version', default=None, type=str, help='WILDS labeled dataset version number.')\n",
    "\n",
    "# Unlabeled Dataset\n",
    "parser.add_argument('--unlabeled_split', default=None, type=str, choices=wilds.unlabeled_splits,  help='Unlabeled split to use. Some datasets only have some splits available.')\n",
    "parser.add_argument('--unlabeled_version', default=None, type=str, help='WILDS unlabeled dataset version number.')\n",
    "parser.add_argument('--use_unlabeled_y', default=False, type=parse_bool, const=True, nargs='?', \n",
    "                    help='If true, unlabeled loaders will also the true labels for the unlabeled data. This is only available for some datasets. Used for \"fully-labeled ERM experiments\" in the paper. Correct functionality relies on CrossEntropyLoss using ignore_index=-100.')\n",
    "\n",
    "# Loaders\n",
    "parser.add_argument('--loader_kwargs', nargs='*', action=ParseKwargs, default={})\n",
    "parser.add_argument('--unlabeled_loader_kwargs', nargs='*', action=ParseKwargs, default={})\n",
    "parser.add_argument('--train_loader', choices=['standard', 'group'])\n",
    "parser.add_argument('--uniform_over_groups', type=parse_bool, const=True, nargs='?', help='If true, sample examples such that batches are uniform over groups.')\n",
    "parser.add_argument('--distinct_groups', type=parse_bool, const=True, nargs='?', help='If true, enforce groups sampled per batch are distinct.')\n",
    "parser.add_argument('--n_groups_per_batch', type=int)\n",
    "parser.add_argument('--unlabeled_n_groups_per_batch', type=int)\n",
    "parser.add_argument('--batch_size', type=int)\n",
    "parser.add_argument('--unlabeled_batch_size', type=int)\n",
    "parser.add_argument('--eval_loader', choices=['standard'], default='standard')\n",
    "parser.add_argument('--gradient_accumulation_steps', type=int, default=1, help='Number of batches to process before stepping optimizer and schedulers. If > 1, we simulate having a larger effective batch size (though batchnorm behaves differently).')\n",
    "\n",
    "# Model\n",
    "parser.add_argument('--model', choices=supported.models)\n",
    "parser.add_argument('--model_kwargs', nargs='*', action=ParseKwargs, default={},\n",
    "                    help='keyword arguments for model initialization passed as key1=value1 key2=value2')\n",
    "parser.add_argument('--noisystudent_add_dropout', type=parse_bool, const=True, nargs='?', help='If true, adds a dropout layer to the student model of NoisyStudent.')\n",
    "parser.add_argument('--noisystudent_dropout_rate', type=float)\n",
    "parser.add_argument('--pretrained_model_path', default=None, type=str, help='Specify a path to pretrained model weights')\n",
    "parser.add_argument('--load_featurizer_only', default=False, type=parse_bool, const=True, nargs='?', help='If true, only loads the featurizer weights and not the classifier weights.')\n",
    "\n",
    "# NoisyStudent-specific loading\n",
    "parser.add_argument('--teacher_model_path', type=str, help='Path to NoisyStudent teacher model weights. If this is defined, pseudolabels will first be computed for unlabeled data before anything else runs.')\n",
    "\n",
    "# Transforms\n",
    "parser.add_argument('--transform', choices=supported.transforms)\n",
    "parser.add_argument('--additional_train_transform', choices=supported.additional_transforms, help='Optional data augmentations to layer on top of the default transforms.')\n",
    "parser.add_argument('--target_resolution', nargs='+', type=int, help='The input resolution that images will be resized to before being passed into the model. For example, use --target_resolution 224 224 for a standard ResNet.')\n",
    "parser.add_argument('--resize_scale', type=float)\n",
    "parser.add_argument('--max_token_length', type=int)\n",
    "parser.add_argument('--randaugment_n', type=int, help='Number of RandAugment transformations to apply.')\n",
    "\n",
    "# Objective\n",
    "parser.add_argument('--loss_function', choices=supported.losses)\n",
    "parser.add_argument('--loss_kwargs', nargs='*', action=ParseKwargs, default={},\n",
    "                    help='keyword arguments for loss initialization passed as key1=value1 key2=value2')\n",
    "\n",
    "# Algorithm\n",
    "parser.add_argument('--groupby_fields', nargs='+')\n",
    "parser.add_argument('--group_dro_step_size', type=float)\n",
    "parser.add_argument('--coral_penalty_weight', type=float)\n",
    "parser.add_argument('--dann_penalty_weight', type=float)\n",
    "parser.add_argument('--dann_classifier_lr', type=float)\n",
    "parser.add_argument('--dann_featurizer_lr', type=float)\n",
    "parser.add_argument('--dann_discriminator_lr', type=float)\n",
    "parser.add_argument('--afn_penalty_weight', type=float)\n",
    "parser.add_argument('--safn_delta_r', type=float)\n",
    "parser.add_argument('--hafn_r', type=float)\n",
    "parser.add_argument('--use_hafn', default=False, type=parse_bool, const=True, nargs='?')\n",
    "parser.add_argument('--irm_lambda', type=float)\n",
    "parser.add_argument('--irm_penalty_anneal_iters', type=int)\n",
    "parser.add_argument('--self_training_lambda', type=float)\n",
    "parser.add_argument('--self_training_threshold', type=float)\n",
    "parser.add_argument('--pseudolabel_T2', type=float, help='Percentage of total iterations at which to end linear scheduling and hold lambda at the max value')\n",
    "parser.add_argument('--soft_pseudolabels', default=False, type=parse_bool, const=True, nargs='?')\n",
    "parser.add_argument('--algo_log_metric')\n",
    "parser.add_argument('--process_pseudolabels_function', choices=supported.process_pseudolabels_functions)\n",
    "\n",
    "# Model selection\n",
    "parser.add_argument('--val_metric')\n",
    "parser.add_argument('--val_metric_decreasing', type=parse_bool, const=True, nargs='?')\n",
    "\n",
    "# Optimization\n",
    "parser.add_argument('--n_epochs', type=int)\n",
    "parser.add_argument('--optimizer', choices=supported.optimizers)\n",
    "parser.add_argument('--lr', type=float)\n",
    "parser.add_argument('--weight_decay', type=float)\n",
    "parser.add_argument('--max_grad_norm', type=float)\n",
    "parser.add_argument('--optimizer_kwargs', nargs='*', action=ParseKwargs, default={},\n",
    "                    help='keyword arguments for optimizer initialization passed as key1=value1 key2=value2')\n",
    "\n",
    "# Scheduler\n",
    "parser.add_argument('--scheduler', choices=supported.schedulers)\n",
    "parser.add_argument('--scheduler_kwargs', nargs='*', action=ParseKwargs, default={},\n",
    "                    help='keyword arguments for scheduler initialization passed as key1=value1 key2=value2')\n",
    "parser.add_argument('--scheduler_metric_split', choices=['train', 'val'], default='val')\n",
    "parser.add_argument('--scheduler_metric_name')\n",
    "\n",
    "# Evaluation\n",
    "parser.add_argument('--process_outputs_function', choices = supported.process_outputs_functions)\n",
    "parser.add_argument('--evaluate_all_splits', type=parse_bool, const=True, nargs='?', default=True)\n",
    "parser.add_argument('--eval_splits', nargs='+', default=[])\n",
    "parser.add_argument('--eval_only', type=parse_bool, const=True, nargs='?', default=False)\n",
    "parser.add_argument('--eval_epoch', default=None, type=int, help='If eval_only is set, then eval_epoch allows you to specify evaluating at a particular epoch. By default, it evaluates the best epoch by validation performance.')\n",
    "\n",
    "# Misc\n",
    "parser.add_argument('--device', type=int, nargs='+', default=[0])\n",
    "parser.add_argument('--seed', type=int, default=0)\n",
    "parser.add_argument('--log_dir', default='./logs')\n",
    "parser.add_argument('--log_every', default=50, type=int)\n",
    "parser.add_argument('--save_step', type=int)\n",
    "parser.add_argument('--save_best', type=parse_bool, const=True, nargs='?', default=True)\n",
    "parser.add_argument('--save_last', type=parse_bool, const=True, nargs='?', default=True)\n",
    "parser.add_argument('--save_pred', type=parse_bool, const=True, nargs='?', default=True)\n",
    "parser.add_argument('--no_group_logging', type=parse_bool, const=True, nargs='?')\n",
    "parser.add_argument('--progress_bar', type=parse_bool, const=True, nargs='?', default=False)\n",
    "parser.add_argument('--resume', type=parse_bool, const=True, nargs='?', default=False, help='Whether to resume from the most recent saved model in the current log_dir.')\n",
    "\n",
    "# Weights & Biases\n",
    "parser.add_argument('--use_wandb', type=parse_bool, const=True, nargs='?', default=False)\n",
    "parser.add_argument('--wandb_api_key_path', type=str,\n",
    "                    help=\"Path to Weights & Biases API Key. If use_wandb is set to True and this argument is not specified, user will be prompted to authenticate.\")\n",
    "parser.add_argument('--wandb_kwargs', nargs='*', action=ParseKwargs, default={},\n",
    "                    help='keyword arguments for wandb.init() passed as key1=value1 key2=value2')"
   ]
  },
  {
   "cell_type": "code",
   "execution_count": 26,
   "id": "0f31678d-ebef-491d-adb0-4583f6712ac4",
   "metadata": {},
   "outputs": [],
   "source": [
    "def update_config(parser, dataset, algorithm, model_path):\n",
    "    global config\n",
    "    print(f'|   Updating config to use algorithm {algorithm} and pretrained model path {model_path}')\n",
    "    config = parser.parse_args((f'--dataset {dataset} '\n",
    "                            f'--algorithm {algorithm} ' \n",
    "                            '--root_dir /dccstor/hoo-misha-1/wilds/wilds/data '\n",
    "                            f'--pretrained_model_path {model_path} '\n",
    "                            #'--eval_only '\n",
    "                            #'--model_kwargs ignore_mismatched_sizes=True ' \n",
    "                            #'--evaluate_all_splits False '\n",
    "                            #'--use_wandb '\n",
    "                            ).split())\n",
    "    config = populate_defaults(config)\n",
    "    \n",
    "    if torch.cuda.is_available():\n",
    "        device_count = torch.cuda.device_count()\n",
    "        if len(config.device) > device_count:\n",
    "            raise ValueError(f\"Specified {len(config.device)} devices, but only {device_count} devices found.\")\n",
    "\n",
    "        config.use_data_parallel = len(config.device) > 1\n",
    "        device_str = \",\".join(map(str, config.device))\n",
    "        os.environ[\"CUDA_VISIBLE_DEVICES\"] = device_str\n",
    "        config.device = torch.device(\"cuda\")\n",
    "    else:\n",
    "        config.use_data_parallel = False\n",
    "        config.device =torch.device(\"cpu\")"
   ]
  },
  {
   "cell_type": "code",
   "execution_count": 27,
   "id": "f60aa554-bd62-471b-afab-2d58a7d11e5b",
   "metadata": {},
   "outputs": [
    {
     "name": "stdout",
     "output_type": "stream",
     "text": [
      "|   Updating config to use algorithm ERM and pretrained model path /dccstor/hoo-misha-1/wilds/wilds/pretrained/camelyon17/camelyon17_ERM.pth\n"
     ]
    }
   ],
   "source": [
    "update_config(parser, 'camelyon17', 'ERM', '/dccstor/hoo-misha-1/wilds/wilds/pretrained/camelyon17/camelyon17_ERM.pth')"
   ]
  },
  {
   "cell_type": "code",
   "execution_count": 28,
   "id": "011c897e-d919-4534-845b-02bce85bf436",
   "metadata": {},
   "outputs": [],
   "source": [
    "# Data\n",
    "full_dataset = wilds.get_dataset(\n",
    "    dataset=config.dataset,\n",
    "    version=config.version,\n",
    "    root_dir=config.root_dir,\n",
    "    download=config.download,\n",
    "    split_scheme=config.split_scheme,\n",
    "    **config.dataset_kwargs)"
   ]
  },
  {
   "cell_type": "code",
   "execution_count": 14,
   "id": "04bea636-4309-4116-8c2f-114e0c7a9eda",
   "metadata": {},
   "outputs": [],
   "source": [
    "def update_transform():\n",
    "    print(f'|   Updating data transforms')\n",
    "    global config, train_transform, eval_transform\n",
    "    train_transform = initialize_transform(\n",
    "        transform_name=config.transform,\n",
    "        config=config,\n",
    "        dataset=full_dataset,\n",
    "        additional_transform_name=config.additional_train_transform,\n",
    "        is_training=True)\n",
    "    eval_transform = initialize_transform(\n",
    "        transform_name=config.transform,\n",
    "        config=config,\n",
    "        dataset=full_dataset,\n",
    "        is_training=False)\n"
   ]
  },
  {
   "cell_type": "code",
   "execution_count": 15,
   "id": "98ce96d8-8bbc-45b8-a66c-d3bf019c9bfb",
   "metadata": {},
   "outputs": [
    {
     "name": "stdout",
     "output_type": "stream",
     "text": [
      "|   Updating data transforms\n"
     ]
    }
   ],
   "source": [
    "update_transform()"
   ]
  },
  {
   "cell_type": "code",
   "execution_count": 16,
   "id": "6feda6aa-2746-4041-947f-65c47a1af6bc",
   "metadata": {},
   "outputs": [],
   "source": [
    "train_grouper = CombinatorialGrouper(\n",
    "    dataset=full_dataset,\n",
    "    groupby_fields=config.groupby_fields\n",
    ")"
   ]
  },
  {
   "cell_type": "code",
   "execution_count": 17,
   "id": "eb43f47e-119f-40f4-9db6-8771876f9894",
   "metadata": {},
   "outputs": [],
   "source": [
    "def prune_dataset(dataset,split='test', cutoff = 25):\n",
    "    dataset_y_array = dataset[split]['dataset'].y_array\n",
    "    unique_counts = dataset_y_array.unique(return_counts=True)\n",
    "    prune_classes = unique_counts[0][unique_counts[1] < cutoff]\n",
    "    prune_ind = []\n",
    "    for clss in prune_classes:\n",
    "        prune_ind.append((dataset_y_array == clss).nonzero(as_tuple=True)[0])\n",
    "    if len(prune_classes > 0):\n",
    "        prune_ind = torch.concat(prune_ind)\n",
    "        pruned_ind = torch.ones(dataset_y_array.shape).bool()\n",
    "        pruned_ind[prune_ind] = False\n",
    "        dataset[split]['dataset'].indices = dataset[split]['dataset'].indices[prune_ind]"
   ]
  },
  {
   "cell_type": "code",
   "execution_count": 18,
   "id": "cff7371e-4a71-4e06-b37f-f30a98aec539",
   "metadata": {},
   "outputs": [],
   "source": [
    "def update_datasets():\n",
    "    global datasets, datasets_pruned\n",
    "    # Configure labeled torch datasets (WILDS dataset splits)\n",
    "    datasets = defaultdict(dict)\n",
    "    for split in full_dataset.split_dict.keys():\n",
    "        if split=='train':\n",
    "            transform = train_transform\n",
    "            verbose = True\n",
    "        elif split == 'val':\n",
    "            transform = eval_transform\n",
    "            verbose = True\n",
    "        else:\n",
    "            transform = eval_transform\n",
    "            verbose = False\n",
    "        # Get subset\n",
    "        datasets[split]['dataset'] = full_dataset.get_subset(\n",
    "            split,\n",
    "            frac=config.frac,\n",
    "            transform=transform)\n",
    "    for split in full_dataset.split_dict.keys():\n",
    "        if split == 'train':\n",
    "            datasets[split]['loader'] = get_train_loader(\n",
    "                loader=config.train_loader,\n",
    "                dataset=datasets[split]['dataset'],\n",
    "                batch_size=config.batch_size,\n",
    "                uniform_over_groups=config.uniform_over_groups,\n",
    "                grouper=train_grouper,\n",
    "                distinct_groups=config.distinct_groups,\n",
    "                n_groups_per_batch=1,\n",
    "                **config.loader_kwargs)\n",
    "\n",
    "        else:\n",
    "            datasets[split]['loader'] = get_eval_loader(\n",
    "                loader=config.eval_loader,\n",
    "                dataset=datasets[split]['dataset'],\n",
    "                grouper=train_grouper,\n",
    "                batch_size=config.batch_size,\n",
    "                **config.loader_kwargs)\n",
    "        # Set fields\n",
    "        datasets[split]['split'] = split\n",
    "        datasets[split]['name'] = full_dataset.split_names[split]\n",
    "        datasets[split]['verbose'] = verbose\n",
    "    \n",
    "    datasets_pruned = copy.deepcopy(datasets)\n",
    "    for split in ['val', 'test']:\n",
    "        prune_dataset(datasets_pruned, split)\n",
    "    for split in datasets_pruned.keys():\n",
    "        if split == 'train':\n",
    "            datasets_pruned[split]['loader'] = get_train_loader(\n",
    "                loader=config.train_loader,\n",
    "                dataset=datasets_pruned[split]['dataset'],\n",
    "                batch_size=config.batch_size,\n",
    "                uniform_over_groups=config.uniform_over_groups,\n",
    "                grouper=train_grouper,\n",
    "                distinct_groups=config.distinct_groups,\n",
    "                n_groups_per_batch=1,\n",
    "                **config.loader_kwargs)\n",
    "\n",
    "        else:\n",
    "            datasets_pruned[split]['loader'] = get_eval_loader(\n",
    "                loader=config.eval_loader,\n",
    "                dataset=datasets_pruned[split]['dataset'],\n",
    "                grouper=train_grouper,\n",
    "                batch_size=config.batch_size,\n",
    "                **config.loader_kwargs)"
   ]
  },
  {
   "cell_type": "code",
   "execution_count": 19,
   "id": "13b3d4f8-8414-48fc-b014-1cb25326b3ed",
   "metadata": {},
   "outputs": [],
   "source": [
    "update_datasets()"
   ]
  },
  {
   "cell_type": "code",
   "execution_count": 38,
   "id": "17c7a4bb-b618-46d1-9f6f-ff0b706ecec8",
   "metadata": {},
   "outputs": [],
   "source": [
    "pretrained_model_path = \"/dccstor/hoo-misha-1/wilds/wilds/pretrained/iwildcam/\""
   ]
  },
  {
   "cell_type": "code",
   "execution_count": 43,
   "id": "604b3f68-0a05-4c47-8b90-0c97cce545b2",
   "metadata": {},
   "outputs": [
    {
     "name": "stdout",
     "output_type": "stream",
     "text": [
      "Found pretrained models for algorithms: PseudoLabel\n",
      "Found pretrained models for algorithms: deepCORAL\n",
      "Found pretrained models for algorithms: DANN\n",
      "Found pretrained models for algorithms: AFN\n",
      "Found pretrained models for algorithms: FixMatch\n",
      "Found pretrained models for algorithms: ERM\n"
     ]
    }
   ],
   "source": [
    "regex_pattern = re.compile(config.dataset+'_(\\w*).pth')\n",
    "\n",
    "model_file_paths = os.listdir(pretrained_model_path)\n",
    "algorithm_names = []\n",
    "for model_path in model_file_paths:\n",
    "    match = re.match(regex_pattern, model_path)\n",
    "    print(f'Found pretrained models for algorithms: {match[1]}')\n",
    "    algorithm_names.append(match[1])"
   ]
  },
  {
   "cell_type": "code",
   "execution_count": 84,
   "id": "78a18d64-bb86-4477-83fb-bf818f6f60dd",
   "metadata": {},
   "outputs": [],
   "source": [
    "def prune_model():\n",
    "    global config, datasets, train_grouper, unlabeled_dataset\n",
    "    print(f'|   Pruning {config.model}')\n",
    "    print(\"|   |   \", end = '')\n",
    "    # Initialize algorithm & load pretrained weights if provided\n",
    "    algorithm = initialize_algorithm(\n",
    "        config=config,\n",
    "        datasets=datasets,\n",
    "        train_grouper=train_grouper,\n",
    "    )\n",
    "    if 'resnet' in config.model:\n",
    "        algorithm.model = next(algorithm.model.children())\n",
    "        for param in algorithm.model.parameters():\n",
    "            param.requires_grad = False\n",
    "        return algorithm.model\n",
    "    raise Exception('New model, no pruning done')"
   ]
  },
  {
   "cell_type": "code",
   "execution_count": 86,
   "id": "98e39b58-4f32-4b0f-8d40-c9b3cc7fb14a",
   "metadata": {
    "scrolled": true,
    "tags": []
   },
   "outputs": [
    {
     "name": "stdout",
     "output_type": "stream",
     "text": [
      "Loading /dccstor/hoo-misha-1/wilds/wilds/pretrained/iwildcam/iwildcam_deepCORAL.pth for algorithm deepCORAL using model resnet50\n",
      "|   Updating config to use algorithm deepCORAL and pretrained model path /dccstor/hoo-misha-1/wilds/wilds/pretrained/iwildcam/iwildcam_deepCORAL.pth\n",
      "|   Updating data transforms\n",
      "|   Pruning resnet50\n",
      "|   |   Initialized model with pretrained weights from /dccstor/hoo-misha-1/wilds/wilds/pretrained/iwildcam/iwildcam_deepCORAL.pth previously trained for 2 epochs with previous val metric 0.2722762855576651 \n",
      "|   Processing train\n"
     ]
    },
    {
     "name": "stderr",
     "output_type": "stream",
     "text": [
      "100%|█████████████████████████████████████████████████████████████████████████████████████████████████████████████████████████████████████████████████████████████████████████████████████████████████████████████████████| 8113/8113 [37:04<00:00,  3.65it/s]\n"
     ]
    },
    {
     "name": "stdout",
     "output_type": "stream",
     "text": [
      "|   |   Features has shape (129808, 2048) and labels has shape (129808,)\n",
      "|   |   |   Features saved to /dccstor/hoo-misha-1/wilds/wilds/features/iwildcam/deepCORAL/resnet50_train_features.npy\n",
      "|   |   |   Labels saved to /dccstor/hoo-misha-1/wilds/wilds/features/iwildcam/deepCORAL/resnet50_train_labels.npy\n",
      "|   |   |    Metadata saved to /dccstor/hoo-misha-1/wilds/wilds/features/iwildcam/deepCORAL/resnet50_train_metadata.npy\n",
      "|   Processing val\n"
     ]
    },
    {
     "name": "stderr",
     "output_type": "stream",
     "text": [
      "100%|███████████████████████████████████████████████████████████████████████████████████████████████████████████████████████████████████████████████████████████████████████████████████████████████████████████████████████| 936/936 [01:28<00:00, 10.58it/s]\n"
     ]
    },
    {
     "name": "stdout",
     "output_type": "stream",
     "text": [
      "|   |   Features has shape (14961, 2048) and labels has shape (14961,)\n",
      "|   |   |   Features saved to /dccstor/hoo-misha-1/wilds/wilds/features/iwildcam/deepCORAL/resnet50_val_features.npy\n",
      "|   |   |   Labels saved to /dccstor/hoo-misha-1/wilds/wilds/features/iwildcam/deepCORAL/resnet50_val_labels.npy\n",
      "|   |   |    Metadata saved to /dccstor/hoo-misha-1/wilds/wilds/features/iwildcam/deepCORAL/resnet50_val_metadata.npy\n",
      "|   Processing test\n"
     ]
    },
    {
     "name": "stderr",
     "output_type": "stream",
     "text": [
      "100%|█████████████████████████████████████████████████████████████████████████████████████████████████████████████████████████████████████████████████████████████████████████████████████████████████████████████████████| 2675/2675 [06:11<00:00,  7.21it/s]\n"
     ]
    },
    {
     "name": "stdout",
     "output_type": "stream",
     "text": [
      "|   |   Features has shape (42791, 2048) and labels has shape (42791,)\n",
      "|   |   |   Features saved to /dccstor/hoo-misha-1/wilds/wilds/features/iwildcam/deepCORAL/resnet50_test_features.npy\n",
      "|   |   |   Labels saved to /dccstor/hoo-misha-1/wilds/wilds/features/iwildcam/deepCORAL/resnet50_test_labels.npy\n",
      "|   |   |    Metadata saved to /dccstor/hoo-misha-1/wilds/wilds/features/iwildcam/deepCORAL/resnet50_test_metadata.npy\n",
      "|   Processing id_val\n"
     ]
    },
    {
     "name": "stderr",
     "output_type": "stream",
     "text": [
      "100%|███████████████████████████████████████████████████████████████████████████████████████████████████████████████████████████████████████████████████████████████████████████████████████████████████████████████████████| 458/458 [00:37<00:00, 12.30it/s]\n"
     ]
    },
    {
     "name": "stdout",
     "output_type": "stream",
     "text": [
      "|   |   Features has shape (7314, 2048) and labels has shape (7314,)\n",
      "|   |   |   Features saved to /dccstor/hoo-misha-1/wilds/wilds/features/iwildcam/deepCORAL/resnet50_id_val_features.npy\n",
      "|   |   |   Labels saved to /dccstor/hoo-misha-1/wilds/wilds/features/iwildcam/deepCORAL/resnet50_id_val_labels.npy\n",
      "|   |   |    Metadata saved to /dccstor/hoo-misha-1/wilds/wilds/features/iwildcam/deepCORAL/resnet50_id_val_metadata.npy\n",
      "|   Processing id_test\n"
     ]
    },
    {
     "name": "stderr",
     "output_type": "stream",
     "text": [
      "100%|███████████████████████████████████████████████████████████████████████████████████████████████████████████████████████████████████████████████████████████████████████████████████████████████████████████████████████| 510/510 [00:42<00:00, 12.06it/s]\n"
     ]
    },
    {
     "name": "stdout",
     "output_type": "stream",
     "text": [
      "|   |   Features has shape (8154, 2048) and labels has shape (8154,)\n",
      "|   |   |   Features saved to /dccstor/hoo-misha-1/wilds/wilds/features/iwildcam/deepCORAL/resnet50_id_test_features.npy\n",
      "|   |   |   Labels saved to /dccstor/hoo-misha-1/wilds/wilds/features/iwildcam/deepCORAL/resnet50_id_test_labels.npy\n",
      "|   |   |    Metadata saved to /dccstor/hoo-misha-1/wilds/wilds/features/iwildcam/deepCORAL/resnet50_id_test_metadata.npy\n",
      "Completed features and labels for deepCORAL\n",
      "Loading /dccstor/hoo-misha-1/wilds/wilds/pretrained/iwildcam/iwildcam_DANN.pth for algorithm deepCORAL using model resnet50\n",
      "|   Updating config to use algorithm DANN and pretrained model path /dccstor/hoo-misha-1/wilds/wilds/pretrained/iwildcam/iwildcam_DANN.pth\n",
      "|   Updating data transforms\n",
      "|   Pruning resnet50\n",
      "|   |   Initialized model with pretrained weights from /dccstor/hoo-misha-1/wilds/wilds/pretrained/iwildcam/iwildcam_DANN.pth previously trained for 1 epochs with previous val metric 0.36872491313728456 \n",
      "|   Processing train\n"
     ]
    },
    {
     "name": "stderr",
     "output_type": "stream",
     "text": [
      "  5%|███████████▍                                                                                                                                                                                                          | 434/8113 [00:35<10:20, 12.38it/s]\n"
     ]
    },
    {
     "ename": "KeyboardInterrupt",
     "evalue": "",
     "output_type": "error",
     "traceback": [
      "\u001b[0;31m---------------------------------------------------------------------------\u001b[0m",
      "\u001b[0;31mKeyboardInterrupt\u001b[0m                         Traceback (most recent call last)",
      "Input \u001b[0;32mIn [86]\u001b[0m, in \u001b[0;36m<cell line: 1>\u001b[0;34m()\u001b[0m\n\u001b[1;32m     24\u001b[0m     features_batch \u001b[38;5;241m=\u001b[39m features_batch[\u001b[38;5;241m0\u001b[39m]\u001b[38;5;241m.\u001b[39mto(\u001b[38;5;124m'\u001b[39m\u001b[38;5;124mcpu\u001b[39m\u001b[38;5;124m'\u001b[39m)\u001b[38;5;241m.\u001b[39mnumpy()\n\u001b[1;32m     25\u001b[0m \u001b[38;5;28;01melse\u001b[39;00m:\n\u001b[0;32m---> 26\u001b[0m     features_batch \u001b[38;5;241m=\u001b[39m \u001b[43mfeatures_batch\u001b[49m\u001b[38;5;241;43m.\u001b[39;49m\u001b[43mto\u001b[49m\u001b[43m(\u001b[49m\u001b[38;5;124;43m'\u001b[39;49m\u001b[38;5;124;43mcpu\u001b[39;49m\u001b[38;5;124;43m'\u001b[39;49m\u001b[43m)\u001b[49m\u001b[38;5;241m.\u001b[39mnumpy()\n\u001b[1;32m     27\u001b[0m y_batch \u001b[38;5;241m=\u001b[39m y_batch\u001b[38;5;241m.\u001b[39mto(\u001b[38;5;124m'\u001b[39m\u001b[38;5;124mcpu\u001b[39m\u001b[38;5;124m'\u001b[39m)\u001b[38;5;241m.\u001b[39mnumpy()\n\u001b[1;32m     28\u001b[0m \u001b[38;5;66;03m#print('h')\u001b[39;00m\n",
      "\u001b[0;31mKeyboardInterrupt\u001b[0m: "
     ]
    }
   ],
   "source": [
    "for algorithm in algorithm_names:\n",
    "    if algorithm in [\"PseudoLabel\"]:\n",
    "        continue\n",
    "    model_path = pretrained_model_path + config.dataset + \"_\" + algorithm + \".pth\"\n",
    "    print(f'Loading {model_path} for algorithm {config.algorithm} using model {config.model}')\n",
    "    update_config(parser, algorithm, model_path)\n",
    "    update_transform()\n",
    "    update_datasets()\n",
    "    model = prune_model()\n",
    "    \n",
    "    for split, dataset in datasets.items():\n",
    "        print(f'|   Processing {split}')\n",
    "        loader = dataset['loader']\n",
    "        features = None\n",
    "        y = None\n",
    "        metadata = None\n",
    "        for X_batch, y_batch , metadata_batch in tqdm(loader):\n",
    "            #print(psutil.virtual_memory()[2])\n",
    "            try:\n",
    "                features_batch = model(X_batch.to(config.device))\n",
    "                #print(features_batch.shape)\n",
    "                if type(features_batch) is tuple:\n",
    "                    #print('is tup')\n",
    "                    features_batch = features_batch[0].to('cpu').numpy()\n",
    "                else:\n",
    "                    features_batch = features_batch.to('cpu').numpy()\n",
    "                y_batch = y_batch.to('cpu').numpy()\n",
    "                #print('h')\n",
    "                if features is None:\n",
    "                    features = features_batch\n",
    "                else:\n",
    "                    features = np.vstack((features, features_batch))\n",
    "                #print(features_batch.device)\n",
    "                if y is None:\n",
    "                    y = y_batch\n",
    "                else:\n",
    "                    y = np.concatenate((y, y_batch))\n",
    "                if metadata is None:\n",
    "                    metadata = metadata_batch\n",
    "                else:\n",
    "                    metadata = np.vstack((metadata,metadata_batch))\n",
    "            except Exception as e:\n",
    "                print(f'|   |   Caught exception {e}')\n",
    "        #features = torch.vstack(features).numpy()\n",
    "        #y = torch.concat(y).numpy()\n",
    "        #metadata = np.vstack(metadata)\n",
    "        print(f'|   |   Features has shape {features.shape} and labels has shape {y.shape}')\n",
    "        save_path_base = f'/dccstor/hoo-misha-1/wilds/wilds/features/{config.dataset}/{config.algorithm}'\n",
    "        if not os.path.exists(save_path_base):\n",
    "            os.makedirs(save_path_base)\n",
    "        features_save_path = f'{save_path_base}/{config.model}_{split}_features.npy'\n",
    "        labels_save_path = f'{save_path_base}/{config.model}_{split}_labels.npy'\n",
    "        metadata_save_path = f'{save_path_base}/{config.model}_{split}_metadata.npy'\n",
    "        np.save(features_save_path, features)\n",
    "        np.save(labels_save_path, y)\n",
    "        np.save(metadata_save_path, metadata)\n",
    "        print(f'|   |   |   Features saved to {features_save_path}')\n",
    "        print(f'|   |   |   Labels saved to {labels_save_path}')\n",
    "        print(f'|   |   |    Metadata saved to {metadata_save_path}')\n",
    "    print(f'Completed features and labels for {config.algorithm}')\n",
    "    "
   ]
  },
  {
   "cell_type": "code",
   "execution_count": null,
   "id": "ca55af87-a1b9-4980-a6fd-2eed6cb0353e",
   "metadata": {},
   "outputs": [],
   "source": []
  },
  {
   "cell_type": "code",
   "execution_count": null,
   "id": "4eadd4ec-ef9c-47b9-be05-2354652f0702",
   "metadata": {},
   "outputs": [],
   "source": [
    "print('All algorithms featurized')"
   ]
  },
  {
   "cell_type": "code",
   "execution_count": null,
   "id": "6b87d825-9842-4d5e-a958-5ef27a4ba93b",
   "metadata": {},
   "outputs": [],
   "source": []
  }
 ],
 "metadata": {
  "kernelspec": {
   "display_name": "Python 3 (ipykernel)",
   "language": "python",
   "name": "python3"
  },
  "language_info": {
   "codemirror_mode": {
    "name": "ipython",
    "version": 3
   },
   "file_extension": ".py",
   "mimetype": "text/x-python",
   "name": "python",
   "nbconvert_exporter": "python",
   "pygments_lexer": "ipython3",
   "version": "3.8.13"
  }
 },
 "nbformat": 4,
 "nbformat_minor": 5
}
